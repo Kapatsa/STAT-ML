{
 "cells": [
  {
   "cell_type": "markdown",
   "id": "united-terrain",
   "metadata": {},
   "source": [
    "# Регрессия, регуляризация, отбор признаков\n",
    "## Елена Гоголева, Дейвид Капаца, Анастасия Мандрикова\n",
    "### Практические примеры к докладу"
   ]
  },
  {
   "cell_type": "code",
   "execution_count": 47,
   "id": "atmospheric-white",
   "metadata": {},
   "outputs": [],
   "source": [
    "library(MASS)\n",
    "library(car)\n",
    "library(Hmisc)\n",
    "library(GGally)\n",
    "library(glmnet)\n",
    "library(psych)\n",
    "library(leaps)\n",
    "library(lm.beta)\n",
    "library(caTools)\n",
    "library(caret)\n",
    "library(boot)\n",
    "set.seed(33)"
   ]
  },
  {
   "cell_type": "markdown",
   "id": "beautiful-billy",
   "metadata": {},
   "source": [
    "### Про данные\n",
    "\n",
    "Измерения обхвата тела и диаметра скелета, а также возраста, веса, роста и пола приведены для 507 физически активных лиц - 247 мужчин и 260 женщин. Пропусков нет.\n",
    "\n",
    "\n",
    "\n",
    "- bia_di - числовой вектор, биакромиальный диаметр респондента в сантиметрах.\n",
    "\n",
    "- bii_di - числовой вектор, диаметр подвздошной кости респондента (ширина таза) в сантиметрах.\n",
    "\n",
    "- bit_di - числовой вектор, битвертельный диаметр респондента в сантиметрах.\n",
    "\n",
    "- che_de - числовой вектор, глубина груди респондента в сантиметрах, измеренная между позвоночником и грудиной на уровне сосков, середина выдоха.\n",
    "\n",
    "- che_di - числовой вектор, диаметр груди респондента в сантиметрах, измеренный на уровне сосков, середина выдоха.\n",
    "\n",
    "- elb_di - числовой вектор, диаметр локтя респондента в сантиметрах, измеренный как сумма двух локтей.\n",
    "\n",
    "- wri_di - числовой вектор, диаметр запястья респондента в сантиметрах, измеренный как сумма двух запястий.\n",
    "\n",
    "- Kne_di - числовой вектор, диаметр колена респондента в сантиметрах, измеренный как сумма двух колен.\n",
    "\n",
    "- ank_di - числовой вектор, диаметр лодыжки респондента в сантиметрах, измеренный как сумма двух лодыжек.\n",
    "\n",
    "- sho_gi - числовой вектор, обхват плеч респондента в сантиметрах, измеренный над дельтовидными мышцами.\n",
    "\n",
    "- che_gi - числовой вектор, обхват груди респондента в сантиметрах, измеренный на линии соска у мужчин и чуть выше ткани груди у женщин, в середине выдоха.\n",
    "\n",
    "- wai_gi - числовой вектор, обхват талии респондента в сантиметрах, измеренный в самой узкой части туловища ниже грудной клетки как среднее значение в сжатом и расслабленном положении.\n",
    "\n",
    "- nav_gi - числовой вектор, обхват пупка (брюшной полости) респондента в сантиметрах, измеренный от пупка и гребня подвздошной кости с использованием гребня подвздошной кости в качестве ориентира.\n",
    "\n",
    "- hip_gi - числовой вектор, обхват бедер респондента в сантиметрах, измеренный на уровне битвертельного диаметра.\n",
    "\n",
    "- thi_gi - числовой вектор, обхват бедра респондента в сантиметрах, измеренный ниже ягодичной складки как среднее значение правого и левого обхватов.\n",
    "\n",
    "- bic_gi - числовой вектор, обхват бицепса респондента в сантиметрах, измеренный при сгибании как среднее значение правого и левого обхватов.\n",
    "\n",
    "- for_gi - числовой вектор, обхват предплечья респондента в сантиметрах, измеренный в вытянутом состоянии ладонью вверх как среднее значение правого и левого обхватов.\n",
    "\n",
    "- Kne_gi - числовой вектор, диаметр колена респондента в сантиметрах, измеренный как сумма двух колен.\n",
    "\n",
    "- cal_gi - числовой вектор, максимальный обхват икр респондента в сантиметрах, измеренный как среднее значение правого и левого обхватов.\n",
    "\n",
    "- ank_gi - числовой вектор, минимальный обхват щиколотки респондента в сантиметрах, измеренный как среднее значение правого и левого обхватов.\n",
    "\n",
    "- wri_gi - числовой вектор, минимальный обхват запястья респондента в сантиметрах, измеренный как среднее значение правого и левого обхватов.\n",
    "\n",
    "- age - числовой вектор, возраст респондента в годах.\n",
    "\n",
    "- wgt - числовой вектор, вес респондента в килограммах.\n",
    "\n",
    "- hgt - числовой вектор, рост респондента в сантиметрах.\n",
    "\n",
    "- sex - категориальный вектор, 1, если респондент мужчина, 0, если женщина."
   ]
  },
  {
   "cell_type": "markdown",
   "id": "southeast-phone",
   "metadata": {},
   "source": [
    "Для начала посмотрим как выглядят данные."
   ]
  },
  {
   "cell_type": "code",
   "execution_count": 2,
   "id": "seven-seeker",
   "metadata": {},
   "outputs": [
    {
     "data": {
      "text/html": [
       "<table class=\"dataframe\">\n",
       "<caption>A data.frame: 6 × 25</caption>\n",
       "<thead>\n",
       "\t<tr><th></th><th scope=col>bia_di</th><th scope=col>bii_di</th><th scope=col>bit_di</th><th scope=col>che_de</th><th scope=col>che_di</th><th scope=col>elb_di</th><th scope=col>wri_di</th><th scope=col>kne_di</th><th scope=col>ank_di</th><th scope=col>sho_gi</th><th scope=col>...</th><th scope=col>bic_gi</th><th scope=col>for_gi</th><th scope=col>kne_gi</th><th scope=col>cal_gi</th><th scope=col>ank_gi</th><th scope=col>wri_gi</th><th scope=col>age</th><th scope=col>wgt</th><th scope=col>hgt</th><th scope=col>sex</th></tr>\n",
       "\t<tr><th></th><th scope=col>&lt;dbl&gt;</th><th scope=col>&lt;dbl&gt;</th><th scope=col>&lt;dbl&gt;</th><th scope=col>&lt;dbl&gt;</th><th scope=col>&lt;dbl&gt;</th><th scope=col>&lt;dbl&gt;</th><th scope=col>&lt;dbl&gt;</th><th scope=col>&lt;dbl&gt;</th><th scope=col>&lt;dbl&gt;</th><th scope=col>&lt;dbl&gt;</th><th scope=col>...</th><th scope=col>&lt;dbl&gt;</th><th scope=col>&lt;dbl&gt;</th><th scope=col>&lt;dbl&gt;</th><th scope=col>&lt;dbl&gt;</th><th scope=col>&lt;dbl&gt;</th><th scope=col>&lt;dbl&gt;</th><th scope=col>&lt;int&gt;</th><th scope=col>&lt;dbl&gt;</th><th scope=col>&lt;dbl&gt;</th><th scope=col>&lt;int&gt;</th></tr>\n",
       "</thead>\n",
       "<tbody>\n",
       "\t<tr><th scope=row>1</th><td>42.9</td><td>26.0</td><td>31.5</td><td>17.7</td><td>28.0</td><td>13.1</td><td>10.4</td><td>18.8</td><td>14.1</td><td>106.2</td><td>...</td><td>32.5</td><td>26.0</td><td>34.5</td><td>36.5</td><td>23.5</td><td>16.5</td><td>21</td><td>65.6</td><td>174.0</td><td>1</td></tr>\n",
       "\t<tr><th scope=row>2</th><td>43.7</td><td>28.5</td><td>33.5</td><td>16.9</td><td>30.8</td><td>14.0</td><td>11.8</td><td>20.6</td><td>15.1</td><td>110.5</td><td>...</td><td>34.4</td><td>28.0</td><td>36.5</td><td>37.5</td><td>24.5</td><td>17.0</td><td>23</td><td>71.8</td><td>175.3</td><td>1</td></tr>\n",
       "\t<tr><th scope=row>3</th><td>40.1</td><td>28.2</td><td>33.3</td><td>20.9</td><td>31.7</td><td>13.9</td><td>10.9</td><td>19.7</td><td>14.1</td><td>115.1</td><td>...</td><td>33.4</td><td>28.8</td><td>37.0</td><td>37.3</td><td>21.9</td><td>16.9</td><td>28</td><td>80.7</td><td>193.5</td><td>1</td></tr>\n",
       "\t<tr><th scope=row>4</th><td>44.3</td><td>29.9</td><td>34.0</td><td>18.4</td><td>28.2</td><td>13.9</td><td>11.2</td><td>20.9</td><td>15.0</td><td>104.5</td><td>...</td><td>31.0</td><td>26.2</td><td>37.0</td><td>34.8</td><td>23.0</td><td>16.6</td><td>23</td><td>72.6</td><td>186.5</td><td>1</td></tr>\n",
       "\t<tr><th scope=row>5</th><td>42.5</td><td>29.9</td><td>34.0</td><td>21.5</td><td>29.4</td><td>15.2</td><td>11.6</td><td>20.7</td><td>14.9</td><td>107.5</td><td>...</td><td>32.0</td><td>28.4</td><td>37.7</td><td>38.6</td><td>24.4</td><td>18.0</td><td>22</td><td>78.8</td><td>187.2</td><td>1</td></tr>\n",
       "\t<tr><th scope=row>6</th><td>43.3</td><td>27.0</td><td>31.5</td><td>19.6</td><td>31.3</td><td>14.0</td><td>11.5</td><td>18.8</td><td>13.9</td><td>119.8</td><td>...</td><td>33.0</td><td>28.0</td><td>36.6</td><td>36.1</td><td>23.5</td><td>16.9</td><td>21</td><td>74.8</td><td>181.5</td><td>1</td></tr>\n",
       "</tbody>\n",
       "</table>\n"
      ],
      "text/latex": [
       "A data.frame: 6 × 25\n",
       "\\begin{tabular}{r|lllllllllllllllllllll}\n",
       "  & bia\\_di & bii\\_di & bit\\_di & che\\_de & che\\_di & elb\\_di & wri\\_di & kne\\_di & ank\\_di & sho\\_gi & ... & bic\\_gi & for\\_gi & kne\\_gi & cal\\_gi & ank\\_gi & wri\\_gi & age & wgt & hgt & sex\\\\\n",
       "  & <dbl> & <dbl> & <dbl> & <dbl> & <dbl> & <dbl> & <dbl> & <dbl> & <dbl> & <dbl> & ... & <dbl> & <dbl> & <dbl> & <dbl> & <dbl> & <dbl> & <int> & <dbl> & <dbl> & <int>\\\\\n",
       "\\hline\n",
       "\t1 & 42.9 & 26.0 & 31.5 & 17.7 & 28.0 & 13.1 & 10.4 & 18.8 & 14.1 & 106.2 & ... & 32.5 & 26.0 & 34.5 & 36.5 & 23.5 & 16.5 & 21 & 65.6 & 174.0 & 1\\\\\n",
       "\t2 & 43.7 & 28.5 & 33.5 & 16.9 & 30.8 & 14.0 & 11.8 & 20.6 & 15.1 & 110.5 & ... & 34.4 & 28.0 & 36.5 & 37.5 & 24.5 & 17.0 & 23 & 71.8 & 175.3 & 1\\\\\n",
       "\t3 & 40.1 & 28.2 & 33.3 & 20.9 & 31.7 & 13.9 & 10.9 & 19.7 & 14.1 & 115.1 & ... & 33.4 & 28.8 & 37.0 & 37.3 & 21.9 & 16.9 & 28 & 80.7 & 193.5 & 1\\\\\n",
       "\t4 & 44.3 & 29.9 & 34.0 & 18.4 & 28.2 & 13.9 & 11.2 & 20.9 & 15.0 & 104.5 & ... & 31.0 & 26.2 & 37.0 & 34.8 & 23.0 & 16.6 & 23 & 72.6 & 186.5 & 1\\\\\n",
       "\t5 & 42.5 & 29.9 & 34.0 & 21.5 & 29.4 & 15.2 & 11.6 & 20.7 & 14.9 & 107.5 & ... & 32.0 & 28.4 & 37.7 & 38.6 & 24.4 & 18.0 & 22 & 78.8 & 187.2 & 1\\\\\n",
       "\t6 & 43.3 & 27.0 & 31.5 & 19.6 & 31.3 & 14.0 & 11.5 & 18.8 & 13.9 & 119.8 & ... & 33.0 & 28.0 & 36.6 & 36.1 & 23.5 & 16.9 & 21 & 74.8 & 181.5 & 1\\\\\n",
       "\\end{tabular}\n"
      ],
      "text/markdown": [
       "\n",
       "A data.frame: 6 × 25\n",
       "\n",
       "| <!--/--> | bia_di &lt;dbl&gt; | bii_di &lt;dbl&gt; | bit_di &lt;dbl&gt; | che_de &lt;dbl&gt; | che_di &lt;dbl&gt; | elb_di &lt;dbl&gt; | wri_di &lt;dbl&gt; | kne_di &lt;dbl&gt; | ank_di &lt;dbl&gt; | sho_gi &lt;dbl&gt; | ... ... | bic_gi &lt;dbl&gt; | for_gi &lt;dbl&gt; | kne_gi &lt;dbl&gt; | cal_gi &lt;dbl&gt; | ank_gi &lt;dbl&gt; | wri_gi &lt;dbl&gt; | age &lt;int&gt; | wgt &lt;dbl&gt; | hgt &lt;dbl&gt; | sex &lt;int&gt; |\n",
       "|---|---|---|---|---|---|---|---|---|---|---|---|---|---|---|---|---|---|---|---|---|---|\n",
       "| 1 | 42.9 | 26.0 | 31.5 | 17.7 | 28.0 | 13.1 | 10.4 | 18.8 | 14.1 | 106.2 | ... | 32.5 | 26.0 | 34.5 | 36.5 | 23.5 | 16.5 | 21 | 65.6 | 174.0 | 1 |\n",
       "| 2 | 43.7 | 28.5 | 33.5 | 16.9 | 30.8 | 14.0 | 11.8 | 20.6 | 15.1 | 110.5 | ... | 34.4 | 28.0 | 36.5 | 37.5 | 24.5 | 17.0 | 23 | 71.8 | 175.3 | 1 |\n",
       "| 3 | 40.1 | 28.2 | 33.3 | 20.9 | 31.7 | 13.9 | 10.9 | 19.7 | 14.1 | 115.1 | ... | 33.4 | 28.8 | 37.0 | 37.3 | 21.9 | 16.9 | 28 | 80.7 | 193.5 | 1 |\n",
       "| 4 | 44.3 | 29.9 | 34.0 | 18.4 | 28.2 | 13.9 | 11.2 | 20.9 | 15.0 | 104.5 | ... | 31.0 | 26.2 | 37.0 | 34.8 | 23.0 | 16.6 | 23 | 72.6 | 186.5 | 1 |\n",
       "| 5 | 42.5 | 29.9 | 34.0 | 21.5 | 29.4 | 15.2 | 11.6 | 20.7 | 14.9 | 107.5 | ... | 32.0 | 28.4 | 37.7 | 38.6 | 24.4 | 18.0 | 22 | 78.8 | 187.2 | 1 |\n",
       "| 6 | 43.3 | 27.0 | 31.5 | 19.6 | 31.3 | 14.0 | 11.5 | 18.8 | 13.9 | 119.8 | ... | 33.0 | 28.0 | 36.6 | 36.1 | 23.5 | 16.9 | 21 | 74.8 | 181.5 | 1 |\n",
       "\n"
      ],
      "text/plain": [
       "  bia_di bii_di bit_di che_de che_di elb_di wri_di kne_di ank_di sho_gi ...\n",
       "1 42.9   26.0   31.5   17.7   28.0   13.1   10.4   18.8   14.1   106.2  ...\n",
       "2 43.7   28.5   33.5   16.9   30.8   14.0   11.8   20.6   15.1   110.5  ...\n",
       "3 40.1   28.2   33.3   20.9   31.7   13.9   10.9   19.7   14.1   115.1  ...\n",
       "4 44.3   29.9   34.0   18.4   28.2   13.9   11.2   20.9   15.0   104.5  ...\n",
       "5 42.5   29.9   34.0   21.5   29.4   15.2   11.6   20.7   14.9   107.5  ...\n",
       "6 43.3   27.0   31.5   19.6   31.3   14.0   11.5   18.8   13.9   119.8  ...\n",
       "  bic_gi for_gi kne_gi cal_gi ank_gi wri_gi age wgt  hgt   sex\n",
       "1 32.5   26.0   34.5   36.5   23.5   16.5   21  65.6 174.0 1  \n",
       "2 34.4   28.0   36.5   37.5   24.5   17.0   23  71.8 175.3 1  \n",
       "3 33.4   28.8   37.0   37.3   21.9   16.9   28  80.7 193.5 1  \n",
       "4 31.0   26.2   37.0   34.8   23.0   16.6   23  72.6 186.5 1  \n",
       "5 32.0   28.4   37.7   38.6   24.4   18.0   22  78.8 187.2 1  \n",
       "6 33.0   28.0   36.6   36.1   23.5   16.9   21  74.8 181.5 1  "
      ]
     },
     "metadata": {},
     "output_type": "display_data"
    },
    {
     "data": {
      "image/png": "[encoded data removed]",
      "text/plain": [
       "Plot with title \"\""
      ]
     },
     "metadata": {
      "image/png": {
       "height": 420,
       "width": 420
      }
     },
     "output_type": "display_data"
    },
    {
     "data": {
      "image/png": "[encoded data removed]",
      "text/plain": [
       "Plot with title \"\""
      ]
     },
     "metadata": {
      "image/png": {
       "height": 420,
       "width": 420
      }
     },
     "output_type": "display_data"
    }
   ],
   "source": [
    "df <- read.csv(file = \"bdims.csv\")[-1]\n",
    "head(df)\n",
    "hist.data.frame(df) #гистограммы всех столбцов data.frame\n",
    "                    #в python построить гистограмму можно с помощью matplotlib.pyplot.hist"
   ]
  },
  {
   "cell_type": "markdown",
   "id": "urban-billion",
   "metadata": {},
   "source": [
    "Некоторые признаки очеивдно не обладают симметричностью, примем решение о трансформации на основе коэффициента асимметрии."
   ]
  },
  {
   "cell_type": "code",
   "execution_count": 3,
   "id": "collaborative-smoke",
   "metadata": {},
   "outputs": [
    {
     "data": {
      "text/html": [
       "<style>\n",
       ".list-inline {list-style: none; margin:0; padding: 0}\n",
       ".list-inline>li {display: inline-block}\n",
       ".list-inline>li:not(:last-child)::after {content: \"\\00b7\"; padding: 0 .5ex}\n",
       "</style>\n",
       "<ol class=list-inline><li>'wai_gi'</li><li>'thi_gi'</li><li>'age'</li></ol>\n"
      ],
      "text/latex": [
       "\\begin{enumerate*}\n",
       "\\item 'wai\\_gi'\n",
       "\\item 'thi\\_gi'\n",
       "\\item 'age'\n",
       "\\end{enumerate*}\n"
      ],
      "text/markdown": [
       "1. 'wai_gi'\n",
       "2. 'thi_gi'\n",
       "3. 'age'\n",
       "\n",
       "\n"
      ],
      "text/plain": [
       "[1] \"wai_gi\" \"thi_gi\" \"age\"   "
      ]
     },
     "metadata": {},
     "output_type": "display_data"
    }
   ],
   "source": [
    "names(df)[skew(df) > 0.5]\n",
    "\n",
    "# в python асимметрия вычисляется с помощью scipy.stats.skew"
   ]
  },
  {
   "cell_type": "markdown",
   "id": "seeing-contrast",
   "metadata": {},
   "source": [
    "Применим log к признакамx: обхват талии, обхват бедра, возраст."
   ]
  },
  {
   "cell_type": "code",
   "execution_count": 4,
   "id": "precious-madonna",
   "metadata": {},
   "outputs": [],
   "source": [
    "ind <- skew(df) > 0.5\n",
    "df[,ind] <- log(df[,ind])"
   ]
  },
  {
   "cell_type": "code",
   "execution_count": 5,
   "id": "pressing-intellectual",
   "metadata": {},
   "outputs": [
    {
     "data": {
      "image/png": "[encoded data removed]",
      "text/plain": [
       "Plot with title \"\""
      ]
     },
     "metadata": {
      "image/png": {
       "height": 420,
       "width": 420
      }
     },
     "output_type": "display_data"
    },
    {
     "data": {
      "image/png": "[encoded data removed]",
      "text/plain": [
       "Plot with title \"\""
      ]
     },
     "metadata": {
      "image/png": {
       "height": 420,
       "width": 420
      }
     },
     "output_type": "display_data"
    }
   ],
   "source": [
    "hist.data.frame(df) "
   ]
  },
  {
   "cell_type": "markdown",
   "id": "seventh-promise",
   "metadata": {},
   "source": [
    "Ситуация с симметричностью стала лучше. Продолжим исследование данных"
   ]
  },
  {
   "cell_type": "code",
   "execution_count": 6,
   "id": "cardiac-glory",
   "metadata": {},
   "outputs": [
    {
     "name": "stdout",
     "output_type": "stream",
     "text": [
      " bia_di  bii_di  bit_di  che_de  che_di  elb_di  wri_di  kne_di  ank_di  sho_gi \n",
      " 38.811  27.830  31.980  19.226  27.974  13.385  10.543  18.811  13.863 108.195 \n",
      " che_gi  wai_gi  nav_gi  hip_gi  thi_gi  bic_gi  for_gi  kne_gi  cal_gi  ank_gi \n",
      " 93.334   4.334  85.654  96.681   4.038  31.170  25.943  36.203  36.078  22.157 \n",
      " wri_gi     age     hgt \n",
      " 16.097   3.362 171.144 \n"
     ]
    },
    {
     "data": {
      "image/png": "[encoded data removed]",
      "text/plain": [
       "plot without title"
      ]
     },
     "metadata": {
      "image/png": {
       "height": 420,
       "width": 420
      }
     },
     "output_type": "display_data"
    }
   ],
   "source": [
    "print(colMeans(df[,-c(23, 25)]), digits = 4)\n",
    "boxplot(df[,-c(23, 25)])\n",
    "\n",
    "# в python все векторизовано df.mean()"
   ]
  },
  {
   "cell_type": "markdown",
   "id": "legitimate-recipe",
   "metadata": {},
   "source": [
    "Из графика понятно, что диапазоны значений признаков отличаются. Это может сказаться на качестве предсказания и вкладе конкретных признаков в модель. Стоит использовать стандартизацию. (К весу, как целевой переменной, это преобразование не применяется.)\n",
    "\n",
    "Для стандартизации в python используйте preprocessing.normalize() из sklearn"
   ]
  },
  {
   "cell_type": "code",
   "execution_count": 7,
   "id": "closed-wheat",
   "metadata": {},
   "outputs": [
    {
     "name": "stdout",
     "output_type": "stream",
     "text": [
      "    bia_di     bii_di     bit_di     che_de     che_di     elb_di     wri_di \n",
      "-9.436e-16 -1.466e-16 -6.457e-16 -4.607e-16 -3.055e-16  2.443e-16 -4.187e-16 \n",
      "    kne_di     ank_di     sho_gi     che_gi     wai_gi     nav_gi     hip_gi \n",
      " 6.842e-16 -1.317e-16 -2.310e-17 -3.431e-16  1.241e-16 -6.513e-16 -3.663e-16 \n",
      "    thi_gi     bic_gi     for_gi     kne_gi     cal_gi     ank_gi     wri_gi \n",
      "-5.193e-15 -3.242e-16 -3.195e-16 -1.083e-15 -9.962e-16  5.972e-16  2.777e-16 \n",
      "       age        hgt \n",
      " 4.406e-16  7.255e-16 \n"
     ]
    },
    {
     "data": {
      "image/png": "[encoded data removed]",
      "text/plain": [
       "plot without title"
      ]
     },
     "metadata": {
      "image/png": {
       "height": 420,
       "width": 420
      }
     },
     "output_type": "display_data"
    }
   ],
   "source": [
    "df[,-c(23, 25)] <- scale(df[,-c(23, 25)])\n",
    "print(colMeans(df[,-c(23, 25)]), digits = 4)\n",
    "boxplot(df[,-c(23, 25)])"
   ]
  },
  {
   "cell_type": "markdown",
   "id": "persistent-feeding",
   "metadata": {},
   "source": [
    "Теперь диапазоны значений признаков похожи. Построим тепловую карту, чтобы понять есть ли связи между признаками. "
   ]
  },
  {
   "cell_type": "code",
   "execution_count": 8,
   "id": "abandoned-grave",
   "metadata": {},
   "outputs": [
    {
     "data": {
      "image/png": "[encoded data removed]",
      "text/plain": [
       "plot without title"
      ]
     },
     "metadata": {
      "image/png": {
       "height": 420,
       "width": 420
      }
     },
     "output_type": "display_data"
    }
   ],
   "source": [
    "ggcorr(df[,-25])"
   ]
  },
  {
   "cell_type": "markdown",
   "id": "ambient-template",
   "metadata": {},
   "source": [
    "Как и ожидалось параметры тела сильно коррелируют между собой, исключеним является только возраст. То есть имеет место проблема мультиколлинеарности.\n",
    "\n",
    "тепловую карту в python можно пострить выполнив следующее  \n",
    "import seaborn as sns  \n",
    "import matplotlib.pyplot as plt  \n",
    "sns.heatmap(df.corr(method='pearson'), cmap=\"coolwarm\")  \n",
    "plt.show()  "
   ]
  },
  {
   "cell_type": "markdown",
   "id": "human-costa",
   "metadata": {},
   "source": [
    "Разделим выборку на два набора: тренировочный и тестовый."
   ]
  },
  {
   "cell_type": "code",
   "execution_count": 9,
   "id": "killing-consumption",
   "metadata": {},
   "outputs": [
    {
     "name": "stdout",
     "output_type": "stream",
     "text": [
      "Число обусловленности X_train =  \n",
      "                           18.38 \n"
     ]
    }
   ],
   "source": [
    "sample <- sample.split(df, SplitRatio = 0.80) \n",
    "train <- subset(df, sample == TRUE)\n",
    "test <- subset(df, sample == FALSE)\n",
    "\n",
    "#разделение на тренировочную и тестовую выборку в python можно организовать так\n",
    "#from sklearn.model_selection import train_test_split\n",
    "#X_train, X_test, y_train, y_test = train_test_split(X, y, shuffle, test_size, random_state, ...)\n",
    "\n",
    "eigenvalues <- svd(train[,-23])$d\n",
    "print(c(\"Число обусловленности X_train = \" = max(eigenvalues)/min(eigenvalues)), digits = 4)"
   ]
  },
  {
   "cell_type": "markdown",
   "id": "sunrise-treasury",
   "metadata": {},
   "source": [
    "# Многомерная линейная регрессия"
   ]
  },
  {
   "cell_type": "code",
   "execution_count": 10,
   "id": "renewable-casino",
   "metadata": {},
   "outputs": [
    {
     "data": {
      "text/plain": [
       "\n",
       "Call:\n",
       "lm(formula = wgt ~ ., data = train)\n",
       "\n",
       "Residuals:\n",
       "    Min      1Q  Median      3Q     Max \n",
       "-7.5880 -1.4362  0.0422  1.4315 10.1068 \n",
       "\n",
       "Coefficients:\n",
       "            Estimate Std. Error t value Pr(>|t|)    \n",
       "(Intercept) 69.94688    0.34102 205.108  < 2e-16 ***\n",
       "bia_di      -0.10799    0.24710  -0.437 0.662348    \n",
       "bii_di       0.37555    0.17170   2.187 0.029336 *  \n",
       "bit_di      -0.13816    0.22825  -0.605 0.545338    \n",
       "che_de       0.76007    0.21048   3.611 0.000346 ***\n",
       "che_di       0.53825    0.26170   2.057 0.040396 *  \n",
       "elb_di       0.20741    0.30727   0.675 0.500078    \n",
       "wri_di       0.25004    0.25660   0.974 0.330448    \n",
       "kne_di       0.39111    0.22492   1.739 0.082860 .  \n",
       "ank_di       0.24399    0.23803   1.025 0.305998    \n",
       "sho_gi       0.73647    0.39053   1.886 0.060080 .  \n",
       "che_gi       1.49296    0.47443   3.147 0.001780 ** \n",
       "wai_gi       3.72774    0.37698   9.888  < 2e-16 ***\n",
       "nav_gi      -0.02855    0.29381  -0.097 0.922638    \n",
       "hip_gi       1.64772    0.36966   4.457 1.09e-05 ***\n",
       "thi_gi       0.87880    0.28159   3.121 0.001941 ** \n",
       "bic_gi       0.42280    0.42150   1.003 0.316460    \n",
       "for_gi       1.53236    0.44904   3.413 0.000713 ***\n",
       "kne_gi       0.60503    0.24059   2.515 0.012325 *  \n",
       "cal_gi       1.02325    0.23910   4.280 2.37e-05 ***\n",
       "ank_gi       0.05223    0.23014   0.227 0.820572    \n",
       "wri_gi      -0.31425    0.34322  -0.916 0.360461    \n",
       "age         -0.49857    0.14705  -3.390 0.000771 ***\n",
       "hgt          2.72510    0.21066  12.936  < 2e-16 ***\n",
       "sex         -1.73786    0.65885  -2.638 0.008690 ** \n",
       "---\n",
       "Signif. codes:  0 '***' 0.001 '**' 0.01 '*' 0.05 '.' 0.1 ' ' 1\n",
       "\n",
       "Residual standard error: 2.254 on 380 degrees of freedom\n",
       "Multiple R-squared:  0.9713,\tAdjusted R-squared:  0.9695 \n",
       "F-statistic: 536.7 on 24 and 380 DF,  p-value: < 2.2e-16\n"
      ]
     },
     "metadata": {},
     "output_type": "display_data"
    }
   ],
   "source": [
    "full_model <- lm(wgt~., data = train)\n",
    "summary(full_model)\n",
    "\n",
    "#обучить линейную решрессию в python\n",
    "#LinearRegression().fit(X_train, y_train)"
   ]
  },
  {
   "cell_type": "markdown",
   "id": "billion-local",
   "metadata": {},
   "source": [
    "### VIF\n",
    "\n",
    "Результаты регрессии могут вызывать сомнения, если есть коррелирующие признаки. VIF (Variance inflation factor - фактор, увеличивающий дисперсию) выявлет мультиколлинеарность. На основе полученного значения можно принять решение об исключении признака (в этой части мы не будем исключать признаки, воспользуемся другими способами позже).\n",
    "\n",
    "$\\text{VIF}_{i} = \\frac{1}{1-R^{2}_{i}}$"
   ]
  },
  {
   "cell_type": "code",
   "execution_count": 11,
   "id": "technological-uncertainty",
   "metadata": {},
   "outputs": [
    {
     "data": {
      "text/plain": [
       "   Min. 1st Qu.  Median    Mean 3rd Qu.    Max. \n",
       "  1.700   4.010   5.210   7.012   9.403  17.120 "
      ]
     },
     "metadata": {},
     "output_type": "display_data"
    },
    {
     "name": "stdout",
     "output_type": "stream",
     "text": [
      "bia_di bii_di bit_di che_de che_di elb_di wri_di kne_di ank_di sho_gi che_gi \n",
      "  4.62   2.35   3.91   3.41   5.33   7.40   5.09   4.04   4.45  11.71  17.12 \n",
      "wai_gi nav_gi hip_gi thi_gi bic_gi for_gi kne_gi cal_gi ank_gi wri_gi    age \n",
      " 10.87   6.79  10.67   6.22  13.70  15.44   4.44   4.24   3.82   8.98   1.70 \n",
      "   hgt    sex \n",
      "  3.32   8.65 \n"
     ]
    }
   ],
   "source": [
    "VIF <- vif(full_model)\n",
    "summary(VIF)\n",
    "print(VIF, digits = 3)"
   ]
  },
  {
   "cell_type": "markdown",
   "id": "united-textbook",
   "metadata": {},
   "source": [
    "### Метрики точности модели регрессии\n",
    "\n",
    "- R-квадрат ($R^2$), представляющий собой квадрат множественного коэффициента корреляции между наблюдаемыми значениями результатов и значениями, предсказанными моделью. Скорректированный (adjusted) $R^{2}$ используется для сравнения моделей с различным числом параметров. Чем выше adjusted $R^2$, тем лучше модель.\n",
    "\n",
    "- Среднеквадратичная ошибка (RMSE), которая измеряет среднюю ошибку прогноза, сделанную моделью при прогнозировании результата для наблюдения. Чем ниже RMSE, тем лучше модель.\n",
    "\n",
    "- Средняя абсолютная ошибка (MAE), альтернатива RMSE, которая менее чувствительна к выбросам. Она соответствует средней абсолютной разнице между наблюдаемыми и прогнозируемыми результатами. Чем ниже MAE, тем лучше модель."
   ]
  },
  {
   "cell_type": "code",
   "execution_count": 12,
   "id": "intellectual-mining",
   "metadata": {},
   "outputs": [
    {
     "name": "stdout",
     "output_type": "stream",
     "text": [
      "[1] \"TRAIN\"\n",
      "      R2  RMSE   MAE\n",
      "1 0.9713 2.183 1.721\n",
      "[1] \"TEST\"\n",
      "      R2  RMSE   MAE\n",
      "1 0.9802 2.118 1.549\n"
     ]
    }
   ],
   "source": [
    "print(\"TRAIN\")\n",
    "predictions <- full_model %>% predict(train)\n",
    "print(data.frame( R2 = R2(predictions, train$wgt),\n",
    "            RMSE = RMSE(predictions, train$wgt),\n",
    "            MAE = MAE(predictions, train$wgt)), digits = 4)\n",
    "print(\"TEST\")\n",
    "predictions <- full_model %>% predict(test)\n",
    "print(data.frame( R2 = R2(predictions, test$wgt),\n",
    "            RMSE = RMSE(predictions, test$wgt),\n",
    "            MAE = MAE(predictions, test$wgt)), digits = 4)"
   ]
  },
  {
   "cell_type": "markdown",
   "id": "owned-swimming",
   "metadata": {},
   "source": [
    "График частичных остатков - это графический метод, который пытается показать взаимосвязь между данной независимой переменной и зависимой переменной, учитывая, что другие независимые переменные также присутствуют в модели.  \n",
    "$$\\text{Residuals} + \\hat{\\beta}_{i}X_{i}\\; \\text{vs}\\; X_i$$"
   ]
  },
  {
   "cell_type": "code",
   "execution_count": 13,
   "id": "studied-invalid",
   "metadata": {},
   "outputs": [
    {
     "data": {
      "image/png": "[encoded data removed]",
      "text/plain": [
       "plot without title"
      ]
     },
     "metadata": {
      "image/png": {
       "height": 420,
       "width": 420
      }
     },
     "output_type": "display_data"
    },
    {
     "data": {
      "image/png": "[encoded data removed]",
      "text/plain": [
       "plot without title"
      ]
     },
     "metadata": {
      "image/png": {
       "height": 420,
       "width": 420
      }
     },
     "output_type": "display_data"
    },
    {
     "data": {
      "image/png": "[encoded data removed]",
      "text/plain": [
       "plot without title"
      ]
     },
     "metadata": {
      "image/png": {
       "height": 420,
       "width": 420
      }
     },
     "output_type": "display_data"
    }
   ],
   "source": [
    "crPlots(full_model, terms = ~ . -sex)"
   ]
  },
  {
   "cell_type": "markdown",
   "id": "electric-lexington",
   "metadata": {},
   "source": [
    "Вспомним, что остатки должны быть распределены нормально, проведем анализ остатков."
   ]
  },
  {
   "cell_type": "code",
   "execution_count": 14,
   "id": "vietnamese-funds",
   "metadata": {},
   "outputs": [
    {
     "data": {
      "image/png": "[encoded data removed]",
      "text/plain": [
       "plot without title"
      ]
     },
     "metadata": {
      "image/png": {
       "height": 420,
       "width": 420
      }
     },
     "output_type": "display_data"
    }
   ],
   "source": [
    "res <- resid(full_model)\n",
    "plot(fitted(full_model), res, xlab = \"Fitted value\", ylab = \"Residuals\")\n",
    "abline(0,0)"
   ]
  },
  {
   "cell_type": "code",
   "execution_count": 15,
   "id": "prerequisite-myanmar",
   "metadata": {},
   "outputs": [
    {
     "data": {
      "image/png": "[encoded data removed]",
      "text/plain": [
       "Plot with title \"Histogram of res\""
      ]
     },
     "metadata": {
      "image/png": {
       "height": 420,
       "width": 420
      }
     },
     "output_type": "display_data"
    }
   ],
   "source": [
    "hist(res)"
   ]
  },
  {
   "cell_type": "code",
   "execution_count": 16,
   "id": "patent-transcription",
   "metadata": {},
   "outputs": [
    {
     "data": {
      "text/html": [
       "<style>\n",
       ".dl-inline {width: auto; margin:0; padding: 0}\n",
       ".dl-inline>dt, .dl-inline>dd {float: none; width: auto; display: inline-block}\n",
       ".dl-inline>dt::after {content: \":\\0020\"; padding-right: .5ex}\n",
       ".dl-inline>dt:not(:first-of-type) {padding-left: .5ex}\n",
       "</style><dl class=dl-inline><dt>124</dt><dd>100</dd><dt>442</dt><dd>354</dd></dl>\n"
      ],
      "text/latex": [
       "\\begin{description*}\n",
       "\\item[124] 100\n",
       "\\item[442] 354\n",
       "\\end{description*}\n"
      ],
      "text/markdown": [
       "124\n",
       ":   100442\n",
       ":   354\n",
       "\n"
      ],
      "text/plain": [
       "124 442 \n",
       "100 354 "
      ]
     },
     "metadata": {},
     "output_type": "display_data"
    },
    {
     "data": {
      "image/png": "[encoded data removed]",
      "text/plain": [
       "plot without title"
      ]
     },
     "metadata": {
      "image/png": {
       "height": 420,
       "width": 420
      }
     },
     "output_type": "display_data"
    }
   ],
   "source": [
    "qqPlot(res, )\n",
    "\n",
    "# в python scipy.stats.probplot(x, dist='norm', plot=pylab)"
   ]
  },
  {
   "cell_type": "code",
   "execution_count": 17,
   "id": "bound-dining",
   "metadata": {},
   "outputs": [
    {
     "data": {
      "text/plain": [
       "\n",
       "\tShapiro-Wilk normality test\n",
       "\n",
       "data:  res\n",
       "W = 0.98775, p-value = 0.001744\n"
      ]
     },
     "metadata": {},
     "output_type": "display_data"
    }
   ],
   "source": [
    "shapiro.test(res)\n",
    "\n",
    "# в python scipy.stats.shapiro()"
   ]
  },
  {
   "cell_type": "markdown",
   "id": "upset-venezuela",
   "metadata": {},
   "source": [
    "Гипотеза о нормальном распределении остатков отклоняется."
   ]
  },
  {
   "cell_type": "markdown",
   "id": "freelance-strategy",
   "metadata": {},
   "source": [
    "### Leave one out cross validation - LOOCV\n",
    "Этот метод работает следующим образом:\n",
    "\n",
    "1) Удаляется одна точка данных и строится модель на остальной части набора.\n",
    "2) Тестируется модель на точке, которая не учитывается на шаге 1, и запоминается ошибка теста, связанная с прогнозом.\n",
    "3) Процесс повторяется для всех точек данных.\n",
    "4) Вычисляется общая ошибка предсказания, как среднее значение всех оценок ошибок теста, записанных на шаге 2.\n",
    "\n",
    "Использование одной точки для оценки производительности модели на каждой итерации может привести к высокой вариации ошибки прогноза, если некоторые точки данных являются выбросами. \n",
    "\n",
    "### K-fold cross-validation\n",
    "Все аналогично Leave one out cv, только на каждом шаге в качестве тестового множества используется часть исходного набора данных. На итерациях тестовые наборы не пересекаются. \n",
    "\n",
    "На практике обычно выполняется k-кратная перекрестная проверка с использованием k = 5 или k = 10, поскольку эти значения, как было показано эмпирически, дают оценки, которые не страдают ни чрезмерно большим смещением, ни очень высокой дисперсией."
   ]
  },
  {
   "cell_type": "markdown",
   "id": "focused-baghdad",
   "metadata": {},
   "source": [
    "## Ridge"
   ]
  },
  {
   "cell_type": "markdown",
   "id": "norman-night",
   "metadata": {},
   "source": [
    "Чтобы определить параметр регуляризации доставляющий минимум воспользуемся 5-фолдовой кросс-валидацией."
   ]
  },
  {
   "cell_type": "code",
   "execution_count": 18,
   "id": "lucky-snake",
   "metadata": {},
   "outputs": [
    {
     "data": {
      "image/png": "[encoded data removed]",
      "text/plain": [
       "plot without title"
      ]
     },
     "metadata": {
      "image/png": {
       "height": 420,
       "width": 420
      }
     },
     "output_type": "display_data"
    }
   ],
   "source": [
    "Y <- train$wgt\n",
    "X <- model.matrix(data = train, wgt~.)[,-1]\n",
    "X_test <- model.matrix(data = test, wgt~.)[,-1]\n",
    "Y_test <- test$wgt\n",
    "cv.ridge <- cv.glmnet(X, Y, alpha = 0, nfolds = 5)\n",
    "plot(cv.ridge)"
   ]
  },
  {
   "cell_type": "code",
   "execution_count": 19,
   "id": "furnished-earth",
   "metadata": {},
   "outputs": [
    {
     "name": "stdout",
     "output_type": "stream",
     "text": [
      "[1] 1.16\n"
     ]
    }
   ],
   "source": [
    "bestlam <- cv.ridge$lambda.min\n",
    "print(bestlam, digits = 3)"
   ]
  },
  {
   "cell_type": "code",
   "execution_count": 20,
   "id": "stunning-greek",
   "metadata": {},
   "outputs": [],
   "source": [
    "ridge.mod <- glmnet(X, Y, alpha=0, lambda=bestlam, standardize=TRUE)\n",
    "ridge.pred <- predict(ridge.mod, s=bestlam, newx=X_test)"
   ]
  },
  {
   "cell_type": "code",
   "execution_count": 21,
   "id": "mobile-lithuania",
   "metadata": {},
   "outputs": [
    {
     "name": "stdout",
     "output_type": "stream",
     "text": [
      "[1] \"TRAIN\"\n",
      "      R2  RMSE   MAE\n",
      "1 0.9691 2.271 1.762\n",
      "[1] \"TEST\"\n",
      "      R2  RMSE   MAE\n",
      "1 0.9777 2.242 1.576\n"
     ]
    }
   ],
   "source": [
    "print(\"TRAIN\")\n",
    "X <- model.matrix(data = train, wgt~.)[,-1]\n",
    "X_test <- model.matrix(data = test, wgt~.)[,-1]\n",
    "\n",
    "ridge.pred <- predict(ridge.mod, s=bestlam, newx=X)\n",
    "print(data.frame( R2 = unname(R2(ridge.pred, train$wgt)),\n",
    "            RMSE = RMSE(ridge.pred, train$wgt),\n",
    "            MAE = MAE(ridge.pred, train$wgt)), digits = 4)\n",
    "print(\"TEST\")\n",
    "ridge.pred <- predict(ridge.mod, s=bestlam, newx=X_test)\n",
    "print(data.frame( R2 = unname(R2(ridge.pred, test$wgt)),\n",
    "            RMSE = RMSE(ridge.pred, test$wgt),\n",
    "            MAE = MAE(ridge.pred, test$wgt)), digits = 4)"
   ]
  },
  {
   "cell_type": "code",
   "execution_count": 22,
   "id": "great-planning",
   "metadata": {},
   "outputs": [
    {
     "data": {
      "text/plain": [
       "25 x 1 sparse Matrix of class \"dgCMatrix\"\n",
       "                 1\n",
       "(Intercept) 69.066\n",
       "bia_di       0.045\n",
       "bii_di       0.430\n",
       "bit_di       0.089\n",
       "che_de       0.911\n",
       "che_di       0.725\n",
       "elb_di       0.238\n",
       "wri_di       0.308\n",
       "kne_di       0.344\n",
       "ank_di       0.214\n",
       "sho_gi       0.946\n",
       "che_gi       1.252\n",
       "wai_gi       2.272\n",
       "nav_gi       0.655\n",
       "hip_gi       1.384\n",
       "thi_gi       1.048\n",
       "bic_gi       0.648\n",
       "for_gi       0.921\n",
       "kne_gi       0.798\n",
       "cal_gi       0.863\n",
       "ank_gi       0.192\n",
       "wri_gi       0.059\n",
       "age         -0.429\n",
       "hgt          2.016\n",
       "sex          0.074"
      ]
     },
     "metadata": {},
     "output_type": "display_data"
    }
   ],
   "source": [
    "round(predict(ridge.mod, type='coefficients', s=bestlam), digits = 3)\n",
    "coef_ridge <- rownames(predict(ridge.mod, type='coefficients', s=bestlam))[-1]"
   ]
  },
  {
   "cell_type": "markdown",
   "id": "dimensional-teacher",
   "metadata": {},
   "source": [
    "## Lasso"
   ]
  },
  {
   "cell_type": "code",
   "execution_count": 23,
   "id": "mechanical-little",
   "metadata": {},
   "outputs": [
    {
     "data": {
      "image/png": "[encoded data removed]",
      "text/plain": [
       "plot without title"
      ]
     },
     "metadata": {
      "image/png": {
       "height": 420,
       "width": 420
      }
     },
     "output_type": "display_data"
    }
   ],
   "source": [
    "cv.lasso <- cv.glmnet(X, Y, alpha = 1, nfolds = 5)\n",
    "plot(cv.lasso)"
   ]
  },
  {
   "cell_type": "code",
   "execution_count": 24,
   "id": "biological-presence",
   "metadata": {},
   "outputs": [
    {
     "name": "stdout",
     "output_type": "stream",
     "text": [
      "[1] 0.101\n"
     ]
    }
   ],
   "source": [
    "bestlam2 <- cv.lasso$lambda.min\n",
    "print(bestlam2, digits = 3)"
   ]
  },
  {
   "cell_type": "code",
   "execution_count": 25,
   "id": "christian-novelty",
   "metadata": {},
   "outputs": [
    {
     "name": "stdout",
     "output_type": "stream",
     "text": [
      "[1] \"TRAIN\"\n",
      "      R2 RMSE   MAE\n",
      "1 0.9705 2.22 1.729\n",
      "[1] \"TEST\"\n",
      "      R2  RMSE   MAE\n",
      "1 0.9804 2.104 1.467\n"
     ]
    }
   ],
   "source": [
    "lasso.mod <- glmnet(X, Y, alpha=1, lambda=bestlam2, standardize=TRUE)\n",
    "lasso.pred <- predict(lasso.mod, s=bestlam2, newx=X_test)\n",
    "\n",
    "print(\"TRAIN\")\n",
    "lasso.pred <- predict(lasso.mod, s=bestlam, newx=X)\n",
    "print(data.frame( R2 = unname(R2(lasso.pred, train$wgt)),\n",
    "            RMSE = RMSE(lasso.pred, train$wgt),\n",
    "            MAE = MAE(lasso.pred, train$wgt)), digits = 4)\n",
    "print(\"TEST\")\n",
    "lasso.pred <- predict(lasso.mod, s=bestlam, newx=X_test)\n",
    "print(data.frame( R2 = unname(R2(lasso.pred, test$wgt)),\n",
    "            RMSE = RMSE(lasso.pred, test$wgt),\n",
    "            MAE = MAE(lasso.pred, test$wgt)), digits = 4)"
   ]
  },
  {
   "cell_type": "code",
   "execution_count": 26,
   "id": "unlimited-pastor",
   "metadata": {},
   "outputs": [
    {
     "data": {
      "text/plain": [
       "25 x 1 sparse Matrix of class \"dgCMatrix\"\n",
       "                 1\n",
       "(Intercept) 69.103\n",
       "bia_di       .    \n",
       "bii_di       0.294\n",
       "bit_di       .    \n",
       "che_de       0.641\n",
       "che_di       0.479\n",
       "elb_di       0.074\n",
       "wri_di       0.127\n",
       "kne_di       0.351\n",
       "ank_di       0.103\n",
       "sho_gi       0.616\n",
       "che_gi       1.642\n",
       "wai_gi       3.174\n",
       "nav_gi       0.140\n",
       "hip_gi       1.729\n",
       "thi_gi       1.079\n",
       "bic_gi       0.248\n",
       "for_gi       1.306\n",
       "kne_gi       0.688\n",
       "cal_gi       0.995\n",
       "ank_gi       .    \n",
       "wri_gi       .    \n",
       "age         -0.284\n",
       "hgt          2.515\n",
       "sex          .    "
      ]
     },
     "metadata": {},
     "output_type": "display_data"
    }
   ],
   "source": [
    "round(predict(lasso.mod, type='coefficients', s=bestlam2), digits = 3)\n",
    "coef_lasso <- rownames(predict(lasso.mod, type='coefficients', s=bestlam2))[-c(1,\n",
    "                                                                               which(predict(lasso.mod, type='coefficients', s=bestlam2) == 0))]"
   ]
  },
  {
   "cell_type": "markdown",
   "id": "extended-designer",
   "metadata": {},
   "source": [
    "# Выбор параметров\n",
    "### Best subset selection\n",
    "\n",
    "Для упрощения модели с большим количеством переменных, можно использовать пошаговую регрессию для выбора важных переменных.\n",
    "\n",
    "Функция regsubsets находится в пакете leaps. Можно указать метод с помощью method. nvmax - максимальное количество признаков, которое будет рассматриваться. \n",
    "Для наших данных выбираем максимально возможное количество признаков. В результате перечислены индексы моделей (1:24), также это число является количеством признаков в модели. Данный метод начинает с модели без признаков и выбирает какой признак добавить на каждом шаге, путем перибора, добавляя каждый признак. Выбирается тот признак, добавление которого улучшило показатель модели ($R^{2}$ - наибольший). Внизу приведены лучшие модели всех возможных размерностей модели. Значёк \"*\" означет что признак не был удален из модели."
   ]
  },
  {
   "cell_type": "code",
   "execution_count": 27,
   "id": "antique-newark",
   "metadata": {},
   "outputs": [
    {
     "data": {
      "text/plain": [
       "Subset selection object\n",
       "Call: regsubsets.formula(wgt ~ ., data = train, nvmax = 24, intercept = TRUE)\n",
       "24 Variables  (and intercept)\n",
       "       Forced in Forced out\n",
       "bia_di     FALSE      FALSE\n",
       "bii_di     FALSE      FALSE\n",
       "bit_di     FALSE      FALSE\n",
       "che_de     FALSE      FALSE\n",
       "che_di     FALSE      FALSE\n",
       "elb_di     FALSE      FALSE\n",
       "wri_di     FALSE      FALSE\n",
       "kne_di     FALSE      FALSE\n",
       "ank_di     FALSE      FALSE\n",
       "sho_gi     FALSE      FALSE\n",
       "che_gi     FALSE      FALSE\n",
       "wai_gi     FALSE      FALSE\n",
       "nav_gi     FALSE      FALSE\n",
       "hip_gi     FALSE      FALSE\n",
       "thi_gi     FALSE      FALSE\n",
       "bic_gi     FALSE      FALSE\n",
       "for_gi     FALSE      FALSE\n",
       "kne_gi     FALSE      FALSE\n",
       "cal_gi     FALSE      FALSE\n",
       "ank_gi     FALSE      FALSE\n",
       "wri_gi     FALSE      FALSE\n",
       "age        FALSE      FALSE\n",
       "hgt        FALSE      FALSE\n",
       "sex        FALSE      FALSE\n",
       "1 subsets of each size up to 24\n",
       "Selection Algorithm: exhaustive\n",
       "          bia_di bii_di bit_di che_de che_di elb_di wri_di kne_di ank_di sho_gi\n",
       "1  ( 1 )  \" \"    \" \"    \" \"    \" \"    \" \"    \" \"    \" \"    \" \"    \" \"    \" \"   \n",
       "2  ( 1 )  \" \"    \" \"    \" \"    \" \"    \" \"    \" \"    \" \"    \" \"    \" \"    \" \"   \n",
       "3  ( 1 )  \" \"    \" \"    \" \"    \" \"    \" \"    \" \"    \" \"    \" \"    \" \"    \" \"   \n",
       "4  ( 1 )  \" \"    \" \"    \" \"    \" \"    \" \"    \" \"    \" \"    \" \"    \" \"    \" \"   \n",
       "5  ( 1 )  \" \"    \" \"    \" \"    \" \"    \" \"    \" \"    \" \"    \" \"    \" \"    \" \"   \n",
       "6  ( 1 )  \" \"    \" \"    \" \"    \" \"    \" \"    \" \"    \" \"    \" \"    \" \"    \" \"   \n",
       "7  ( 1 )  \" \"    \" \"    \" \"    \" \"    \" \"    \" \"    \" \"    \" \"    \" \"    \" \"   \n",
       "8  ( 1 )  \" \"    \" \"    \" \"    \" \"    \" \"    \" \"    \" \"    \" \"    \" \"    \" \"   \n",
       "9  ( 1 )  \" \"    \" \"    \" \"    \" \"    \" \"    \" \"    \" \"    \"*\"    \" \"    \" \"   \n",
       "10  ( 1 ) \" \"    \" \"    \" \"    \"*\"    \" \"    \" \"    \" \"    \"*\"    \" \"    \" \"   \n",
       "11  ( 1 ) \" \"    \" \"    \" \"    \"*\"    \" \"    \" \"    \" \"    \"*\"    \" \"    \" \"   \n",
       "12  ( 1 ) \" \"    \" \"    \" \"    \"*\"    \"*\"    \" \"    \" \"    \"*\"    \" \"    \" \"   \n",
       "13  ( 1 ) \" \"    \" \"    \" \"    \"*\"    \"*\"    \" \"    \" \"    \"*\"    \" \"    \" \"   \n",
       "14  ( 1 ) \" \"    \"*\"    \" \"    \"*\"    \"*\"    \" \"    \" \"    \"*\"    \" \"    \" \"   \n",
       "15  ( 1 ) \" \"    \"*\"    \" \"    \"*\"    \"*\"    \" \"    \" \"    \"*\"    \" \"    \"*\"   \n",
       "16  ( 1 ) \" \"    \"*\"    \" \"    \"*\"    \"*\"    \" \"    \" \"    \"*\"    \"*\"    \"*\"   \n",
       "17  ( 1 ) \" \"    \"*\"    \" \"    \"*\"    \"*\"    \" \"    \" \"    \"*\"    \"*\"    \"*\"   \n",
       "18  ( 1 ) \" \"    \"*\"    \" \"    \"*\"    \"*\"    \" \"    \"*\"    \"*\"    \"*\"    \"*\"   \n",
       "19  ( 1 ) \" \"    \"*\"    \" \"    \"*\"    \"*\"    \" \"    \"*\"    \"*\"    \"*\"    \"*\"   \n",
       "20  ( 1 ) \" \"    \"*\"    \"*\"    \"*\"    \"*\"    \" \"    \"*\"    \"*\"    \"*\"    \"*\"   \n",
       "21  ( 1 ) \" \"    \"*\"    \"*\"    \"*\"    \"*\"    \"*\"    \"*\"    \"*\"    \"*\"    \"*\"   \n",
       "22  ( 1 ) \"*\"    \"*\"    \"*\"    \"*\"    \"*\"    \"*\"    \"*\"    \"*\"    \"*\"    \"*\"   \n",
       "23  ( 1 ) \"*\"    \"*\"    \"*\"    \"*\"    \"*\"    \"*\"    \"*\"    \"*\"    \"*\"    \"*\"   \n",
       "24  ( 1 ) \"*\"    \"*\"    \"*\"    \"*\"    \"*\"    \"*\"    \"*\"    \"*\"    \"*\"    \"*\"   \n",
       "          che_gi wai_gi nav_gi hip_gi thi_gi bic_gi for_gi kne_gi cal_gi ank_gi\n",
       "1  ( 1 )  \" \"    \"*\"    \" \"    \" \"    \" \"    \" \"    \" \"    \" \"    \" \"    \" \"   \n",
       "2  ( 1 )  \"*\"    \" \"    \" \"    \" \"    \" \"    \" \"    \" \"    \"*\"    \" \"    \" \"   \n",
       "3  ( 1 )  \"*\"    \" \"    \" \"    \"*\"    \" \"    \" \"    \" \"    \" \"    \" \"    \" \"   \n",
       "4  ( 1 )  \" \"    \"*\"    \" \"    \" \"    \"*\"    \" \"    \"*\"    \" \"    \" \"    \" \"   \n",
       "5  ( 1 )  \"*\"    \"*\"    \" \"    \"*\"    \" \"    \" \"    \" \"    \" \"    \"*\"    \" \"   \n",
       "6  ( 1 )  \"*\"    \"*\"    \" \"    \"*\"    \" \"    \" \"    \"*\"    \" \"    \"*\"    \" \"   \n",
       "7  ( 1 )  \"*\"    \"*\"    \" \"    \"*\"    \"*\"    \" \"    \"*\"    \" \"    \"*\"    \" \"   \n",
       "8  ( 1 )  \"*\"    \"*\"    \" \"    \"*\"    \"*\"    \" \"    \"*\"    \"*\"    \"*\"    \" \"   \n",
       "9  ( 1 )  \"*\"    \"*\"    \" \"    \"*\"    \"*\"    \" \"    \"*\"    \"*\"    \"*\"    \" \"   \n",
       "10  ( 1 ) \"*\"    \"*\"    \" \"    \"*\"    \"*\"    \" \"    \"*\"    \" \"    \"*\"    \" \"   \n",
       "11  ( 1 ) \"*\"    \"*\"    \" \"    \"*\"    \"*\"    \" \"    \"*\"    \" \"    \"*\"    \" \"   \n",
       "12  ( 1 ) \"*\"    \"*\"    \" \"    \"*\"    \"*\"    \" \"    \"*\"    \" \"    \"*\"    \" \"   \n",
       "13  ( 1 ) \"*\"    \"*\"    \" \"    \"*\"    \"*\"    \" \"    \"*\"    \"*\"    \"*\"    \" \"   \n",
       "14  ( 1 ) \"*\"    \"*\"    \" \"    \"*\"    \"*\"    \" \"    \"*\"    \"*\"    \"*\"    \" \"   \n",
       "15  ( 1 ) \"*\"    \"*\"    \" \"    \"*\"    \"*\"    \" \"    \"*\"    \"*\"    \"*\"    \" \"   \n",
       "16  ( 1 ) \"*\"    \"*\"    \" \"    \"*\"    \"*\"    \" \"    \"*\"    \"*\"    \"*\"    \" \"   \n",
       "17  ( 1 ) \"*\"    \"*\"    \" \"    \"*\"    \"*\"    \"*\"    \"*\"    \"*\"    \"*\"    \" \"   \n",
       "18  ( 1 ) \"*\"    \"*\"    \" \"    \"*\"    \"*\"    \"*\"    \"*\"    \"*\"    \"*\"    \" \"   \n",
       "19  ( 1 ) \"*\"    \"*\"    \" \"    \"*\"    \"*\"    \"*\"    \"*\"    \"*\"    \"*\"    \" \"   \n",
       "20  ( 1 ) \"*\"    \"*\"    \" \"    \"*\"    \"*\"    \"*\"    \"*\"    \"*\"    \"*\"    \" \"   \n",
       "21  ( 1 ) \"*\"    \"*\"    \" \"    \"*\"    \"*\"    \"*\"    \"*\"    \"*\"    \"*\"    \" \"   \n",
       "22  ( 1 ) \"*\"    \"*\"    \" \"    \"*\"    \"*\"    \"*\"    \"*\"    \"*\"    \"*\"    \" \"   \n",
       "23  ( 1 ) \"*\"    \"*\"    \" \"    \"*\"    \"*\"    \"*\"    \"*\"    \"*\"    \"*\"    \"*\"   \n",
       "24  ( 1 ) \"*\"    \"*\"    \"*\"    \"*\"    \"*\"    \"*\"    \"*\"    \"*\"    \"*\"    \"*\"   \n",
       "          wri_gi age hgt sex\n",
       "1  ( 1 )  \" \"    \" \" \" \" \" \"\n",
       "2  ( 1 )  \" \"    \" \" \" \" \" \"\n",
       "3  ( 1 )  \" \"    \" \" \"*\" \" \"\n",
       "4  ( 1 )  \" \"    \" \" \"*\" \" \"\n",
       "5  ( 1 )  \" \"    \" \" \"*\" \" \"\n",
       "6  ( 1 )  \" \"    \" \" \"*\" \" \"\n",
       "7  ( 1 )  \" \"    \" \" \"*\" \" \"\n",
       "8  ( 1 )  \" \"    \" \" \"*\" \" \"\n",
       "9  ( 1 )  \" \"    \" \" \"*\" \" \"\n",
       "10  ( 1 ) \" \"    \"*\" \"*\" \" \"\n",
       "11  ( 1 ) \" \"    \"*\" \"*\" \"*\"\n",
       "12  ( 1 ) \" \"    \"*\" \"*\" \"*\"\n",
       "13  ( 1 ) \" \"    \"*\" \"*\" \"*\"\n",
       "14  ( 1 ) \" \"    \"*\" \"*\" \"*\"\n",
       "15  ( 1 ) \" \"    \"*\" \"*\" \"*\"\n",
       "16  ( 1 ) \" \"    \"*\" \"*\" \"*\"\n",
       "17  ( 1 ) \" \"    \"*\" \"*\" \"*\"\n",
       "18  ( 1 ) \" \"    \"*\" \"*\" \"*\"\n",
       "19  ( 1 ) \"*\"    \"*\" \"*\" \"*\"\n",
       "20  ( 1 ) \"*\"    \"*\" \"*\" \"*\"\n",
       "21  ( 1 ) \"*\"    \"*\" \"*\" \"*\"\n",
       "22  ( 1 ) \"*\"    \"*\" \"*\" \"*\"\n",
       "23  ( 1 ) \"*\"    \"*\" \"*\" \"*\"\n",
       "24  ( 1 ) \"*\"    \"*\" \"*\" \"*\""
      ]
     },
     "metadata": {},
     "output_type": "display_data"
    }
   ],
   "source": [
    "df_best.s  <- regsubsets(wgt~., data = train, nvmax = 24, intercept=TRUE)\n",
    "df_best.s_sum = summary(df_best.s )\n",
    "df_best.s_sum"
   ]
  },
  {
   "cell_type": "markdown",
   "id": "accurate-swing",
   "metadata": {},
   "source": [
    "Для выбора оптимальной модели посчитаем значения, BIC, скорректированный $R^{2}$ для оптимальной с точки зрения алгоритма модели каждого размера."
   ]
  },
  {
   "cell_type": "code",
   "execution_count": 28,
   "id": "second-allen",
   "metadata": {},
   "outputs": [
    {
     "data": {
      "image/png": "[encoded data removed]",
      "text/plain": [
       "Plot with title \"BIC\""
      ]
     },
     "metadata": {
      "image/png": {
       "height": 420,
       "width": 420
      }
     },
     "output_type": "display_data"
    },
    {
     "data": {
      "image/png": "[encoded data removed]",
      "text/plain": [
       "Plot with title \"adjusted R^2\""
      ]
     },
     "metadata": {
      "image/png": {
       "height": 420,
       "width": 420
      }
     },
     "output_type": "display_data"
    }
   ],
   "source": [
    "plot(df_best.s_sum$bic, type = \"l\", main = \"BIC\")\n",
    "points(11,df_best.s_sum$bic[11], col=\"red\",cex=2,pch=20)\n",
    "plot(df_best.s_sum$adjr2, type = \"l\", main = \"adjusted R^2\")\n",
    "points(11, df_best.s_sum$adjr2[11], col=\"red\",cex=2,pch=20)"
   ]
  },
  {
   "cell_type": "markdown",
   "id": "enabling-python",
   "metadata": {},
   "source": [
    "Используя индекс можно достать лучшую по мнению метода модель для конкретного числа признаков."
   ]
  },
  {
   "cell_type": "code",
   "execution_count": 29,
   "id": "liberal-burton",
   "metadata": {},
   "outputs": [
    {
     "name": "stdout",
     "output_type": "stream",
     "text": [
      "(Intercept)      che_de      kne_di      che_gi      wai_gi      hip_gi \n",
      "     69.878       0.653       0.804       2.439       3.953       1.777 \n",
      "     thi_gi      for_gi      cal_gi         age         hgt         sex \n",
      "      0.988       1.875       1.295      -0.482       3.093      -1.590 \n"
     ]
    }
   ],
   "source": [
    "print(coef(df_best.s, 11), digits = 3)\n",
    "coef_best_subset <- names(coef(df_best.s, 11))[-1]"
   ]
  },
  {
   "cell_type": "code",
   "execution_count": 30,
   "id": "smaller-mentor",
   "metadata": {},
   "outputs": [
    {
     "data": {
      "text/plain": [
       "\n",
       "Call:\n",
       "lm(formula = wgt ~ ., data = train[, c(\"wgt\", coeffs[2:12])])\n",
       "\n",
       "Residuals:\n",
       "    Min      1Q  Median      3Q     Max \n",
       "-7.7685 -1.5850  0.0472  1.4276  9.9064 \n",
       "\n",
       "Coefficients:\n",
       "            Estimate Std. Error t value Pr(>|t|)    \n",
       "(Intercept)  69.8775     0.3104 225.124  < 2e-16 ***\n",
       "che_de        0.6526     0.2067   3.157 0.001716 ** \n",
       "kne_di        0.8041     0.1898   4.238 2.82e-05 ***\n",
       "che_gi        2.4394     0.3510   6.950 1.53e-11 ***\n",
       "wai_gi        3.9527     0.3383  11.685  < 2e-16 ***\n",
       "hip_gi        1.7765     0.2993   5.936 6.43e-09 ***\n",
       "thi_gi        0.9884     0.2552   3.874 0.000126 ***\n",
       "for_gi        1.8754     0.3288   5.703 2.32e-08 ***\n",
       "cal_gi        1.2946     0.2034   6.366 5.41e-10 ***\n",
       "age          -0.4820     0.1394  -3.458 0.000604 ***\n",
       "hgt           3.0929     0.1788  17.295  < 2e-16 ***\n",
       "sex          -1.5900     0.5875  -2.706 0.007100 ** \n",
       "---\n",
       "Signif. codes:  0 '***' 0.001 '**' 0.01 '*' 0.05 '.' 0.1 ' ' 1\n",
       "\n",
       "Residual standard error: 2.29 on 393 degrees of freedom\n",
       "Multiple R-squared:  0.9694,\tAdjusted R-squared:  0.9686 \n",
       "F-statistic:  1132 on 11 and 393 DF,  p-value: < 2.2e-16\n"
      ]
     },
     "metadata": {},
     "output_type": "display_data"
    }
   ],
   "source": [
    "coeffs <- df_best.s$xnames[df_best.s_sum$which[11,]] \n",
    "best.s_model <- lm(wgt ~ ., data = train[,c('wgt',coeffs[2:12])])\n",
    "summary(best.s_model)"
   ]
  },
  {
   "cell_type": "code",
   "execution_count": 31,
   "id": "proud-kansas",
   "metadata": {},
   "outputs": [
    {
     "name": "stdout",
     "output_type": "stream",
     "text": [
      "RMSE_train_best.s  RMSE_test_best.s \n",
      "            2.256             2.158 \n"
     ]
    }
   ],
   "source": [
    "Y_train_best.s <- predict(best.s_model, train[,-23])\n",
    "Y_test_best.s <- predict(best.s_model, test[,-23])\n",
    "\n",
    "MSE_train_best.s <- sqrt(mean((Y_train_best.s - train$wgt)^2))\n",
    "MSE_test_best.s <- sqrt(mean((Y_test_best.s - test$wgt)^2)) \n",
    "print(c(\"RMSE_train_best.s\" = MSE_train_best.s, \"RMSE_test_best.s\" = MSE_test_best.s), digits = 4)"
   ]
  },
  {
   "cell_type": "markdown",
   "id": "polished-providence",
   "metadata": {},
   "source": [
    "Кросс-валидация"
   ]
  },
  {
   "cell_type": "code",
   "execution_count": 32,
   "id": "another-handle",
   "metadata": {},
   "outputs": [
    {
     "name": "stdout",
     "output_type": "stream",
     "text": [
      "[1] 2.289 2.286\n"
     ]
    }
   ],
   "source": [
    "set.seed(10)\n",
    "cost_f <- function(obs, pred) sqrt(mean((obs - pred)^2))\n",
    "sel_data <- df[,c('wgt',coeffs[2:12])]\n",
    "m_full <- glm(wgt ~ ., data = sel_data)\n",
    "cv_best.s <- cv.glm(data = sel_data, m_full, cost = cost_f, K=10)\n",
    "\n",
    "print(cv_best.s$delta, digits = 4)"
   ]
  },
  {
   "cell_type": "markdown",
   "id": "indian-trader",
   "metadata": {},
   "source": [
    "### Forward stepwise selection "
   ]
  },
  {
   "cell_type": "code",
   "execution_count": 33,
   "id": "pending-theory",
   "metadata": {},
   "outputs": [
    {
     "data": {
      "text/plain": [
       "Subset selection object\n",
       "Call: regsubsets.formula(wgt ~ ., data = train, nvmax = 24, method = \"forward\", \n",
       "    intercept = TRUE)\n",
       "24 Variables  (and intercept)\n",
       "       Forced in Forced out\n",
       "bia_di     FALSE      FALSE\n",
       "bii_di     FALSE      FALSE\n",
       "bit_di     FALSE      FALSE\n",
       "che_de     FALSE      FALSE\n",
       "che_di     FALSE      FALSE\n",
       "elb_di     FALSE      FALSE\n",
       "wri_di     FALSE      FALSE\n",
       "kne_di     FALSE      FALSE\n",
       "ank_di     FALSE      FALSE\n",
       "sho_gi     FALSE      FALSE\n",
       "che_gi     FALSE      FALSE\n",
       "wai_gi     FALSE      FALSE\n",
       "nav_gi     FALSE      FALSE\n",
       "hip_gi     FALSE      FALSE\n",
       "thi_gi     FALSE      FALSE\n",
       "bic_gi     FALSE      FALSE\n",
       "for_gi     FALSE      FALSE\n",
       "kne_gi     FALSE      FALSE\n",
       "cal_gi     FALSE      FALSE\n",
       "ank_gi     FALSE      FALSE\n",
       "wri_gi     FALSE      FALSE\n",
       "age        FALSE      FALSE\n",
       "hgt        FALSE      FALSE\n",
       "sex        FALSE      FALSE\n",
       "1 subsets of each size up to 24\n",
       "Selection Algorithm: forward\n",
       "          bia_di bii_di bit_di che_de che_di elb_di wri_di kne_di ank_di sho_gi\n",
       "1  ( 1 )  \" \"    \" \"    \" \"    \" \"    \" \"    \" \"    \" \"    \" \"    \" \"    \" \"   \n",
       "2  ( 1 )  \" \"    \" \"    \" \"    \" \"    \" \"    \" \"    \" \"    \" \"    \" \"    \" \"   \n",
       "3  ( 1 )  \" \"    \" \"    \" \"    \" \"    \" \"    \" \"    \" \"    \" \"    \" \"    \" \"   \n",
       "4  ( 1 )  \" \"    \" \"    \" \"    \" \"    \" \"    \" \"    \" \"    \" \"    \" \"    \" \"   \n",
       "5  ( 1 )  \" \"    \" \"    \" \"    \" \"    \" \"    \" \"    \" \"    \" \"    \" \"    \" \"   \n",
       "6  ( 1 )  \" \"    \" \"    \" \"    \" \"    \" \"    \" \"    \" \"    \" \"    \" \"    \" \"   \n",
       "7  ( 1 )  \" \"    \" \"    \" \"    \" \"    \" \"    \" \"    \" \"    \" \"    \" \"    \" \"   \n",
       "8  ( 1 )  \" \"    \" \"    \" \"    \" \"    \" \"    \" \"    \" \"    \" \"    \" \"    \" \"   \n",
       "9  ( 1 )  \" \"    \" \"    \" \"    \" \"    \" \"    \" \"    \" \"    \"*\"    \" \"    \" \"   \n",
       "10  ( 1 ) \" \"    \" \"    \" \"    \"*\"    \" \"    \" \"    \" \"    \"*\"    \" \"    \" \"   \n",
       "11  ( 1 ) \" \"    \" \"    \" \"    \"*\"    \" \"    \" \"    \" \"    \"*\"    \" \"    \" \"   \n",
       "12  ( 1 ) \" \"    \" \"    \" \"    \"*\"    \" \"    \" \"    \" \"    \"*\"    \" \"    \" \"   \n",
       "13  ( 1 ) \" \"    \" \"    \" \"    \"*\"    \"*\"    \" \"    \" \"    \"*\"    \" \"    \" \"   \n",
       "14  ( 1 ) \" \"    \"*\"    \" \"    \"*\"    \"*\"    \" \"    \" \"    \"*\"    \" \"    \" \"   \n",
       "15  ( 1 ) \" \"    \"*\"    \" \"    \"*\"    \"*\"    \" \"    \" \"    \"*\"    \" \"    \"*\"   \n",
       "16  ( 1 ) \" \"    \"*\"    \" \"    \"*\"    \"*\"    \" \"    \" \"    \"*\"    \"*\"    \"*\"   \n",
       "17  ( 1 ) \" \"    \"*\"    \" \"    \"*\"    \"*\"    \" \"    \" \"    \"*\"    \"*\"    \"*\"   \n",
       "18  ( 1 ) \" \"    \"*\"    \" \"    \"*\"    \"*\"    \" \"    \"*\"    \"*\"    \"*\"    \"*\"   \n",
       "19  ( 1 ) \" \"    \"*\"    \" \"    \"*\"    \"*\"    \" \"    \"*\"    \"*\"    \"*\"    \"*\"   \n",
       "20  ( 1 ) \" \"    \"*\"    \"*\"    \"*\"    \"*\"    \" \"    \"*\"    \"*\"    \"*\"    \"*\"   \n",
       "21  ( 1 ) \" \"    \"*\"    \"*\"    \"*\"    \"*\"    \"*\"    \"*\"    \"*\"    \"*\"    \"*\"   \n",
       "22  ( 1 ) \"*\"    \"*\"    \"*\"    \"*\"    \"*\"    \"*\"    \"*\"    \"*\"    \"*\"    \"*\"   \n",
       "23  ( 1 ) \"*\"    \"*\"    \"*\"    \"*\"    \"*\"    \"*\"    \"*\"    \"*\"    \"*\"    \"*\"   \n",
       "24  ( 1 ) \"*\"    \"*\"    \"*\"    \"*\"    \"*\"    \"*\"    \"*\"    \"*\"    \"*\"    \"*\"   \n",
       "          che_gi wai_gi nav_gi hip_gi thi_gi bic_gi for_gi kne_gi cal_gi ank_gi\n",
       "1  ( 1 )  \" \"    \"*\"    \" \"    \" \"    \" \"    \" \"    \" \"    \" \"    \" \"    \" \"   \n",
       "2  ( 1 )  \" \"    \"*\"    \" \"    \" \"    \" \"    \" \"    \" \"    \"*\"    \" \"    \" \"   \n",
       "3  ( 1 )  \" \"    \"*\"    \" \"    \" \"    \" \"    \" \"    \"*\"    \"*\"    \" \"    \" \"   \n",
       "4  ( 1 )  \" \"    \"*\"    \" \"    \" \"    \" \"    \" \"    \"*\"    \"*\"    \" \"    \" \"   \n",
       "5  ( 1 )  \" \"    \"*\"    \" \"    \"*\"    \" \"    \" \"    \"*\"    \"*\"    \" \"    \" \"   \n",
       "6  ( 1 )  \"*\"    \"*\"    \" \"    \"*\"    \" \"    \" \"    \"*\"    \"*\"    \" \"    \" \"   \n",
       "7  ( 1 )  \"*\"    \"*\"    \" \"    \"*\"    \" \"    \" \"    \"*\"    \"*\"    \"*\"    \" \"   \n",
       "8  ( 1 )  \"*\"    \"*\"    \" \"    \"*\"    \"*\"    \" \"    \"*\"    \"*\"    \"*\"    \" \"   \n",
       "9  ( 1 )  \"*\"    \"*\"    \" \"    \"*\"    \"*\"    \" \"    \"*\"    \"*\"    \"*\"    \" \"   \n",
       "10  ( 1 ) \"*\"    \"*\"    \" \"    \"*\"    \"*\"    \" \"    \"*\"    \"*\"    \"*\"    \" \"   \n",
       "11  ( 1 ) \"*\"    \"*\"    \" \"    \"*\"    \"*\"    \" \"    \"*\"    \"*\"    \"*\"    \" \"   \n",
       "12  ( 1 ) \"*\"    \"*\"    \" \"    \"*\"    \"*\"    \" \"    \"*\"    \"*\"    \"*\"    \" \"   \n",
       "13  ( 1 ) \"*\"    \"*\"    \" \"    \"*\"    \"*\"    \" \"    \"*\"    \"*\"    \"*\"    \" \"   \n",
       "14  ( 1 ) \"*\"    \"*\"    \" \"    \"*\"    \"*\"    \" \"    \"*\"    \"*\"    \"*\"    \" \"   \n",
       "15  ( 1 ) \"*\"    \"*\"    \" \"    \"*\"    \"*\"    \" \"    \"*\"    \"*\"    \"*\"    \" \"   \n",
       "16  ( 1 ) \"*\"    \"*\"    \" \"    \"*\"    \"*\"    \" \"    \"*\"    \"*\"    \"*\"    \" \"   \n",
       "17  ( 1 ) \"*\"    \"*\"    \" \"    \"*\"    \"*\"    \"*\"    \"*\"    \"*\"    \"*\"    \" \"   \n",
       "18  ( 1 ) \"*\"    \"*\"    \" \"    \"*\"    \"*\"    \"*\"    \"*\"    \"*\"    \"*\"    \" \"   \n",
       "19  ( 1 ) \"*\"    \"*\"    \" \"    \"*\"    \"*\"    \"*\"    \"*\"    \"*\"    \"*\"    \" \"   \n",
       "20  ( 1 ) \"*\"    \"*\"    \" \"    \"*\"    \"*\"    \"*\"    \"*\"    \"*\"    \"*\"    \" \"   \n",
       "21  ( 1 ) \"*\"    \"*\"    \" \"    \"*\"    \"*\"    \"*\"    \"*\"    \"*\"    \"*\"    \" \"   \n",
       "22  ( 1 ) \"*\"    \"*\"    \" \"    \"*\"    \"*\"    \"*\"    \"*\"    \"*\"    \"*\"    \" \"   \n",
       "23  ( 1 ) \"*\"    \"*\"    \" \"    \"*\"    \"*\"    \"*\"    \"*\"    \"*\"    \"*\"    \"*\"   \n",
       "24  ( 1 ) \"*\"    \"*\"    \"*\"    \"*\"    \"*\"    \"*\"    \"*\"    \"*\"    \"*\"    \"*\"   \n",
       "          wri_gi age hgt sex\n",
       "1  ( 1 )  \" \"    \" \" \" \" \" \"\n",
       "2  ( 1 )  \" \"    \" \" \" \" \" \"\n",
       "3  ( 1 )  \" \"    \" \" \" \" \" \"\n",
       "4  ( 1 )  \" \"    \" \" \"*\" \" \"\n",
       "5  ( 1 )  \" \"    \" \" \"*\" \" \"\n",
       "6  ( 1 )  \" \"    \" \" \"*\" \" \"\n",
       "7  ( 1 )  \" \"    \" \" \"*\" \" \"\n",
       "8  ( 1 )  \" \"    \" \" \"*\" \" \"\n",
       "9  ( 1 )  \" \"    \" \" \"*\" \" \"\n",
       "10  ( 1 ) \" \"    \" \" \"*\" \" \"\n",
       "11  ( 1 ) \" \"    \"*\" \"*\" \" \"\n",
       "12  ( 1 ) \" \"    \"*\" \"*\" \"*\"\n",
       "13  ( 1 ) \" \"    \"*\" \"*\" \"*\"\n",
       "14  ( 1 ) \" \"    \"*\" \"*\" \"*\"\n",
       "15  ( 1 ) \" \"    \"*\" \"*\" \"*\"\n",
       "16  ( 1 ) \" \"    \"*\" \"*\" \"*\"\n",
       "17  ( 1 ) \" \"    \"*\" \"*\" \"*\"\n",
       "18  ( 1 ) \" \"    \"*\" \"*\" \"*\"\n",
       "19  ( 1 ) \"*\"    \"*\" \"*\" \"*\"\n",
       "20  ( 1 ) \"*\"    \"*\" \"*\" \"*\"\n",
       "21  ( 1 ) \"*\"    \"*\" \"*\" \"*\"\n",
       "22  ( 1 ) \"*\"    \"*\" \"*\" \"*\"\n",
       "23  ( 1 ) \"*\"    \"*\" \"*\" \"*\"\n",
       "24  ( 1 ) \"*\"    \"*\" \"*\" \"*\""
      ]
     },
     "metadata": {},
     "output_type": "display_data"
    }
   ],
   "source": [
    "df_fs <- regsubsets(wgt~., data = train, nvmax = 24, method = \"forward\", intercept=TRUE)\n",
    "df_fs_sum <- summary(df_fs)\n",
    "df_fs_sum"
   ]
  },
  {
   "cell_type": "code",
   "execution_count": 34,
   "id": "dying-spanking",
   "metadata": {},
   "outputs": [
    {
     "data": {
      "image/png": "[encoded data removed]",
      "text/plain": [
       "Plot with title \"BIC\""
      ]
     },
     "metadata": {
      "image/png": {
       "height": 420,
       "width": 420
      }
     },
     "output_type": "display_data"
    },
    {
     "data": {
      "image/png": "[encoded data removed]",
      "text/plain": [
       "Plot with title \"adjusted R^2\""
      ]
     },
     "metadata": {
      "image/png": {
       "height": 420,
       "width": 420
      }
     },
     "output_type": "display_data"
    }
   ],
   "source": [
    "plot(df_fs_sum$bic, type = \"l\", main = \"BIC\")\n",
    "points(11,df_fs_sum$bic[11], col=\"red\",cex=2,pch=20)\n",
    "plot(df_fs_sum$adjr2, type = \"l\", main = \"adjusted R^2\")\n",
    "points(11,df_fs_sum$adjr2[11], col=\"red\",cex=2,pch=20)"
   ]
  },
  {
   "cell_type": "code",
   "execution_count": 35,
   "id": "external-dubai",
   "metadata": {},
   "outputs": [
    {
     "name": "stdout",
     "output_type": "stream",
     "text": [
      "(Intercept)      che_de      kne_di      che_gi      wai_gi      hip_gi \n",
      "     69.102       0.619       0.627       2.509       3.493       1.913 \n",
      "     thi_gi      for_gi      kne_gi      cal_gi         age         hgt \n",
      "      1.099       1.474       0.606       1.096      -0.412       2.840 \n"
     ]
    }
   ],
   "source": [
    "print(coef(df_fs, 11), digits = 3)\n",
    "coef_forward <- names(coef(df_fs, 11))[-1]"
   ]
  },
  {
   "cell_type": "code",
   "execution_count": 36,
   "id": "rural-convenience",
   "metadata": {},
   "outputs": [
    {
     "data": {
      "text/plain": [
       "\n",
       "Call:\n",
       "lm(formula = wgt ~ ., data = train[, c(\"wgt\", coeffs[2:12])])\n",
       "\n",
       "Residuals:\n",
       "    Min      1Q  Median      3Q     Max \n",
       "-8.0707 -1.5223 -0.0194  1.3559 10.3860 \n",
       "\n",
       "Coefficients:\n",
       "            Estimate Std. Error t value Pr(>|t|)    \n",
       "(Intercept)  69.1021     0.1141 605.434  < 2e-16 ***\n",
       "che_de        0.6187     0.2066   2.995  0.00292 ** \n",
       "kne_di        0.6266     0.1953   3.208  0.00145 ** \n",
       "che_gi        2.5086     0.3534   7.098 5.94e-12 ***\n",
       "wai_gi        3.4928     0.3123  11.186  < 2e-16 ***\n",
       "hip_gi        1.9133     0.2874   6.658 9.37e-11 ***\n",
       "thi_gi        1.0990     0.2480   4.432 1.21e-05 ***\n",
       "for_gi        1.4743     0.3052   4.831 1.95e-06 ***\n",
       "kne_gi        0.6058     0.2302   2.632  0.00883 ** \n",
       "cal_gi        1.0957     0.2168   5.054 6.64e-07 ***\n",
       "age          -0.4120     0.1385  -2.974  0.00312 ** \n",
       "hgt           2.8401     0.1704  16.670  < 2e-16 ***\n",
       "---\n",
       "Signif. codes:  0 '***' 0.001 '**' 0.01 '*' 0.05 '.' 0.1 ' ' 1\n",
       "\n",
       "Residual standard error: 2.291 on 393 degrees of freedom\n",
       "Multiple R-squared:  0.9694,\tAdjusted R-squared:  0.9685 \n",
       "F-statistic:  1131 on 11 and 393 DF,  p-value: < 2.2e-16\n"
      ]
     },
     "metadata": {},
     "output_type": "display_data"
    }
   ],
   "source": [
    "coeffs <- df_fs$xnames[df_fs_sum$which[11,]] \n",
    "fs_model <- lm(wgt ~ ., data = train[,c('wgt',coeffs[2:12])])\n",
    "summary(fs_model )"
   ]
  },
  {
   "cell_type": "code",
   "execution_count": 37,
   "id": "limited-scholar",
   "metadata": {},
   "outputs": [
    {
     "name": "stdout",
     "output_type": "stream",
     "text": [
      "RMSE_train_fs  RMSE_test_fs \n",
      "        2.257         2.103 \n"
     ]
    }
   ],
   "source": [
    "Y_train_fs <- predict(fs_model, train[,-23])\n",
    "Y_test_fs <- predict(fs_model, test[,-23])\n",
    "\n",
    "MSE_train_fs <- sqrt(mean((Y_train_fs - train$wgt)^2))\n",
    "MSE_test_fs <- sqrt(mean((Y_test_fs - test$wgt)^2)) \n",
    "print(c(\"RMSE_train_fs\" = MSE_train_fs, \"RMSE_test_fs\" = MSE_test_fs), digits = 4)"
   ]
  },
  {
   "cell_type": "code",
   "execution_count": 38,
   "id": "informational-bonus",
   "metadata": {},
   "outputs": [
    {
     "name": "stdout",
     "output_type": "stream",
     "text": [
      "[1] 2.287 2.283\n"
     ]
    }
   ],
   "source": [
    "set.seed(10)\n",
    "cost_f <- function(obs, pred) sqrt(mean((obs - pred)^2))\n",
    "sel_data <- df[,c('wgt',coeffs[2:12])]\n",
    "m_full <- glm(wgt ~ ., data = sel_data)\n",
    "cv_best.s <- cv.glm(data = sel_data, m_full, cost = cost_f, K=10)\n",
    "\n",
    "print(cv_best.s$delta, digits = 4)"
   ]
  },
  {
   "cell_type": "markdown",
   "id": "tamil-aberdeen",
   "metadata": {},
   "source": [
    "### Backward stepwise selection"
   ]
  },
  {
   "cell_type": "code",
   "execution_count": 39,
   "id": "nervous-rabbit",
   "metadata": {},
   "outputs": [
    {
     "data": {
      "text/plain": [
       "Subset selection object\n",
       "Call: regsubsets.formula(wgt ~ ., data = train, intercept = TRUE, nvmax = 24, \n",
       "    method = \"backward\")\n",
       "24 Variables  (and intercept)\n",
       "       Forced in Forced out\n",
       "bia_di     FALSE      FALSE\n",
       "bii_di     FALSE      FALSE\n",
       "bit_di     FALSE      FALSE\n",
       "che_de     FALSE      FALSE\n",
       "che_di     FALSE      FALSE\n",
       "elb_di     FALSE      FALSE\n",
       "wri_di     FALSE      FALSE\n",
       "kne_di     FALSE      FALSE\n",
       "ank_di     FALSE      FALSE\n",
       "sho_gi     FALSE      FALSE\n",
       "che_gi     FALSE      FALSE\n",
       "wai_gi     FALSE      FALSE\n",
       "nav_gi     FALSE      FALSE\n",
       "hip_gi     FALSE      FALSE\n",
       "thi_gi     FALSE      FALSE\n",
       "bic_gi     FALSE      FALSE\n",
       "for_gi     FALSE      FALSE\n",
       "kne_gi     FALSE      FALSE\n",
       "cal_gi     FALSE      FALSE\n",
       "ank_gi     FALSE      FALSE\n",
       "wri_gi     FALSE      FALSE\n",
       "age        FALSE      FALSE\n",
       "hgt        FALSE      FALSE\n",
       "sex        FALSE      FALSE\n",
       "1 subsets of each size up to 24\n",
       "Selection Algorithm: backward\n",
       "          bia_di bii_di bit_di che_de che_di elb_di wri_di kne_di ank_di sho_gi\n",
       "1  ( 1 )  \" \"    \" \"    \" \"    \" \"    \" \"    \" \"    \" \"    \" \"    \" \"    \" \"   \n",
       "2  ( 1 )  \" \"    \" \"    \" \"    \" \"    \" \"    \" \"    \" \"    \" \"    \" \"    \" \"   \n",
       "3  ( 1 )  \" \"    \" \"    \" \"    \" \"    \" \"    \" \"    \" \"    \" \"    \" \"    \" \"   \n",
       "4  ( 1 )  \" \"    \" \"    \" \"    \" \"    \" \"    \" \"    \" \"    \" \"    \" \"    \" \"   \n",
       "5  ( 1 )  \" \"    \" \"    \" \"    \" \"    \" \"    \" \"    \" \"    \" \"    \" \"    \" \"   \n",
       "6  ( 1 )  \" \"    \" \"    \" \"    \" \"    \" \"    \" \"    \" \"    \" \"    \" \"    \" \"   \n",
       "7  ( 1 )  \" \"    \" \"    \" \"    \" \"    \" \"    \" \"    \" \"    \" \"    \" \"    \" \"   \n",
       "8  ( 1 )  \" \"    \" \"    \" \"    \" \"    \" \"    \" \"    \" \"    \"*\"    \" \"    \" \"   \n",
       "9  ( 1 )  \" \"    \" \"    \" \"    \" \"    \" \"    \" \"    \" \"    \"*\"    \" \"    \" \"   \n",
       "10  ( 1 ) \" \"    \" \"    \" \"    \"*\"    \" \"    \" \"    \" \"    \"*\"    \" \"    \" \"   \n",
       "11  ( 1 ) \" \"    \" \"    \" \"    \"*\"    \" \"    \" \"    \" \"    \"*\"    \" \"    \" \"   \n",
       "12  ( 1 ) \" \"    \" \"    \" \"    \"*\"    \"*\"    \" \"    \" \"    \"*\"    \" \"    \" \"   \n",
       "13  ( 1 ) \" \"    \" \"    \" \"    \"*\"    \"*\"    \" \"    \" \"    \"*\"    \" \"    \" \"   \n",
       "14  ( 1 ) \" \"    \"*\"    \" \"    \"*\"    \"*\"    \" \"    \" \"    \"*\"    \" \"    \" \"   \n",
       "15  ( 1 ) \" \"    \"*\"    \" \"    \"*\"    \"*\"    \" \"    \" \"    \"*\"    \" \"    \"*\"   \n",
       "16  ( 1 ) \" \"    \"*\"    \" \"    \"*\"    \"*\"    \" \"    \" \"    \"*\"    \"*\"    \"*\"   \n",
       "17  ( 1 ) \" \"    \"*\"    \" \"    \"*\"    \"*\"    \" \"    \" \"    \"*\"    \"*\"    \"*\"   \n",
       "18  ( 1 ) \" \"    \"*\"    \" \"    \"*\"    \"*\"    \" \"    \"*\"    \"*\"    \"*\"    \"*\"   \n",
       "19  ( 1 ) \" \"    \"*\"    \" \"    \"*\"    \"*\"    \" \"    \"*\"    \"*\"    \"*\"    \"*\"   \n",
       "20  ( 1 ) \" \"    \"*\"    \"*\"    \"*\"    \"*\"    \" \"    \"*\"    \"*\"    \"*\"    \"*\"   \n",
       "21  ( 1 ) \" \"    \"*\"    \"*\"    \"*\"    \"*\"    \"*\"    \"*\"    \"*\"    \"*\"    \"*\"   \n",
       "22  ( 1 ) \"*\"    \"*\"    \"*\"    \"*\"    \"*\"    \"*\"    \"*\"    \"*\"    \"*\"    \"*\"   \n",
       "23  ( 1 ) \"*\"    \"*\"    \"*\"    \"*\"    \"*\"    \"*\"    \"*\"    \"*\"    \"*\"    \"*\"   \n",
       "24  ( 1 ) \"*\"    \"*\"    \"*\"    \"*\"    \"*\"    \"*\"    \"*\"    \"*\"    \"*\"    \"*\"   \n",
       "          che_gi wai_gi nav_gi hip_gi thi_gi bic_gi for_gi kne_gi cal_gi ank_gi\n",
       "1  ( 1 )  \"*\"    \" \"    \" \"    \" \"    \" \"    \" \"    \" \"    \" \"    \" \"    \" \"   \n",
       "2  ( 1 )  \"*\"    \" \"    \" \"    \"*\"    \" \"    \" \"    \" \"    \" \"    \" \"    \" \"   \n",
       "3  ( 1 )  \"*\"    \" \"    \" \"    \"*\"    \" \"    \" \"    \" \"    \" \"    \" \"    \" \"   \n",
       "4  ( 1 )  \"*\"    \" \"    \" \"    \"*\"    \" \"    \" \"    \" \"    \" \"    \"*\"    \" \"   \n",
       "5  ( 1 )  \"*\"    \"*\"    \" \"    \"*\"    \" \"    \" \"    \" \"    \" \"    \"*\"    \" \"   \n",
       "6  ( 1 )  \"*\"    \"*\"    \" \"    \"*\"    \" \"    \" \"    \"*\"    \" \"    \"*\"    \" \"   \n",
       "7  ( 1 )  \"*\"    \"*\"    \" \"    \"*\"    \"*\"    \" \"    \"*\"    \" \"    \"*\"    \" \"   \n",
       "8  ( 1 )  \"*\"    \"*\"    \" \"    \"*\"    \"*\"    \" \"    \"*\"    \" \"    \"*\"    \" \"   \n",
       "9  ( 1 )  \"*\"    \"*\"    \" \"    \"*\"    \"*\"    \" \"    \"*\"    \" \"    \"*\"    \" \"   \n",
       "10  ( 1 ) \"*\"    \"*\"    \" \"    \"*\"    \"*\"    \" \"    \"*\"    \" \"    \"*\"    \" \"   \n",
       "11  ( 1 ) \"*\"    \"*\"    \" \"    \"*\"    \"*\"    \" \"    \"*\"    \" \"    \"*\"    \" \"   \n",
       "12  ( 1 ) \"*\"    \"*\"    \" \"    \"*\"    \"*\"    \" \"    \"*\"    \" \"    \"*\"    \" \"   \n",
       "13  ( 1 ) \"*\"    \"*\"    \" \"    \"*\"    \"*\"    \" \"    \"*\"    \"*\"    \"*\"    \" \"   \n",
       "14  ( 1 ) \"*\"    \"*\"    \" \"    \"*\"    \"*\"    \" \"    \"*\"    \"*\"    \"*\"    \" \"   \n",
       "15  ( 1 ) \"*\"    \"*\"    \" \"    \"*\"    \"*\"    \" \"    \"*\"    \"*\"    \"*\"    \" \"   \n",
       "16  ( 1 ) \"*\"    \"*\"    \" \"    \"*\"    \"*\"    \" \"    \"*\"    \"*\"    \"*\"    \" \"   \n",
       "17  ( 1 ) \"*\"    \"*\"    \" \"    \"*\"    \"*\"    \"*\"    \"*\"    \"*\"    \"*\"    \" \"   \n",
       "18  ( 1 ) \"*\"    \"*\"    \" \"    \"*\"    \"*\"    \"*\"    \"*\"    \"*\"    \"*\"    \" \"   \n",
       "19  ( 1 ) \"*\"    \"*\"    \" \"    \"*\"    \"*\"    \"*\"    \"*\"    \"*\"    \"*\"    \" \"   \n",
       "20  ( 1 ) \"*\"    \"*\"    \" \"    \"*\"    \"*\"    \"*\"    \"*\"    \"*\"    \"*\"    \" \"   \n",
       "21  ( 1 ) \"*\"    \"*\"    \" \"    \"*\"    \"*\"    \"*\"    \"*\"    \"*\"    \"*\"    \" \"   \n",
       "22  ( 1 ) \"*\"    \"*\"    \" \"    \"*\"    \"*\"    \"*\"    \"*\"    \"*\"    \"*\"    \" \"   \n",
       "23  ( 1 ) \"*\"    \"*\"    \" \"    \"*\"    \"*\"    \"*\"    \"*\"    \"*\"    \"*\"    \"*\"   \n",
       "24  ( 1 ) \"*\"    \"*\"    \"*\"    \"*\"    \"*\"    \"*\"    \"*\"    \"*\"    \"*\"    \"*\"   \n",
       "          wri_gi age hgt sex\n",
       "1  ( 1 )  \" \"    \" \" \" \" \" \"\n",
       "2  ( 1 )  \" \"    \" \" \" \" \" \"\n",
       "3  ( 1 )  \" \"    \" \" \"*\" \" \"\n",
       "4  ( 1 )  \" \"    \" \" \"*\" \" \"\n",
       "5  ( 1 )  \" \"    \" \" \"*\" \" \"\n",
       "6  ( 1 )  \" \"    \" \" \"*\" \" \"\n",
       "7  ( 1 )  \" \"    \" \" \"*\" \" \"\n",
       "8  ( 1 )  \" \"    \" \" \"*\" \" \"\n",
       "9  ( 1 )  \" \"    \"*\" \"*\" \" \"\n",
       "10  ( 1 ) \" \"    \"*\" \"*\" \" \"\n",
       "11  ( 1 ) \" \"    \"*\" \"*\" \"*\"\n",
       "12  ( 1 ) \" \"    \"*\" \"*\" \"*\"\n",
       "13  ( 1 ) \" \"    \"*\" \"*\" \"*\"\n",
       "14  ( 1 ) \" \"    \"*\" \"*\" \"*\"\n",
       "15  ( 1 ) \" \"    \"*\" \"*\" \"*\"\n",
       "16  ( 1 ) \" \"    \"*\" \"*\" \"*\"\n",
       "17  ( 1 ) \" \"    \"*\" \"*\" \"*\"\n",
       "18  ( 1 ) \" \"    \"*\" \"*\" \"*\"\n",
       "19  ( 1 ) \"*\"    \"*\" \"*\" \"*\"\n",
       "20  ( 1 ) \"*\"    \"*\" \"*\" \"*\"\n",
       "21  ( 1 ) \"*\"    \"*\" \"*\" \"*\"\n",
       "22  ( 1 ) \"*\"    \"*\" \"*\" \"*\"\n",
       "23  ( 1 ) \"*\"    \"*\" \"*\" \"*\"\n",
       "24  ( 1 ) \"*\"    \"*\" \"*\" \"*\""
      ]
     },
     "metadata": {},
     "output_type": "display_data"
    }
   ],
   "source": [
    "df_bs <- regsubsets(wgt~., data = train, intercept = TRUE, nvmax = 24, method = \"backward\")\n",
    "df_bs_sum<- summary(df_bs)\n",
    "df_bs_sum"
   ]
  },
  {
   "cell_type": "code",
   "execution_count": 40,
   "id": "shaped-pressing",
   "metadata": {},
   "outputs": [
    {
     "data": {
      "image/png": "[encoded data removed]",
      "text/plain": [
       "Plot with title \"BIC\""
      ]
     },
     "metadata": {
      "image/png": {
       "height": 420,
       "width": 420
      }
     },
     "output_type": "display_data"
    },
    {
     "data": {
      "image/png": "[encoded data removed]",
      "text/plain": [
       "Plot with title \"adjusted R^2\""
      ]
     },
     "metadata": {
      "image/png": {
       "height": 420,
       "width": 420
      }
     },
     "output_type": "display_data"
    }
   ],
   "source": [
    "plot(df_bs_sum$bic, type = \"l\", main = \"BIC\")\n",
    "points(11,df_bs_sum$bic[11], col=\"red\",cex=2,pch=20)\n",
    "plot(df_bs_sum$adjr2, type = \"l\", main = \"adjusted R^2\")\n",
    "points(11,df_bs_sum$adjr2[11], col=\"red\",cex=2,pch=20)"
   ]
  },
  {
   "cell_type": "code",
   "execution_count": 41,
   "id": "signal-europe",
   "metadata": {},
   "outputs": [
    {
     "name": "stdout",
     "output_type": "stream",
     "text": [
      "(Intercept)      che_de      kne_di      che_gi      wai_gi      hip_gi \n",
      "     69.878       0.653       0.804       2.439       3.953       1.777 \n",
      "     thi_gi      for_gi      cal_gi         age         hgt         sex \n",
      "      0.988       1.875       1.295      -0.482       3.093      -1.590 \n"
     ]
    }
   ],
   "source": [
    "print(coef(df_bs, 11), digits = 3)\n",
    "coef_backward <- names(coef(df_bs, 11))[-1]"
   ]
  },
  {
   "cell_type": "code",
   "execution_count": 42,
   "id": "orange-arthur",
   "metadata": {},
   "outputs": [
    {
     "data": {
      "text/plain": [
       "\n",
       "Call:\n",
       "lm(formula = wgt ~ ., data = train[, c(\"wgt\", coeffs[2:12])])\n",
       "\n",
       "Residuals:\n",
       "    Min      1Q  Median      3Q     Max \n",
       "-7.7685 -1.5850  0.0472  1.4276  9.9064 \n",
       "\n",
       "Coefficients:\n",
       "            Estimate Std. Error t value Pr(>|t|)    \n",
       "(Intercept)  69.8775     0.3104 225.124  < 2e-16 ***\n",
       "che_de        0.6526     0.2067   3.157 0.001716 ** \n",
       "kne_di        0.8041     0.1898   4.238 2.82e-05 ***\n",
       "che_gi        2.4394     0.3510   6.950 1.53e-11 ***\n",
       "wai_gi        3.9527     0.3383  11.685  < 2e-16 ***\n",
       "hip_gi        1.7765     0.2993   5.936 6.43e-09 ***\n",
       "thi_gi        0.9884     0.2552   3.874 0.000126 ***\n",
       "for_gi        1.8754     0.3288   5.703 2.32e-08 ***\n",
       "cal_gi        1.2946     0.2034   6.366 5.41e-10 ***\n",
       "age          -0.4820     0.1394  -3.458 0.000604 ***\n",
       "hgt           3.0929     0.1788  17.295  < 2e-16 ***\n",
       "sex          -1.5900     0.5875  -2.706 0.007100 ** \n",
       "---\n",
       "Signif. codes:  0 '***' 0.001 '**' 0.01 '*' 0.05 '.' 0.1 ' ' 1\n",
       "\n",
       "Residual standard error: 2.29 on 393 degrees of freedom\n",
       "Multiple R-squared:  0.9694,\tAdjusted R-squared:  0.9686 \n",
       "F-statistic:  1132 on 11 and 393 DF,  p-value: < 2.2e-16\n"
      ]
     },
     "metadata": {},
     "output_type": "display_data"
    }
   ],
   "source": [
    "coeffs <- df_bs$xnames[df_bs_sum$which[11,]] \n",
    "bs_model <- lm(wgt ~ ., data = train[,c('wgt',coeffs[2:12])])\n",
    "summary(bs_model )"
   ]
  },
  {
   "cell_type": "code",
   "execution_count": 43,
   "id": "linear-street",
   "metadata": {},
   "outputs": [
    {
     "name": "stdout",
     "output_type": "stream",
     "text": [
      "RMSE_train_bs  RMSE_test_bs \n",
      "        2.256         2.158 \n"
     ]
    }
   ],
   "source": [
    "Y_train_bs <- predict(bs_model, train[,-23])\n",
    "Y_test_bs <- predict(bs_model, test[,-23])\n",
    "\n",
    "MSE_train_bs <- sqrt(mean((Y_train_bs - train$wgt)^2))\n",
    "MSE_test_bs <- sqrt(mean((Y_test_bs - test$wgt)^2)) \n",
    "print(c(\"RMSE_train_bs\" = MSE_train_bs, \"RMSE_test_bs\" = MSE_test_bs), digits = 4)"
   ]
  },
  {
   "cell_type": "code",
   "execution_count": 44,
   "id": "satisfied-arizona",
   "metadata": {},
   "outputs": [
    {
     "name": "stdout",
     "output_type": "stream",
     "text": [
      "[1] 2.289 2.286\n"
     ]
    }
   ],
   "source": [
    "set.seed(10)\n",
    "cost_f <- function(obs, pred) sqrt(mean((obs - pred)^2))\n",
    "sel_data <- df[,c('wgt',coeffs[2:12])]\n",
    "m_full <- glm(wgt ~ ., data = sel_data)\n",
    "cv_best.s <- cv.glm(data = sel_data, m_full, cost = cost_f, K=10)\n",
    "\n",
    "print(cv_best.s$delta, digits = 4)"
   ]
  },
  {
   "cell_type": "markdown",
   "id": "printable-admission",
   "metadata": {},
   "source": [
    "### Сравнение моделей по значениям RMSE\n",
    "\n",
    "|RMSE/ Model           |     Train     |     Test    |\n",
    "| :--------------------: |:-------------:| :----------:|\n",
    "|Full model              |     $2.183$   |     $2.118$ |\n",
    "|Ridge                   |     $2.271$   |     $2.242$ |\n",
    "|Lasso                   |     $2.220$   |     $2.104$ |\n",
    "\n",
    "|  Model                 |  RMSE (CV)    |\n",
    "| :--------------------: |:-------------:|\n",
    "|Best subset selection   |     $2.289$   |\n",
    "|Forward selection       |     $2.287$   |\n",
    "|Backward selection      |     $2.289$   |\n",
    "\n",
    "Минимльная ошибка на тестовом множестве достигается при использовании Lasso. Оценки RMSE выше при использовании кросс-валидации."
   ]
  },
  {
   "cell_type": "markdown",
   "id": "going-throat",
   "metadata": {},
   "source": [
    "Выбранные признаки в каждой модели и их колличество."
   ]
  },
  {
   "cell_type": "code",
   "execution_count": 45,
   "id": "prescribed-giving",
   "metadata": {},
   "outputs": [
    {
     "data": {
      "text/html": [
       "<dl>\n",
       "\t<dt>$Ridge</dt>\n",
       "\t\t<dd><style>\n",
       ".list-inline {list-style: none; margin:0; padding: 0}\n",
       ".list-inline>li {display: inline-block}\n",
       ".list-inline>li:not(:last-child)::after {content: \"\\00b7\"; padding: 0 .5ex}\n",
       "</style>\n",
       "<ol class=list-inline><li>'bia_di'</li><li>'bii_di'</li><li>'bit_di'</li><li>'che_de'</li><li>'che_di'</li><li>'elb_di'</li><li>'wri_di'</li><li>'kne_di'</li><li>'ank_di'</li><li>'sho_gi'</li><li>'che_gi'</li><li>'wai_gi'</li><li>'nav_gi'</li><li>'hip_gi'</li><li>'thi_gi'</li><li>'bic_gi'</li><li>'for_gi'</li><li>'kne_gi'</li><li>'cal_gi'</li><li>'ank_gi'</li><li>'wri_gi'</li><li>'age'</li><li>'hgt'</li><li>'sex'</li></ol>\n",
       "</dd>\n",
       "\t<dt>$Lasso</dt>\n",
       "\t\t<dd><style>\n",
       ".list-inline {list-style: none; margin:0; padding: 0}\n",
       ".list-inline>li {display: inline-block}\n",
       ".list-inline>li:not(:last-child)::after {content: \"\\00b7\"; padding: 0 .5ex}\n",
       "</style>\n",
       "<ol class=list-inline><li>'bii_di'</li><li>'che_de'</li><li>'che_di'</li><li>'elb_di'</li><li>'wri_di'</li><li>'kne_di'</li><li>'ank_di'</li><li>'sho_gi'</li><li>'che_gi'</li><li>'wai_gi'</li><li>'nav_gi'</li><li>'hip_gi'</li><li>'thi_gi'</li><li>'bic_gi'</li><li>'for_gi'</li><li>'kne_gi'</li><li>'cal_gi'</li><li>'age'</li><li>'hgt'</li></ol>\n",
       "</dd>\n",
       "\t<dt>$Best_subset</dt>\n",
       "\t\t<dd><style>\n",
       ".list-inline {list-style: none; margin:0; padding: 0}\n",
       ".list-inline>li {display: inline-block}\n",
       ".list-inline>li:not(:last-child)::after {content: \"\\00b7\"; padding: 0 .5ex}\n",
       "</style>\n",
       "<ol class=list-inline><li>'che_de'</li><li>'kne_di'</li><li>'che_gi'</li><li>'wai_gi'</li><li>'hip_gi'</li><li>'thi_gi'</li><li>'for_gi'</li><li>'cal_gi'</li><li>'age'</li><li>'hgt'</li><li>'sex'</li></ol>\n",
       "</dd>\n",
       "\t<dt>$Forward</dt>\n",
       "\t\t<dd><style>\n",
       ".list-inline {list-style: none; margin:0; padding: 0}\n",
       ".list-inline>li {display: inline-block}\n",
       ".list-inline>li:not(:last-child)::after {content: \"\\00b7\"; padding: 0 .5ex}\n",
       "</style>\n",
       "<ol class=list-inline><li>'che_de'</li><li>'kne_di'</li><li>'che_gi'</li><li>'wai_gi'</li><li>'hip_gi'</li><li>'thi_gi'</li><li>'for_gi'</li><li>'kne_gi'</li><li>'cal_gi'</li><li>'age'</li><li>'hgt'</li></ol>\n",
       "</dd>\n",
       "\t<dt>$Backward</dt>\n",
       "\t\t<dd><style>\n",
       ".list-inline {list-style: none; margin:0; padding: 0}\n",
       ".list-inline>li {display: inline-block}\n",
       ".list-inline>li:not(:last-child)::after {content: \"\\00b7\"; padding: 0 .5ex}\n",
       "</style>\n",
       "<ol class=list-inline><li>'che_de'</li><li>'kne_di'</li><li>'che_gi'</li><li>'wai_gi'</li><li>'hip_gi'</li><li>'thi_gi'</li><li>'for_gi'</li><li>'cal_gi'</li><li>'age'</li><li>'hgt'</li><li>'sex'</li></ol>\n",
       "</dd>\n",
       "</dl>\n"
      ],
      "text/latex": [
       "\\begin{description}\n",
       "\\item[\\$Ridge] \\begin{enumerate*}\n",
       "\\item 'bia\\_di'\n",
       "\\item 'bii\\_di'\n",
       "\\item 'bit\\_di'\n",
       "\\item 'che\\_de'\n",
       "\\item 'che\\_di'\n",
       "\\item 'elb\\_di'\n",
       "\\item 'wri\\_di'\n",
       "\\item 'kne\\_di'\n",
       "\\item 'ank\\_di'\n",
       "\\item 'sho\\_gi'\n",
       "\\item 'che\\_gi'\n",
       "\\item 'wai\\_gi'\n",
       "\\item 'nav\\_gi'\n",
       "\\item 'hip\\_gi'\n",
       "\\item 'thi\\_gi'\n",
       "\\item 'bic\\_gi'\n",
       "\\item 'for\\_gi'\n",
       "\\item 'kne\\_gi'\n",
       "\\item 'cal\\_gi'\n",
       "\\item 'ank\\_gi'\n",
       "\\item 'wri\\_gi'\n",
       "\\item 'age'\n",
       "\\item 'hgt'\n",
       "\\item 'sex'\n",
       "\\end{enumerate*}\n",
       "\n",
       "\\item[\\$Lasso] \\begin{enumerate*}\n",
       "\\item 'bii\\_di'\n",
       "\\item 'che\\_de'\n",
       "\\item 'che\\_di'\n",
       "\\item 'elb\\_di'\n",
       "\\item 'wri\\_di'\n",
       "\\item 'kne\\_di'\n",
       "\\item 'ank\\_di'\n",
       "\\item 'sho\\_gi'\n",
       "\\item 'che\\_gi'\n",
       "\\item 'wai\\_gi'\n",
       "\\item 'nav\\_gi'\n",
       "\\item 'hip\\_gi'\n",
       "\\item 'thi\\_gi'\n",
       "\\item 'bic\\_gi'\n",
       "\\item 'for\\_gi'\n",
       "\\item 'kne\\_gi'\n",
       "\\item 'cal\\_gi'\n",
       "\\item 'age'\n",
       "\\item 'hgt'\n",
       "\\end{enumerate*}\n",
       "\n",
       "\\item[\\$Best\\_subset] \\begin{enumerate*}\n",
       "\\item 'che\\_de'\n",
       "\\item 'kne\\_di'\n",
       "\\item 'che\\_gi'\n",
       "\\item 'wai\\_gi'\n",
       "\\item 'hip\\_gi'\n",
       "\\item 'thi\\_gi'\n",
       "\\item 'for\\_gi'\n",
       "\\item 'cal\\_gi'\n",
       "\\item 'age'\n",
       "\\item 'hgt'\n",
       "\\item 'sex'\n",
       "\\end{enumerate*}\n",
       "\n",
       "\\item[\\$Forward] \\begin{enumerate*}\n",
       "\\item 'che\\_de'\n",
       "\\item 'kne\\_di'\n",
       "\\item 'che\\_gi'\n",
       "\\item 'wai\\_gi'\n",
       "\\item 'hip\\_gi'\n",
       "\\item 'thi\\_gi'\n",
       "\\item 'for\\_gi'\n",
       "\\item 'kne\\_gi'\n",
       "\\item 'cal\\_gi'\n",
       "\\item 'age'\n",
       "\\item 'hgt'\n",
       "\\end{enumerate*}\n",
       "\n",
       "\\item[\\$Backward] \\begin{enumerate*}\n",
       "\\item 'che\\_de'\n",
       "\\item 'kne\\_di'\n",
       "\\item 'che\\_gi'\n",
       "\\item 'wai\\_gi'\n",
       "\\item 'hip\\_gi'\n",
       "\\item 'thi\\_gi'\n",
       "\\item 'for\\_gi'\n",
       "\\item 'cal\\_gi'\n",
       "\\item 'age'\n",
       "\\item 'hgt'\n",
       "\\item 'sex'\n",
       "\\end{enumerate*}\n",
       "\n",
       "\\end{description}\n"
      ],
      "text/markdown": [
       "$Ridge\n",
       ":   1. 'bia_di'\n",
       "2. 'bii_di'\n",
       "3. 'bit_di'\n",
       "4. 'che_de'\n",
       "5. 'che_di'\n",
       "6. 'elb_di'\n",
       "7. 'wri_di'\n",
       "8. 'kne_di'\n",
       "9. 'ank_di'\n",
       "10. 'sho_gi'\n",
       "11. 'che_gi'\n",
       "12. 'wai_gi'\n",
       "13. 'nav_gi'\n",
       "14. 'hip_gi'\n",
       "15. 'thi_gi'\n",
       "16. 'bic_gi'\n",
       "17. 'for_gi'\n",
       "18. 'kne_gi'\n",
       "19. 'cal_gi'\n",
       "20. 'ank_gi'\n",
       "21. 'wri_gi'\n",
       "22. 'age'\n",
       "23. 'hgt'\n",
       "24. 'sex'\n",
       "\n",
       "\n",
       "\n",
       "$Lasso\n",
       ":   1. 'bii_di'\n",
       "2. 'che_de'\n",
       "3. 'che_di'\n",
       "4. 'elb_di'\n",
       "5. 'wri_di'\n",
       "6. 'kne_di'\n",
       "7. 'ank_di'\n",
       "8. 'sho_gi'\n",
       "9. 'che_gi'\n",
       "10. 'wai_gi'\n",
       "11. 'nav_gi'\n",
       "12. 'hip_gi'\n",
       "13. 'thi_gi'\n",
       "14. 'bic_gi'\n",
       "15. 'for_gi'\n",
       "16. 'kne_gi'\n",
       "17. 'cal_gi'\n",
       "18. 'age'\n",
       "19. 'hgt'\n",
       "\n",
       "\n",
       "\n",
       "$Best_subset\n",
       ":   1. 'che_de'\n",
       "2. 'kne_di'\n",
       "3. 'che_gi'\n",
       "4. 'wai_gi'\n",
       "5. 'hip_gi'\n",
       "6. 'thi_gi'\n",
       "7. 'for_gi'\n",
       "8. 'cal_gi'\n",
       "9. 'age'\n",
       "10. 'hgt'\n",
       "11. 'sex'\n",
       "\n",
       "\n",
       "\n",
       "$Forward\n",
       ":   1. 'che_de'\n",
       "2. 'kne_di'\n",
       "3. 'che_gi'\n",
       "4. 'wai_gi'\n",
       "5. 'hip_gi'\n",
       "6. 'thi_gi'\n",
       "7. 'for_gi'\n",
       "8. 'kne_gi'\n",
       "9. 'cal_gi'\n",
       "10. 'age'\n",
       "11. 'hgt'\n",
       "\n",
       "\n",
       "\n",
       "$Backward\n",
       ":   1. 'che_de'\n",
       "2. 'kne_di'\n",
       "3. 'che_gi'\n",
       "4. 'wai_gi'\n",
       "5. 'hip_gi'\n",
       "6. 'thi_gi'\n",
       "7. 'for_gi'\n",
       "8. 'cal_gi'\n",
       "9. 'age'\n",
       "10. 'hgt'\n",
       "11. 'sex'\n",
       "\n",
       "\n",
       "\n",
       "\n",
       "\n"
      ],
      "text/plain": [
       "$Ridge\n",
       " [1] \"bia_di\" \"bii_di\" \"bit_di\" \"che_de\" \"che_di\" \"elb_di\" \"wri_di\" \"kne_di\"\n",
       " [9] \"ank_di\" \"sho_gi\" \"che_gi\" \"wai_gi\" \"nav_gi\" \"hip_gi\" \"thi_gi\" \"bic_gi\"\n",
       "[17] \"for_gi\" \"kne_gi\" \"cal_gi\" \"ank_gi\" \"wri_gi\" \"age\"    \"hgt\"    \"sex\"   \n",
       "\n",
       "$Lasso\n",
       " [1] \"bii_di\" \"che_de\" \"che_di\" \"elb_di\" \"wri_di\" \"kne_di\" \"ank_di\" \"sho_gi\"\n",
       " [9] \"che_gi\" \"wai_gi\" \"nav_gi\" \"hip_gi\" \"thi_gi\" \"bic_gi\" \"for_gi\" \"kne_gi\"\n",
       "[17] \"cal_gi\" \"age\"    \"hgt\"   \n",
       "\n",
       "$Best_subset\n",
       " [1] \"che_de\" \"kne_di\" \"che_gi\" \"wai_gi\" \"hip_gi\" \"thi_gi\" \"for_gi\" \"cal_gi\"\n",
       " [9] \"age\"    \"hgt\"    \"sex\"   \n",
       "\n",
       "$Forward\n",
       " [1] \"che_de\" \"kne_di\" \"che_gi\" \"wai_gi\" \"hip_gi\" \"thi_gi\" \"for_gi\" \"kne_gi\"\n",
       " [9] \"cal_gi\" \"age\"    \"hgt\"   \n",
       "\n",
       "$Backward\n",
       " [1] \"che_de\" \"kne_di\" \"che_gi\" \"wai_gi\" \"hip_gi\" \"thi_gi\" \"for_gi\" \"cal_gi\"\n",
       " [9] \"age\"    \"hgt\"    \"sex\"   \n"
      ]
     },
     "metadata": {},
     "output_type": "display_data"
    }
   ],
   "source": [
    "subset_coef <- list(\"Ridge\" = coef_ridge, \"Lasso\" = coef_lasso, \"Best_subset\" = coef_best_subset, \n",
    "                    \"Forward\" = coef_forward, \"Backward\" = coef_backward)\n",
    "subset_coef"
   ]
  },
  {
   "cell_type": "code",
   "execution_count": 46,
   "id": "widespread-pursuit",
   "metadata": {},
   "outputs": [
    {
     "data": {
      "text/html": [
       "<style>\n",
       ".dl-inline {width: auto; margin:0; padding: 0}\n",
       ".dl-inline>dt, .dl-inline>dd {float: none; width: auto; display: inline-block}\n",
       ".dl-inline>dt::after {content: \":\\0020\"; padding-right: .5ex}\n",
       ".dl-inline>dt:not(:first-of-type) {padding-left: .5ex}\n",
       "</style><dl class=dl-inline><dt>Ridge</dt><dd>24</dd><dt>Lasso</dt><dd>19</dd><dt>Best_subset</dt><dd>11</dd><dt>Forward</dt><dd>11</dd><dt>Backward</dt><dd>11</dd></dl>\n"
      ],
      "text/latex": [
       "\\begin{description*}\n",
       "\\item[Ridge] 24\n",
       "\\item[Lasso] 19\n",
       "\\item[Best\\textbackslash{}\\_subset] 11\n",
       "\\item[Forward] 11\n",
       "\\item[Backward] 11\n",
       "\\end{description*}\n"
      ],
      "text/markdown": [
       "Ridge\n",
       ":   24Lasso\n",
       ":   19Best_subset\n",
       ":   11Forward\n",
       ":   11Backward\n",
       ":   11\n",
       "\n"
      ],
      "text/plain": [
       "      Ridge       Lasso Best_subset     Forward    Backward \n",
       "         24          19          11          11          11 "
      ]
     },
     "metadata": {},
     "output_type": "display_data"
    }
   ],
   "source": [
    "sapply(subset_coef, length)"
   ]
  }
 ],
 "metadata": {
  "kernelspec": {
   "display_name": "R",
   "language": "R",
   "name": "ir"
  },
  "language_info": {
   "codemirror_mode": "r",
   "file_extension": ".r",
   "mimetype": "text/x-r-source",
   "name": "R",
   "pygments_lexer": "r",
   "version": "4.0.4"
  }
 },
 "nbformat": 4,
 "nbformat_minor": 5
}
