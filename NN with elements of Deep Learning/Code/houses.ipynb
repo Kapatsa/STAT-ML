{
 "cells": [
  {
   "cell_type": "code",
   "execution_count": 1,
   "metadata": {
    "tags": []
   },
   "outputs": [
    {
     "name": "stdout",
     "output_type": "stream",
     "text": [
      "Looking in links: https://download.pytorch.org/whl/cu113/torch_stable.html\n",
      "Requirement already satisfied: torch==1.10.0+cu113 in c:\\users\\volkoshkursk\\anaconda3\\lib\\site-packages (1.10.0+cu113)\n",
      "Requirement already satisfied: torchvision==0.11.1+cu113 in c:\\users\\volkoshkursk\\anaconda3\\lib\\site-packages (0.11.1+cu113)\n",
      "Requirement already satisfied: torchaudio===0.10.0+cu113 in c:\\users\\volkoshkursk\\anaconda3\\lib\\site-packages (0.10.0+cu113)\n",
      "Requirement already satisfied: typing-extensions in c:\\users\\volkoshkursk\\anaconda3\\lib\\site-packages (from torch==1.10.0+cu113) (3.10.0.2)\n",
      "Requirement already satisfied: pillow!=8.3.0,>=5.3.0 in c:\\users\\volkoshkursk\\anaconda3\\lib\\site-packages (from torchvision==0.11.1+cu113) (8.4.0)\n",
      "Requirement already satisfied: numpy in c:\\users\\volkoshkursk\\anaconda3\\lib\\site-packages (from torchvision==0.11.1+cu113) (1.20.3)\n"
     ]
    }
   ],
   "source": [
    "!pip install torch==1.10.0+cu113 torchvision==0.11.1+cu113 torchaudio===0.10.0+cu113 -f https://download.pytorch.org/whl/cu113/torch_stable.html"
   ]
  },
  {
   "cell_type": "code",
   "execution_count": 2,
   "metadata": {},
   "outputs": [],
   "source": [
    "import numpy as np\n",
    "import time\n",
    "import torch as T\n",
    "import pandas as pd\n",
    "import seaborn as sns\n",
    "device = T.device(\"cuda\")"
   ]
  },
  {
   "cell_type": "code",
   "execution_count": 3,
   "metadata": {},
   "outputs": [],
   "source": [
    "class HouseDataset(T.utils.data.Dataset):\n",
    "  # AC  sq ft   style  price   school\n",
    "  # -1  0.2500  0 1 0  0.5650  0 1 0\n",
    "  #  1  0.1275  1 0 0  0.3710  0 0 1\n",
    "  # air condition: -1 = no, +1 = yes\n",
    "  # style: art_deco, bungalow, colonial\n",
    "  # school: johnson, kennedy, lincoln\n",
    "\n",
    "    def __init__(self, src_file, m_rows=None):\n",
    "        all_xy = np.loadtxt(src_file, max_rows=m_rows,\n",
    "          usecols=[0,1,2,3,4,5,6,7,8], delimiter=\"\\t\",\n",
    "          # usecols=range(0,9), delimiter=\"\\t\",\n",
    "          comments=\"#\", skiprows=0, dtype=np.float32)\n",
    "\n",
    "        tmp_x = all_xy[:,[0,1,2,3,4,6,7,8]]\n",
    "        \n",
    "        self.df = pd.DataFrame(all_xy).rename(columns={5: 'result', 0: 'AC', 1: 'sq ft', 2: 'style art_deco',3: 'style bungalow', 4: 'style colonial', 6: 'school johnson', 7: 'school kennedy', 8: 'school lincoln'})\n",
    "        tmp_y = all_xy[:,5].reshape(-1,1)    # 2-D required\n",
    "\n",
    "        self.x_data = T.tensor(tmp_x, \\\n",
    "          dtype=T.float32).to(device)\n",
    "        self.y_data = T.tensor(tmp_y, \\\n",
    "          dtype=T.float32).to(device)\n",
    "\n",
    "    def __len__(self):\n",
    "        return len(self.x_data)\n",
    "\n",
    "    def __getitem__(self, idx):\n",
    "        preds = self.x_data[idx,:]  # or just [idx]\n",
    "        price = self.y_data[idx,:] \n",
    "        return (preds, price)       # tuple of two matrices \n",
    "    \n"
   ]
  },
  {
   "cell_type": "markdown",
   "metadata": {},
   "source": [
    "### 0. get started"
   ]
  },
  {
   "cell_type": "code",
   "execution_count": 4,
   "metadata": {},
   "outputs": [
    {
     "name": "stdout",
     "output_type": "stream",
     "text": [
      "\n",
      "Begin predict House price \n",
      "\n"
     ]
    }
   ],
   "source": [
    "print(\"\\nBegin predict House price \\n\")\n",
    "T.manual_seed(4)  # representative results \n",
    "np.random.seed(4)"
   ]
  },
  {
   "cell_type": "markdown",
   "metadata": {},
   "source": [
    "### 1. create DataLoader objects"
   ]
  },
  {
   "cell_type": "code",
   "execution_count": 5,
   "metadata": {},
   "outputs": [
    {
     "name": "stdout",
     "output_type": "stream",
     "text": [
      "Creating Houses Dataset objects \n"
     ]
    }
   ],
   "source": [
    "\n",
    "print(\"Creating Houses Dataset objects \")\n",
    "train_file = \".\\\\Data\\\\houses_train.txt\"\n",
    "train_ds = HouseDataset(train_file)  # all 200 rows\n",
    "\n",
    "test_file = \".\\\\Data\\\\houses_test.txt\"\n",
    "test_ds = HouseDataset(test_file)  # all 40 rows\n",
    "\n",
    "bat_size = 10\n",
    "train_ldr = T.utils.data.DataLoader(train_ds,\n",
    "batch_size=bat_size, shuffle=True)"
   ]
  },
  {
   "cell_type": "code",
   "execution_count": 6,
   "metadata": {},
   "outputs": [
    {
     "data": {
      "text/html": [
       "<div>\n",
       "<style scoped>\n",
       "    .dataframe tbody tr th:only-of-type {\n",
       "        vertical-align: middle;\n",
       "    }\n",
       "\n",
       "    .dataframe tbody tr th {\n",
       "        vertical-align: top;\n",
       "    }\n",
       "\n",
       "    .dataframe thead th {\n",
       "        text-align: right;\n",
       "    }\n",
       "</style>\n",
       "<table border=\"1\" class=\"dataframe\">\n",
       "  <thead>\n",
       "    <tr style=\"text-align: right;\">\n",
       "      <th></th>\n",
       "      <th>AC</th>\n",
       "      <th>sq ft</th>\n",
       "      <th>style art_deco</th>\n",
       "      <th>style bungalow</th>\n",
       "      <th>style colonial</th>\n",
       "      <th>result</th>\n",
       "      <th>school johnson</th>\n",
       "      <th>school kennedy</th>\n",
       "      <th>school lincoln</th>\n",
       "    </tr>\n",
       "  </thead>\n",
       "  <tbody>\n",
       "    <tr>\n",
       "      <th>0</th>\n",
       "      <td>-1.0</td>\n",
       "      <td>0.1275</td>\n",
       "      <td>0.0</td>\n",
       "      <td>1.0</td>\n",
       "      <td>0.0</td>\n",
       "      <td>0.300</td>\n",
       "      <td>0.0</td>\n",
       "      <td>0.0</td>\n",
       "      <td>1.0</td>\n",
       "    </tr>\n",
       "    <tr>\n",
       "      <th>1</th>\n",
       "      <td>1.0</td>\n",
       "      <td>0.1100</td>\n",
       "      <td>1.0</td>\n",
       "      <td>0.0</td>\n",
       "      <td>0.0</td>\n",
       "      <td>0.335</td>\n",
       "      <td>1.0</td>\n",
       "      <td>0.0</td>\n",
       "      <td>0.0</td>\n",
       "    </tr>\n",
       "    <tr>\n",
       "      <th>2</th>\n",
       "      <td>-1.0</td>\n",
       "      <td>0.1375</td>\n",
       "      <td>0.0</td>\n",
       "      <td>0.0</td>\n",
       "      <td>1.0</td>\n",
       "      <td>0.286</td>\n",
       "      <td>0.0</td>\n",
       "      <td>1.0</td>\n",
       "      <td>0.0</td>\n",
       "    </tr>\n",
       "    <tr>\n",
       "      <th>3</th>\n",
       "      <td>1.0</td>\n",
       "      <td>0.1975</td>\n",
       "      <td>0.0</td>\n",
       "      <td>1.0</td>\n",
       "      <td>0.0</td>\n",
       "      <td>0.512</td>\n",
       "      <td>0.0</td>\n",
       "      <td>0.0</td>\n",
       "      <td>1.0</td>\n",
       "    </tr>\n",
       "    <tr>\n",
       "      <th>4</th>\n",
       "      <td>-1.0</td>\n",
       "      <td>0.1200</td>\n",
       "      <td>0.0</td>\n",
       "      <td>0.0</td>\n",
       "      <td>1.0</td>\n",
       "      <td>0.295</td>\n",
       "      <td>1.0</td>\n",
       "      <td>0.0</td>\n",
       "      <td>0.0</td>\n",
       "    </tr>\n",
       "  </tbody>\n",
       "</table>\n",
       "</div>"
      ],
      "text/plain": [
       "    AC   sq ft  style art_deco  style bungalow  style colonial  result  \\\n",
       "0 -1.0  0.1275             0.0             1.0             0.0   0.300   \n",
       "1  1.0  0.1100             1.0             0.0             0.0   0.335   \n",
       "2 -1.0  0.1375             0.0             0.0             1.0   0.286   \n",
       "3  1.0  0.1975             0.0             1.0             0.0   0.512   \n",
       "4 -1.0  0.1200             0.0             0.0             1.0   0.295   \n",
       "\n",
       "   school johnson  school kennedy  school lincoln  \n",
       "0             0.0             0.0             1.0  \n",
       "1             1.0             0.0             0.0  \n",
       "2             0.0             1.0             0.0  \n",
       "3             0.0             0.0             1.0  \n",
       "4             1.0             0.0             0.0  "
      ]
     },
     "execution_count": 6,
     "metadata": {},
     "output_type": "execute_result"
    }
   ],
   "source": [
    "train_ds.df.head()"
   ]
  },
  {
   "cell_type": "code",
   "execution_count": 7,
   "metadata": {},
   "outputs": [],
   "source": [
    "#sns.pairplot(train_ds.df)"
   ]
  },
  {
   "cell_type": "markdown",
   "metadata": {},
   "source": [
    "### 2. create network"
   ]
  },
  {
   "cell_type": "code",
   "execution_count": 8,
   "metadata": {},
   "outputs": [],
   "source": [
    "class Net(T.nn.Module):\n",
    "    def __init__(self):\n",
    "        super(Net, self).__init__()\n",
    "        self.hid1 = T.nn.Linear(8, 10)  # 8-(10-10)-1\n",
    "        self.hid2 = T.nn.Linear(10, 10)\n",
    "        self.oupt = T.nn.Linear(10, 1)\n",
    "\n",
    "        T.nn.init.xavier_uniform_(self.hid1.weight)\n",
    "        T.nn.init.zeros_(self.hid1.bias)\n",
    "        T.nn.init.xavier_uniform_(self.hid2.weight)\n",
    "        T.nn.init.zeros_(self.hid2.bias)\n",
    "        T.nn.init.xavier_uniform_(self.oupt.weight)\n",
    "        T.nn.init.zeros_(self.oupt.bias)\n",
    "\n",
    "    def forward(self, x):\n",
    "        z = T.relu(self.hid1(x))\n",
    "        z = T.relu(self.hid2(z))\n",
    "        z = self.oupt(z)  # no activation\n",
    "        return z"
   ]
  },
  {
   "cell_type": "code",
   "execution_count": 9,
   "metadata": {},
   "outputs": [],
   "source": [
    "\n",
    "net = Net().to(device)"
   ]
  },
  {
   "cell_type": "markdown",
   "metadata": {},
   "source": [
    "### 3. train model"
   ]
  },
  {
   "cell_type": "code",
   "execution_count": 10,
   "metadata": {},
   "outputs": [
    {
     "name": "stdout",
     "output_type": "stream",
     "text": [
      "\n",
      "bat_size =  10 \n",
      "loss = MSELoss()\n",
      "optimizer = Adam\n",
      "max_epochs = 500 \n",
      "lrn_rate = 0.005 \n",
      "\n",
      "Starting training with saved checkpoints\n",
      "epoch =    0   loss = 5.4416\n",
      "epoch =   50   loss = 0.0227\n",
      "epoch =  100   loss = 0.0179\n",
      "epoch =  150   loss = 0.0190\n",
      "epoch =  200   loss = 0.0145\n",
      "epoch =  250   loss = 0.0163\n",
      "epoch =  300   loss = 0.0185\n",
      "epoch =  350   loss = 0.0142\n",
      "epoch =  400   loss = 0.0135\n",
      "epoch =  450   loss = 0.0155\n",
      "Done \n"
     ]
    }
   ],
   "source": [
    "\n",
    "max_epochs = 500\n",
    "ep_log_interval = 50\n",
    "lrn_rate = 0.005\n",
    "\n",
    "loss_func = T.nn.MSELoss()\n",
    "# optimizer = T.optim.SGD(net.parameters(), lr=lrn_rate)\n",
    "optimizer = T.optim.Adam(net.parameters(), lr=lrn_rate)\n",
    "\n",
    "print(\"\\nbat_size = %3d \" % bat_size)\n",
    "print(\"loss = \" + str(loss_func))\n",
    "print(\"optimizer = Adam\")\n",
    "print(\"max_epochs = %3d \" % max_epochs)\n",
    "print(\"lrn_rate = %0.3f \" % lrn_rate)\n",
    "\n",
    "print(\"\\nStarting training with saved checkpoints\")\n",
    "net.train()  # set mode\n",
    "for epoch in range(0, max_epochs):\n",
    "    T.manual_seed(1+epoch)  # recovery reproducibility\n",
    "    epoch_loss = 0  # for one full epoch\n",
    "\n",
    "    for (batch_idx, batch) in enumerate(train_ldr):\n",
    "        (X, Y) = batch                 # (predictors, targets)\n",
    "        optimizer.zero_grad()          # prepare gradients\n",
    "        oupt = net(X)                  # predicted prices\n",
    "        loss_val = loss_func(oupt, Y)  # avg per item in batch\n",
    "        epoch_loss += loss_val.item()  # accumulate avgs\n",
    "        loss_val.backward()            # compute gradients\n",
    "        optimizer.step()               # update wts\n",
    "\n",
    "    if epoch % ep_log_interval == 0:\n",
    "        print(\"epoch = %4d   loss = %0.4f\" % (epoch, epoch_loss))\n",
    "\n",
    "      # save checkpoint\n",
    "        dt = time.strftime(\"%Y_%m_%d-%H_%M_%S\")\n",
    "        fn = \".\\\\Log\\\\\" + str(dt) + str(\"-\") + str(epoch) + \"_checkpoint.pt\"\n",
    "\n",
    "        info_dict = {\n",
    "            'epoch' : epoch,\n",
    "            'net_state' : net.state_dict(),\n",
    "            'optimizer_state' : optimizer.state_dict()\n",
    "        }\n",
    "        T.save(info_dict, fn)\n",
    "\n",
    "print(\"Done \")"
   ]
  },
  {
   "cell_type": "markdown",
   "metadata": {},
   "source": [
    "### 4. evaluate model accuracy"
   ]
  },
  {
   "cell_type": "code",
   "execution_count": 11,
   "metadata": {},
   "outputs": [],
   "source": [
    "def accuracy(model, ds, pct):\n",
    "    # assumes model.eval()\n",
    "    # percent correct within pct of true house price\n",
    "    n_correct = 0; n_wrong = 0\n",
    "\n",
    "    for i in range(len(ds)):\n",
    "        (X, Y) = ds[i]            # (predictors, target)\n",
    "        with T.no_grad():\n",
    "            oupt = model(X)         # computed price\n",
    "\n",
    "        abs_delta = np.abs(oupt.item() - Y.item())\n",
    "        max_allow = np.abs(pct * Y.item())\n",
    "        if abs_delta < max_allow:\n",
    "            n_correct +=1\n",
    "        else:\n",
    "            n_wrong += 1\n",
    "\n",
    "    acc = (n_correct * 1.0) / (n_correct + n_wrong)\n",
    "    return acc"
   ]
  },
  {
   "cell_type": "code",
   "execution_count": 12,
   "metadata": {},
   "outputs": [],
   "source": [
    "def accuracy_quick(model, dataset, pct):\n",
    "    # assumes model.eval()\n",
    "    n = len(dataset)\n",
    "    X = dataset[0:n][0]  # all predictor values\n",
    "    Y = dataset[0:n][1]  # all target prices\n",
    "    with T.no_grad():\n",
    "        oupt = model(X)      # all computed prices\n",
    "\n",
    "    max_deltas = T.abs(pct * Y)    # max allowable deltas\n",
    "    abs_deltas = T.abs(oupt - Y)   # actual differences\n",
    "    \n",
    "    results = abs_deltas < max_deltas  # [[True, False, . .]]\n",
    "    acc = T.sum(results, dim=0).item() / n  # dim not needed\n",
    "    return acc"
   ]
  },
  {
   "cell_type": "code",
   "execution_count": 13,
   "metadata": {},
   "outputs": [],
   "source": [
    "def baseline_acc(ds, pct):\n",
    "    # linear regression model accuracy using just sq. feet\n",
    "    # y = 1.9559x + 0.0987 (from separate program)\n",
    "    n_correct = 0; n_wrong = 0\n",
    "    for i in range(len(ds)):\n",
    "        (X, Y) = ds[i]           # (predictors, target)\n",
    "        x = X[1].item()          # sq feet predictor\n",
    "        y = 1.9559 * x + 0.0987  # computed\n",
    "                \n",
    "        abs_delta = np.abs(y - Y.item())\n",
    "        max_allow = np.abs(pct * Y.item())\n",
    "        if abs_delta < max_allow:\n",
    "            n_correct +=1\n",
    "        else:\n",
    "            n_wrong += 1\n",
    "\n",
    "    acc = (n_correct * 1.0) / (n_correct + n_wrong)\n",
    "    return acc  "
   ]
  },
  {
   "cell_type": "markdown",
   "metadata": {},
   "source": [
    "#### 4.1. model accuracy"
   ]
  },
  {
   "cell_type": "code",
   "execution_count": 14,
   "metadata": {},
   "outputs": [
    {
     "name": "stdout",
     "output_type": "stream",
     "text": [
      "\n",
      "Computing model accuracy\n",
      "Accuracy (within 0.10) on train data = 0.9450\n",
      "Accuracy (within 0.10) on test data  = 0.8750\n"
     ]
    }
   ],
   "source": [
    "print(\"\\nComputing model accuracy\")\n",
    "net.eval()\n",
    "acc_train = accuracy(net, train_ds, 0.10) \n",
    "print(\"Accuracy (within 0.10) on train data = %0.4f\" % \\\n",
    "acc_train)\n",
    "\n",
    "acc_test = accuracy(net, test_ds, 0.10) \n",
    "print(\"Accuracy (within 0.10) on test data  = %0.4f\" % \\\n",
    "acc_test)"
   ]
  },
  {
   "cell_type": "markdown",
   "metadata": {},
   "source": [
    "#### 4.2. baseline accuracy"
   ]
  },
  {
   "cell_type": "code",
   "execution_count": 15,
   "metadata": {},
   "outputs": [
    {
     "name": "stdout",
     "output_type": "stream",
     "text": [
      "0.7000\n",
      "0.7000\n"
     ]
    }
   ],
   "source": [
    "base_acc_train = baseline_acc(train_ds, 0.10) \n",
    "print(\"%0.4f\" % base_acc_train)  # 0.7000\n",
    "base_acc_test = baseline_acc(test_ds, 0.10)    \n",
    "print(\"%0.4f\" % base_acc_test)   # 0.7000"
   ]
  },
  {
   "cell_type": "markdown",
   "metadata": {},
   "source": [
    "### 5. make a prediction"
   ]
  },
  {
   "cell_type": "code",
   "execution_count": 16,
   "metadata": {},
   "outputs": [
    {
     "name": "stdout",
     "output_type": "stream",
     "text": [
      "\n",
      "Predicting price for AC=no, sqft=2300, \n",
      " style=colonial, school=kennedy: \n",
      "$498,734.65\n"
     ]
    }
   ],
   "source": [
    "\n",
    "print(\"\\nPredicting price for AC=no, sqft=2300, \")\n",
    "print(\" style=colonial, school=kennedy: \")\n",
    "unk = np.array([[-1, 0.2300,  0,0,1,  0,1,0]],\n",
    "dtype=np.float32)\n",
    "unk = T.tensor(unk, dtype=T.float32).to(device) \n",
    "\n",
    "with T.no_grad():\n",
    "    pred_price = net(unk)\n",
    "pred_price = pred_price.item()  # scalar\n",
    "str_price = \\\n",
    "\"${:,.2f}\".format(pred_price * 1000000)\n",
    "print(str_price)"
   ]
  },
  {
   "cell_type": "markdown",
   "metadata": {},
   "source": [
    "### 6. save final model (state_dict approach)"
   ]
  },
  {
   "cell_type": "code",
   "execution_count": 17,
   "metadata": {},
   "outputs": [
    {
     "name": "stdout",
     "output_type": "stream",
     "text": [
      "\n",
      "Saving trained model state\n",
      "\n",
      "End House price demo\n"
     ]
    }
   ],
   "source": [
    "\n",
    "print(\"\\nSaving trained model state\")\n",
    "fn = \".\\\\Models\\\\houses_model.pth\"\n",
    "T.save(net.state_dict(), fn)\n",
    "\n",
    "# saved_model = Net()\n",
    "# saved_model.load_state_dict(T.load(fn))\n",
    "# use saved_model to make prediction(s)\n",
    "\n",
    "print(\"\\nEnd House price demo\")"
   ]
  }
 ],
 "metadata": {
  "kernelspec": {
   "display_name": "Python 3",
   "language": "python",
   "name": "python3"
  },
  "language_info": {
   "codemirror_mode": {
    "name": "ipython",
    "version": 3
   },
   "file_extension": ".py",
   "mimetype": "text/x-python",
   "name": "python",
   "nbconvert_exporter": "python",
   "pygments_lexer": "ipython3",
   "version": "3.7.6"
  }
 },
 "nbformat": 4,
 "nbformat_minor": 5
}
