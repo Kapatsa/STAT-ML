{
 "cells": [
  {
   "cell_type": "markdown",
   "id": "89ce43f3",
   "metadata": {},
   "source": [
    "# Оглавление:\n",
    "* [Fashion MNIST](#1)\n",
    "* [NN - ОДНОСЛОЙНАЯ НЕЙРОННАЯ СЕТЬ](#2)\n",
    "* [MNN - МНОГОСЛОЙНАЯ НЕЙРОННАЯ СЕТЬ](#3)\n",
    "* [CNN - СВЕРТОЧНАЯ НЕЙРОННАЯ СЕТЬ](#4)"
   ]
  },
  {
   "cell_type": "markdown",
   "id": "6e441052",
   "metadata": {},
   "source": [
    "# Fashion MNIST <a class=\"anchor\" id=\"1\"></a>"
   ]
  },
  {
   "cell_type": "markdown",
   "id": "97b71886",
   "metadata": {},
   "source": [
    "Fashion MNIST - это набор изображений одежды, состоящий из обучающего набора (60 000 образцов) и тестового набора (10 000 образцов). Каждый образец представляет собой изображение в оттенках серого 28x28, и метку одного из 10 классов. Fashion MNIST является аналогом стандартного MNIST, который содежрит большое число рукописных цифр. Структура образцов Fashion MNIST и MNIST схожа, изображения имеют такой же размер."
   ]
  },
  {
   "cell_type": "markdown",
   "id": "df793248",
   "metadata": {},
   "source": [
    "### Описание"
   ]
  },
  {
   "cell_type": "markdown",
   "id": "9e911962",
   "metadata": {},
   "source": [
    "Каждое изображение размером 28 пикселей в высоту и 28 пикселей в ширину, всего 784 пикселя. Каждый пиксель имеет одно связанное с ним значение пикселя, указывающее яркость или темноту этого пикселя, причем более высокие числа означают более темный. Это значение пикселя представляет собой целое число от 0 до 255. Наборы данных для обучения и тестирования содержат 785 столбцов. Первый столбец состоит из меток класса и обозначает предмет одежды. Остальные столбцы содержат значения пикселей связанного изображения:\n",
    "\n",
    "* Чтобы найти пиксель на изображении, предположим, что мы разложили x как x = i * 28 + j, где i и j - целые числа от 0 до 27. Пиксель расположен в строке i и столбце j матрицы 28 x 28;\n",
    "* Например, pixel31 указывает пиксель, который находится в четвертом столбце слева и во второй строке сверху."
   ]
  },
  {
   "cell_type": "markdown",
   "id": "aa91c955",
   "metadata": {},
   "source": [
    "### Метки"
   ]
  },
  {
   "cell_type": "markdown",
   "id": "f2a05966",
   "metadata": {},
   "source": [
    "Каждому обучающему и тестовому образцу присвоена одна из следующих меток:\n",
    "\n",
    "0. Футболка\n",
    "1. Штаны\n",
    "2. Пуловер\n",
    "3. Платье\n",
    "4. Плащ\n",
    "5. Сандалии\n",
    "6. Рубашка\n",
    "7. Кроссовки\n",
    "8. Сумка\n",
    "9. Ботинки"
   ]
  },
  {
   "cell_type": "code",
   "execution_count": 3,
   "id": "b81f38ec",
   "metadata": {},
   "outputs": [],
   "source": [
    "from tensorflow.keras.datasets import fashion_mnist\n",
    "from tensorflow.keras.models import Sequential\n",
    "from tensorflow.keras.layers import Dense, Dropout\n",
    "from tensorflow.keras import utils\n",
    "import matplotlib.pyplot as plt\n",
    "import pandas as pd\n",
    "import numpy as np"
   ]
  },
  {
   "cell_type": "markdown",
   "id": "8b6853f4",
   "metadata": {},
   "source": [
    "### Подготовка данных"
   ]
  },
  {
   "cell_type": "markdown",
   "id": "29a35f44",
   "metadata": {},
   "source": [
    "Загружаем датасет Fashion MNIST."
   ]
  },
  {
   "cell_type": "code",
   "execution_count": 2,
   "id": "05836705",
   "metadata": {},
   "outputs": [],
   "source": [
    "(x_train, y_train), (x_test, y_test) = fashion_mnist.load_data()"
   ]
  },
  {
   "cell_type": "markdown",
   "id": "d9f90144",
   "metadata": {},
   "source": [
    "Создадим список всех классов"
   ]
  },
  {
   "cell_type": "code",
   "execution_count": 3,
   "id": "c47f0074",
   "metadata": {},
   "outputs": [],
   "source": [
    "classes = [\"Футболка\", \"Штаны\", \"Пуловер\", \"Платье\", \"Плащ\", \"Сандалии\", \"Рубашка\", \"Кроссовки\", \"Сумка\", \"Ботинки\"]"
   ]
  },
  {
   "cell_type": "markdown",
   "id": "e5b85c99",
   "metadata": {},
   "source": [
    "Рассмотрим некоторые образцы одежды."
   ]
  },
  {
   "cell_type": "code",
   "execution_count": 4,
   "id": "95572810",
   "metadata": {},
   "outputs": [
    {
     "data": {
      "text/plain": [
       "'Ботинки'"
      ]
     },
     "execution_count": 4,
     "metadata": {},
     "output_type": "execute_result"
    }
   ],
   "source": [
    "classes[y_train[0]]"
   ]
  },
  {
   "cell_type": "code",
   "execution_count": 5,
   "id": "5ec289ac",
   "metadata": {},
   "outputs": [
    {
     "data": {
      "text/plain": [
       "<matplotlib.image.AxesImage at 0x11f13431ee0>"
      ]
     },
     "execution_count": 5,
     "metadata": {},
     "output_type": "execute_result"
    },
    {
     "data": {
      "image/png": "[encoded data removed]",
      "text/plain": [
       "<Figure size 432x288 with 1 Axes>"
      ]
     },
     "metadata": {
      "needs_background": "light"
     },
     "output_type": "display_data"
    }
   ],
   "source": [
    "x = x_train[0].reshape([28, 28]);\n",
    "plt.gray()\n",
    "plt.imshow(x)"
   ]
  },
  {
   "cell_type": "code",
   "execution_count": 6,
   "id": "3ebf7b6a",
   "metadata": {},
   "outputs": [
    {
     "data": {
      "text/plain": [
       "'Футболка'"
      ]
     },
     "execution_count": 6,
     "metadata": {},
     "output_type": "execute_result"
    }
   ],
   "source": [
    "classes[y_train[1]]"
   ]
  },
  {
   "cell_type": "code",
   "execution_count": 7,
   "id": "c2bd5ec0",
   "metadata": {},
   "outputs": [
    {
     "data": {
      "text/plain": [
       "<matplotlib.image.AxesImage at 0x11f15514430>"
      ]
     },
     "execution_count": 7,
     "metadata": {},
     "output_type": "execute_result"
    },
    {
     "data": {
      "image/png": "[encoded data removed]",
      "text/plain": [
       "<Figure size 432x288 with 1 Axes>"
      ]
     },
     "metadata": {
      "needs_background": "light"
     },
     "output_type": "display_data"
    }
   ],
   "source": [
    "x = x_train[1].reshape([28, 28]);\n",
    "plt.gray()\n",
    "plt.imshow(x)"
   ]
  },
  {
   "cell_type": "code",
   "execution_count": 8,
   "id": "d515843c",
   "metadata": {},
   "outputs": [
    {
     "data": {
      "text/plain": [
       "'Футболка'"
      ]
     },
     "execution_count": 8,
     "metadata": {},
     "output_type": "execute_result"
    }
   ],
   "source": [
    "classes[y_train[2]]"
   ]
  },
  {
   "cell_type": "code",
   "execution_count": 9,
   "id": "4d261147",
   "metadata": {},
   "outputs": [
    {
     "data": {
      "text/plain": [
       "<matplotlib.image.AxesImage at 0x11f15574430>"
      ]
     },
     "execution_count": 9,
     "metadata": {},
     "output_type": "execute_result"
    },
    {
     "data": {
      "image/png": "[encoded data removed]",
      "text/plain": [
       "<Figure size 432x288 with 1 Axes>"
      ]
     },
     "metadata": {
      "needs_background": "light"
     },
     "output_type": "display_data"
    }
   ],
   "source": [
    "x = x_train[2].reshape([28, 28]);\n",
    "plt.gray()\n",
    "plt.imshow(x)"
   ]
  },
  {
   "cell_type": "markdown",
   "id": "4d851dcf",
   "metadata": {},
   "source": [
    "Прежде всего, стоит обратить внимание на то, что при загрузке изображения мы получаем многомерный массив размером 28x28."
   ]
  },
  {
   "cell_type": "code",
   "execution_count": 10,
   "id": "0e858b95",
   "metadata": {},
   "outputs": [
    {
     "data": {
      "text/plain": [
       "(60000, 28, 28)"
      ]
     },
     "execution_count": 10,
     "metadata": {},
     "output_type": "execute_result"
    }
   ],
   "source": [
    "x_train.shape"
   ]
  },
  {
   "cell_type": "markdown",
   "id": "26bb4d12",
   "metadata": {},
   "source": [
    "Есть два варианта, либо мы можем оставить его в таком формате, либо преобразовать в одномерный вектор размера 784, мы выберем второй вариант."
   ]
  },
  {
   "cell_type": "code",
   "execution_count": 11,
   "id": "33349936",
   "metadata": {},
   "outputs": [],
   "source": [
    "x_train = x_train.reshape(60000, 784)\n",
    "x_test = x_test.reshape(10000, 784)"
   ]
  },
  {
   "cell_type": "code",
   "execution_count": 12,
   "id": "d81a2e25",
   "metadata": {},
   "outputs": [
    {
     "data": {
      "text/plain": [
       "(60000, 784)"
      ]
     },
     "execution_count": 12,
     "metadata": {},
     "output_type": "execute_result"
    }
   ],
   "source": [
    "x_train.shape"
   ]
  },
  {
   "cell_type": "markdown",
   "id": "43c7d4a2",
   "metadata": {},
   "source": [
    "Мы создали тренировочный и тестовый набор данных, но не создали проверочный. Дело в том, что мы сможем задать параметр `validation_split` при применении метода `fit()`. Параметр `validation_split` определяет соотношение между размером тестовых и проверочных выборок. Так например, `validation_split = 0.3` будет означать, что в качестве проверочного набора будут использованы 30% тестового набора."
   ]
  },
  {
   "cell_type": "markdown",
   "id": "53be220b",
   "metadata": {},
   "source": [
    "Также нам необходимо масштабировать наши данные. Интенсивность пикселя задается значением от 0 до 255. Чтобы данный параметр был от 0 до 1 делим значения на 255."
   ]
  },
  {
   "cell_type": "code",
   "execution_count": 13,
   "id": "ee067be1",
   "metadata": {},
   "outputs": [],
   "source": [
    "x_train = x_train / 255\n",
    "x_test = x_test / 255"
   ]
  },
  {
   "cell_type": "markdown",
   "id": "d3bb53fc",
   "metadata": {},
   "source": [
    "Остался последний вопрос, до того как мы приступим к построению модели. В наших данных разреженные метки, то есть каждому объекту присвоен индекс от 0 до 9. Мы можем оставить данные в таком виде, но лучше будет для каждого образца создать вектор вида\n",
    "\n",
    "1, 0, 0, 0, 0, 0, 0, 0, 0, 0 - для первого класса\n",
    "\n",
    "0, 1, 0, 0, 0, 0, 0, 0, 0, 0 - для второго класса\n",
    "\n",
    "$\\vdots$\n",
    "\n",
    "0, 0, 0, 0, 0, 0, 0, 0, 0, 1 - для десятого класса"
   ]
  },
  {
   "cell_type": "markdown",
   "id": "8d727f53",
   "metadata": {},
   "source": [
    "Преобразовать разреженные метки (т.е. индексы классов) в двоичные векторные метки (т.е. в вектора состоящие из 0 и 1), можно использовать функцию `kerass.utils.to_categorical()`. Форма меток влияет на выбор функции потерь при компилировании модели, см. далее."
   ]
  },
  {
   "cell_type": "code",
   "execution_count": 14,
   "id": "d5ae241b",
   "metadata": {},
   "outputs": [],
   "source": [
    "y_train = utils.to_categorical(y_train, 10)\n",
    "y_test = utils.to_categorical(y_test, 10)"
   ]
  },
  {
   "cell_type": "markdown",
   "id": "86d42840",
   "metadata": {},
   "source": [
    "# NN - ОДНОСЛОЙНАЯ НЕЙРОННАЯ СЕТЬ <a class=\"anchor\" id=\"2\"></a>"
   ]
  },
  {
   "cell_type": "markdown",
   "id": "03908c96",
   "metadata": {},
   "source": [
    "Создаем последовательную модель (sequential model). Это самый простой вид модели Keras для нейронных сетей: она состоит из одного стека последовательно соединенных слоев."
   ]
  },
  {
   "cell_type": "code",
   "execution_count": 15,
   "id": "9f63c1d2",
   "metadata": {},
   "outputs": [],
   "source": [
    "model = Sequential()"
   ]
  },
  {
   "cell_type": "markdown",
   "id": "e1c82b92",
   "metadata": {},
   "source": [
    "Самым первым слоем мы могли бы добавить \"плоский\" слой. Он предназначен для преобразовании каждого входного изображения в одномерный массив. Но поскольку мы вручную преобразовали наше изображение в одномерный вектор, мы не нуждаемся в данном слое."
   ]
  },
  {
   "cell_type": "code",
   "execution_count": 16,
   "id": "c54c5eb7",
   "metadata": {},
   "outputs": [],
   "source": [
    "# model.add(keras.layers.Flatten(input_shape = [28, 28]))"
   ]
  },
  {
   "cell_type": "markdown",
   "id": "8e9989e4",
   "metadata": {},
   "source": [
    "Добавляем внутренний слой с 500 нейронами, 784 входами, функцией активации `ReLU`."
   ]
  },
  {
   "cell_type": "code",
   "execution_count": 17,
   "id": "d8fbefb8",
   "metadata": {},
   "outputs": [],
   "source": [
    "model.add(Dense(500, input_dim=784, activation=\"relu\"))"
   ]
  },
  {
   "cell_type": "markdown",
   "id": "41a5c317",
   "metadata": {},
   "source": [
    "Добавляем выходной слой с 10 нейронами (по одному на класс), иcпользуя функцию активации `softmax` (поскольку классы являются уникальными)."
   ]
  },
  {
   "cell_type": "code",
   "execution_count": 18,
   "id": "ad420c52",
   "metadata": {},
   "outputs": [],
   "source": [
    "model.add(Dense(10, activation=\"softmax\"))"
   ]
  },
  {
   "cell_type": "markdown",
   "id": "12efd7ad",
   "metadata": {},
   "source": [
    "### Компиляция модели"
   ]
  },
  {
   "cell_type": "code",
   "execution_count": 19,
   "id": "c4ed9080",
   "metadata": {},
   "outputs": [],
   "source": [
    "model.compile(loss=\"categorical_crossentropy\", \n",
    "              optimizer=\"SGD\", \n",
    "              metrics=[\"accuracy\"])"
   ]
  },
  {
   "cell_type": "markdown",
   "id": "319dd62c",
   "metadata": {},
   "source": [
    "### loss=\"categorical_crossentropy\""
   ]
  },
  {
   "cell_type": "markdown",
   "id": "c48bfbd4",
   "metadata": {},
   "source": [
    "Как уже упоминалось ранее, выбор функции потерь будет зависеть от вида меток классов. Если метки разрежены, то задаем параметр `loss = \"sparse_categorical_crossentropy\"`, для двоичных векторных меток задается параметр `loss=\"categorical_crossentropy\"`."
   ]
  },
  {
   "cell_type": "markdown",
   "id": "0b31ac4c",
   "metadata": {},
   "source": [
    "### optimizer=\"SGD\""
   ]
  },
  {
   "cell_type": "markdown",
   "id": "0b9517cd",
   "metadata": {},
   "source": [
    "Аргумент `optimiser` определяет метод оптимизации, в нашем случае это метод стохастического градиентного спуска `sgd`. При использовании оптимизатора `\"sgd\"` важно настроить скорость обучения. По умолчанию она равна `0,01`. Чтобы задать свое значение нужно определить `optimizer = keras.optimizers.SGD(learning_rate = …)`, вместо значения `\"sgd\"`."
   ]
  },
  {
   "cell_type": "markdown",
   "id": "a4623e7f",
   "metadata": {},
   "source": [
    "### metrics=[\"accuracy\"]"
   ]
  },
  {
   "cell_type": "markdown",
   "id": "7c54aa08",
   "metadata": {},
   "source": [
    "Метрика `accuracy`."
   ]
  },
  {
   "cell_type": "markdown",
   "id": "3ccc65bd",
   "metadata": {},
   "source": [
    "---"
   ]
  },
  {
   "cell_type": "markdown",
   "id": "59ad623a",
   "metadata": {},
   "source": [
    "Рассмотрим описание модели. У нас есть два внутренних слоя **dense_2** и **dense_3**, один выходной слой **dense_4**"
   ]
  },
  {
   "cell_type": "markdown",
   "id": "0efbc136",
   "metadata": {},
   "source": [
    "1. Первый внутренний слой имеет $784 \\cdot 500 $ весов соединения $+ 500$ свободных членов, итого $392 500$ параметров.\n",
    "2. Выходной слой имеет $500 \\cdot 10 $ весов соединения $+ 10$ свободных членов, итого $5010$ параметров."
   ]
  },
  {
   "cell_type": "markdown",
   "id": "74158d23",
   "metadata": {},
   "source": [
    "Суммарное число параметров $545,810$"
   ]
  },
  {
   "cell_type": "code",
   "execution_count": 20,
   "id": "767552c9",
   "metadata": {},
   "outputs": [
    {
     "name": "stdout",
     "output_type": "stream",
     "text": [
      "Model: \"sequential\"\n",
      "_________________________________________________________________\n",
      " Layer (type)                Output Shape              Param #   \n",
      "=================================================================\n",
      " dense (Dense)               (None, 500)               392500    \n",
      "                                                                 \n",
      " dense_1 (Dense)             (None, 10)                5010      \n",
      "                                                                 \n",
      "=================================================================\n",
      "Total params: 397,510\n",
      "Trainable params: 397,510\n",
      "Non-trainable params: 0\n",
      "_________________________________________________________________\n"
     ]
    }
   ],
   "source": [
    "model.summary()"
   ]
  },
  {
   "cell_type": "markdown",
   "id": "690d247d",
   "metadata": {},
   "source": [
    "Мы можем рассмотреть веса и свободные члены для каждого слоя (по умолчанию, свободные члены будут заданы нулями)."
   ]
  },
  {
   "cell_type": "code",
   "execution_count": 21,
   "id": "e49221d7",
   "metadata": {},
   "outputs": [],
   "source": [
    "weights, biases = model.layers[1].get_weights()"
   ]
  },
  {
   "cell_type": "code",
   "execution_count": 22,
   "id": "5dedad89",
   "metadata": {},
   "outputs": [
    {
     "data": {
      "text/plain": [
       "array([[ 0.05479734,  0.0453643 ,  0.07833501, ..., -0.04868756,\n",
       "        -0.01722556, -0.01446135],\n",
       "       [-0.04310477,  0.03635512, -0.01198728, ...,  0.01084566,\n",
       "        -0.08257544, -0.08094005],\n",
       "       [-0.0337862 , -0.10762186, -0.10093347, ...,  0.0726338 ,\n",
       "         0.03165186, -0.02033183],\n",
       "       ...,\n",
       "       [ 0.08558965,  0.07045085,  0.04390023, ...,  0.02230669,\n",
       "         0.08779988, -0.08884238],\n",
       "       [-0.09976816,  0.04323565, -0.09764817, ...,  0.02154358,\n",
       "         0.08754035, -0.09887278],\n",
       "       [-0.10182919,  0.06960853,  0.04055388, ...,  0.10504355,\n",
       "        -0.0353443 ,  0.0924175 ]], dtype=float32)"
      ]
     },
     "execution_count": 22,
     "metadata": {},
     "output_type": "execute_result"
    }
   ],
   "source": [
    "weights"
   ]
  },
  {
   "cell_type": "code",
   "execution_count": 23,
   "id": "a4fd409c",
   "metadata": {},
   "outputs": [
    {
     "data": {
      "text/plain": [
       "array([0., 0., 0., 0., 0., 0., 0., 0., 0., 0.], dtype=float32)"
      ]
     },
     "execution_count": 23,
     "metadata": {},
     "output_type": "execute_result"
    }
   ],
   "source": [
    "biases"
   ]
  },
  {
   "cell_type": "markdown",
   "id": "5fde4752",
   "metadata": {},
   "source": [
    "### Обучение модели"
   ]
  },
  {
   "cell_type": "markdown",
   "id": "e3e1c114",
   "metadata": {},
   "source": [
    "* batch_size - размер пакетов, на которые мы делим все наши данные, по умолчанию 32\n",
    "* epochs - число эпох или итераций\n",
    "* validation_split - доля проверочных данных от тестовых"
   ]
  },
  {
   "cell_type": "code",
   "execution_count": 24,
   "id": "c445286a",
   "metadata": {
    "scrolled": true
   },
   "outputs": [
    {
     "name": "stdout",
     "output_type": "stream",
     "text": [
      "Epoch 1/100\n",
      "1500/1500 [==============================] - 16s 10ms/step - loss: 0.7394 - accuracy: 0.7641 - val_loss: 0.5660 - val_accuracy: 0.8016\n",
      "Epoch 2/100\n",
      "1500/1500 [==============================] - 14s 9ms/step - loss: 0.5179 - accuracy: 0.8260 - val_loss: 0.4968 - val_accuracy: 0.8282\n",
      "Epoch 3/100\n",
      "1500/1500 [==============================] - 14s 9ms/step - loss: 0.4721 - accuracy: 0.8397 - val_loss: 0.4640 - val_accuracy: 0.8373\n",
      "Epoch 4/100\n",
      "1500/1500 [==============================] - 16s 11ms/step - loss: 0.4461 - accuracy: 0.8464 - val_loss: 0.4401 - val_accuracy: 0.8489\n",
      "Epoch 5/100\n",
      "1500/1500 [==============================] - 17s 11ms/step - loss: 0.4279 - accuracy: 0.8530 - val_loss: 0.4346 - val_accuracy: 0.8499\n",
      "Epoch 6/100\n",
      "1500/1500 [==============================] - 17s 11ms/step - loss: 0.4139 - accuracy: 0.8573 - val_loss: 0.4147 - val_accuracy: 0.8556\n",
      "Epoch 7/100\n",
      "1500/1500 [==============================] - 15s 10ms/step - loss: 0.4024 - accuracy: 0.8613 - val_loss: 0.4049 - val_accuracy: 0.8590\n",
      "Epoch 8/100\n",
      "1500/1500 [==============================] - 14s 9ms/step - loss: 0.3918 - accuracy: 0.8658 - val_loss: 0.4000 - val_accuracy: 0.8624\n",
      "Epoch 9/100\n",
      "1500/1500 [==============================] - 14s 9ms/step - loss: 0.3825 - accuracy: 0.8680 - val_loss: 0.4013 - val_accuracy: 0.8597\n",
      "Epoch 10/100\n",
      "1500/1500 [==============================] - 14s 10ms/step - loss: 0.3747 - accuracy: 0.8695 - val_loss: 0.4047 - val_accuracy: 0.8589\n",
      "Epoch 11/100\n",
      "1500/1500 [==============================] - 14s 9ms/step - loss: 0.3670 - accuracy: 0.8729 - val_loss: 0.3831 - val_accuracy: 0.8674\n",
      "Epoch 12/100\n",
      "1500/1500 [==============================] - 14s 9ms/step - loss: 0.3603 - accuracy: 0.8756 - val_loss: 0.3785 - val_accuracy: 0.8668\n",
      "Epoch 13/100\n",
      "1500/1500 [==============================] - 14s 9ms/step - loss: 0.3534 - accuracy: 0.8770 - val_loss: 0.3708 - val_accuracy: 0.8718\n",
      "Epoch 14/100\n",
      "1500/1500 [==============================] - 13s 9ms/step - loss: 0.3483 - accuracy: 0.8788 - val_loss: 0.3721 - val_accuracy: 0.8702\n",
      "Epoch 15/100\n",
      "1500/1500 [==============================] - 14s 9ms/step - loss: 0.3421 - accuracy: 0.8794 - val_loss: 0.3689 - val_accuracy: 0.8717\n",
      "Epoch 16/100\n",
      "1500/1500 [==============================] - 14s 9ms/step - loss: 0.3376 - accuracy: 0.8821 - val_loss: 0.3706 - val_accuracy: 0.8691\n",
      "Epoch 17/100\n",
      "1500/1500 [==============================] - 14s 9ms/step - loss: 0.3329 - accuracy: 0.8833 - val_loss: 0.3622 - val_accuracy: 0.8727\n",
      "Epoch 18/100\n",
      "1500/1500 [==============================] - 13s 9ms/step - loss: 0.3272 - accuracy: 0.8850 - val_loss: 0.3651 - val_accuracy: 0.8702\n",
      "Epoch 19/100\n",
      "1500/1500 [==============================] - 14s 9ms/step - loss: 0.3237 - accuracy: 0.8863 - val_loss: 0.3507 - val_accuracy: 0.8776\n",
      "Epoch 20/100\n",
      "1500/1500 [==============================] - 13s 9ms/step - loss: 0.3185 - accuracy: 0.8886 - val_loss: 0.3520 - val_accuracy: 0.8776\n",
      "Epoch 21/100\n",
      "1500/1500 [==============================] - 14s 10ms/step - loss: 0.3143 - accuracy: 0.8904 - val_loss: 0.3539 - val_accuracy: 0.8770\n",
      "Epoch 22/100\n",
      "1500/1500 [==============================] - 14s 9ms/step - loss: 0.3103 - accuracy: 0.8907 - val_loss: 0.3544 - val_accuracy: 0.8737\n",
      "Epoch 23/100\n",
      "1500/1500 [==============================] - 14s 9ms/step - loss: 0.3062 - accuracy: 0.8918 - val_loss: 0.3448 - val_accuracy: 0.8790\n",
      "Epoch 24/100\n",
      "1500/1500 [==============================] - 14s 9ms/step - loss: 0.3030 - accuracy: 0.8936 - val_loss: 0.3421 - val_accuracy: 0.8788\n",
      "Epoch 25/100\n",
      "1500/1500 [==============================] - 14s 10ms/step - loss: 0.2980 - accuracy: 0.8953 - val_loss: 0.3445 - val_accuracy: 0.8776\n",
      "Epoch 26/100\n",
      "1500/1500 [==============================] - 14s 9ms/step - loss: 0.2952 - accuracy: 0.8954 - val_loss: 0.3383 - val_accuracy: 0.8809\n",
      "Epoch 27/100\n",
      "1500/1500 [==============================] - 15s 10ms/step - loss: 0.2914 - accuracy: 0.8978 - val_loss: 0.3361 - val_accuracy: 0.8809\n",
      "Epoch 28/100\n",
      "1500/1500 [==============================] - 15s 10ms/step - loss: 0.2880 - accuracy: 0.8981 - val_loss: 0.3401 - val_accuracy: 0.8799\n",
      "Epoch 29/100\n",
      "1500/1500 [==============================] - 14s 9ms/step - loss: 0.2854 - accuracy: 0.9007 - val_loss: 0.3357 - val_accuracy: 0.8802\n",
      "Epoch 30/100\n",
      "1500/1500 [==============================] - 14s 10ms/step - loss: 0.2818 - accuracy: 0.9016 - val_loss: 0.3296 - val_accuracy: 0.8846\n",
      "Epoch 31/100\n",
      "1500/1500 [==============================] - 14s 9ms/step - loss: 0.2788 - accuracy: 0.9011 - val_loss: 0.3557 - val_accuracy: 0.8735\n",
      "Epoch 32/100\n",
      "1500/1500 [==============================] - 14s 9ms/step - loss: 0.2761 - accuracy: 0.9021 - val_loss: 0.3535 - val_accuracy: 0.8733\n",
      "Epoch 33/100\n",
      "1500/1500 [==============================] - 14s 9ms/step - loss: 0.2727 - accuracy: 0.9043 - val_loss: 0.3273 - val_accuracy: 0.8848\n",
      "Epoch 34/100\n",
      "1500/1500 [==============================] - 14s 9ms/step - loss: 0.2699 - accuracy: 0.9050 - val_loss: 0.3251 - val_accuracy: 0.8846\n",
      "Epoch 35/100\n",
      "1500/1500 [==============================] - 14s 9ms/step - loss: 0.2669 - accuracy: 0.9056 - val_loss: 0.3283 - val_accuracy: 0.8831\n",
      "Epoch 36/100\n",
      "1500/1500 [==============================] - 14s 9ms/step - loss: 0.2643 - accuracy: 0.9078 - val_loss: 0.3230 - val_accuracy: 0.8848\n",
      "Epoch 37/100\n",
      "1500/1500 [==============================] - 14s 9ms/step - loss: 0.2616 - accuracy: 0.9081 - val_loss: 0.3296 - val_accuracy: 0.8817\n",
      "Epoch 38/100\n",
      "1500/1500 [==============================] - 14s 10ms/step - loss: 0.2582 - accuracy: 0.9101 - val_loss: 0.3234 - val_accuracy: 0.8852\n",
      "Epoch 39/100\n",
      "1500/1500 [==============================] - 14s 9ms/step - loss: 0.2563 - accuracy: 0.9101 - val_loss: 0.3211 - val_accuracy: 0.8852\n",
      "Epoch 40/100\n",
      "1500/1500 [==============================] - 14s 9ms/step - loss: 0.2532 - accuracy: 0.9111 - val_loss: 0.3198 - val_accuracy: 0.8851\n",
      "Epoch 41/100\n",
      "1500/1500 [==============================] - 14s 9ms/step - loss: 0.2516 - accuracy: 0.9119 - val_loss: 0.3188 - val_accuracy: 0.8866\n",
      "Epoch 42/100\n",
      "1500/1500 [==============================] - 14s 9ms/step - loss: 0.2491 - accuracy: 0.9138 - val_loss: 0.3188 - val_accuracy: 0.8863\n",
      "Epoch 43/100\n",
      "1500/1500 [==============================] - 14s 9ms/step - loss: 0.2465 - accuracy: 0.9148 - val_loss: 0.3255 - val_accuracy: 0.8859\n",
      "Epoch 44/100\n",
      "1500/1500 [==============================] - 14s 9ms/step - loss: 0.2436 - accuracy: 0.9146 - val_loss: 0.3147 - val_accuracy: 0.8875\n",
      "Epoch 45/100\n",
      "1500/1500 [==============================] - 14s 9ms/step - loss: 0.2416 - accuracy: 0.9158 - val_loss: 0.3217 - val_accuracy: 0.8865\n",
      "Epoch 46/100\n",
      "1500/1500 [==============================] - 14s 9ms/step - loss: 0.2390 - accuracy: 0.9157 - val_loss: 0.3292 - val_accuracy: 0.8828\n",
      "Epoch 47/100\n",
      "1500/1500 [==============================] - 14s 9ms/step - loss: 0.2371 - accuracy: 0.9177 - val_loss: 0.3299 - val_accuracy: 0.8839\n",
      "Epoch 48/100\n",
      "1500/1500 [==============================] - 14s 9ms/step - loss: 0.2355 - accuracy: 0.9174 - val_loss: 0.3173 - val_accuracy: 0.8865\n",
      "Epoch 49/100\n",
      "1500/1500 [==============================] - 14s 9ms/step - loss: 0.2323 - accuracy: 0.9204 - val_loss: 0.3165 - val_accuracy: 0.8866\n",
      "Epoch 50/100\n",
      "1500/1500 [==============================] - 14s 9ms/step - loss: 0.2300 - accuracy: 0.9204 - val_loss: 0.3144 - val_accuracy: 0.8889\n",
      "Epoch 51/100\n",
      "1500/1500 [==============================] - 14s 9ms/step - loss: 0.2280 - accuracy: 0.9217 - val_loss: 0.3335 - val_accuracy: 0.8846\n",
      "Epoch 52/100\n",
      "1500/1500 [==============================] - 14s 9ms/step - loss: 0.2265 - accuracy: 0.9222 - val_loss: 0.3330 - val_accuracy: 0.8806\n",
      "Epoch 53/100\n",
      "1500/1500 [==============================] - 13s 9ms/step - loss: 0.2236 - accuracy: 0.9229 - val_loss: 0.3097 - val_accuracy: 0.8887\n",
      "Epoch 54/100\n",
      "1500/1500 [==============================] - 14s 9ms/step - loss: 0.2222 - accuracy: 0.9227 - val_loss: 0.3293 - val_accuracy: 0.8838\n",
      "Epoch 55/100\n",
      "1500/1500 [==============================] - 14s 10ms/step - loss: 0.2195 - accuracy: 0.9242 - val_loss: 0.3137 - val_accuracy: 0.8872\n",
      "Epoch 56/100\n",
      "1500/1500 [==============================] - 14s 9ms/step - loss: 0.2175 - accuracy: 0.9260 - val_loss: 0.3206 - val_accuracy: 0.8863\n",
      "Epoch 57/100\n",
      "1500/1500 [==============================] - 14s 9ms/step - loss: 0.2152 - accuracy: 0.9262 - val_loss: 0.3147 - val_accuracy: 0.8903\n",
      "Epoch 58/100\n",
      "1500/1500 [==============================] - 14s 9ms/step - loss: 0.2144 - accuracy: 0.9261 - val_loss: 0.3145 - val_accuracy: 0.8863\n",
      "Epoch 59/100\n",
      "1500/1500 [==============================] - 15s 10ms/step - loss: 0.2118 - accuracy: 0.9265 - val_loss: 0.3188 - val_accuracy: 0.8860\n",
      "Epoch 60/100\n",
      "1500/1500 [==============================] - 14s 10ms/step - loss: 0.2094 - accuracy: 0.9293 - val_loss: 0.3086 - val_accuracy: 0.8903\n",
      "Epoch 61/100\n",
      "1500/1500 [==============================] - 15s 10ms/step - loss: 0.2074 - accuracy: 0.9288 - val_loss: 0.3048 - val_accuracy: 0.8932\n",
      "Epoch 62/100\n",
      "1500/1500 [==============================] - 15s 10ms/step - loss: 0.2060 - accuracy: 0.9288 - val_loss: 0.3040 - val_accuracy: 0.8922\n",
      "Epoch 63/100\n",
      "1500/1500 [==============================] - 14s 9ms/step - loss: 0.2042 - accuracy: 0.9301 - val_loss: 0.3271 - val_accuracy: 0.8858\n",
      "Epoch 64/100\n",
      "1500/1500 [==============================] - 14s 10ms/step - loss: 0.2025 - accuracy: 0.9310 - val_loss: 0.3003 - val_accuracy: 0.8924\n",
      "Epoch 65/100\n",
      "1500/1500 [==============================] - 14s 10ms/step - loss: 0.2003 - accuracy: 0.9326 - val_loss: 0.3088 - val_accuracy: 0.8909\n",
      "Epoch 66/100\n",
      "1500/1500 [==============================] - 15s 10ms/step - loss: 0.1983 - accuracy: 0.9324 - val_loss: 0.3084 - val_accuracy: 0.8907\n",
      "Epoch 67/100\n",
      "1500/1500 [==============================] - 14s 9ms/step - loss: 0.1962 - accuracy: 0.9327 - val_loss: 0.3076 - val_accuracy: 0.8908\n",
      "Epoch 68/100\n",
      "1500/1500 [==============================] - 15s 10ms/step - loss: 0.1949 - accuracy: 0.9329 - val_loss: 0.3143 - val_accuracy: 0.8892\n",
      "Epoch 69/100\n",
      "1500/1500 [==============================] - 13s 9ms/step - loss: 0.1925 - accuracy: 0.9352 - val_loss: 0.3069 - val_accuracy: 0.8927\n",
      "Epoch 70/100\n",
      "1500/1500 [==============================] - 14s 9ms/step - loss: 0.1923 - accuracy: 0.9344 - val_loss: 0.3183 - val_accuracy: 0.8884\n",
      "Epoch 71/100\n",
      "1500/1500 [==============================] - 14s 9ms/step - loss: 0.1897 - accuracy: 0.9354 - val_loss: 0.3144 - val_accuracy: 0.8896\n",
      "Epoch 72/100\n",
      "1500/1500 [==============================] - 14s 10ms/step - loss: 0.1878 - accuracy: 0.9367 - val_loss: 0.2987 - val_accuracy: 0.8951\n",
      "Epoch 73/100\n",
      "1500/1500 [==============================] - 14s 9ms/step - loss: 0.1863 - accuracy: 0.9365 - val_loss: 0.3063 - val_accuracy: 0.8930\n",
      "Epoch 74/100\n",
      "1500/1500 [==============================] - 18s 12ms/step - loss: 0.1845 - accuracy: 0.9380 - val_loss: 0.3072 - val_accuracy: 0.8918\n",
      "Epoch 75/100\n",
      "1500/1500 [==============================] - 21s 14ms/step - loss: 0.1830 - accuracy: 0.9376 - val_loss: 0.3018 - val_accuracy: 0.8933\n",
      "Epoch 76/100\n",
      "1500/1500 [==============================] - 19s 12ms/step - loss: 0.1815 - accuracy: 0.9394 - val_loss: 0.3101 - val_accuracy: 0.8936\n",
      "Epoch 77/100\n",
      "1500/1500 [==============================] - 16s 11ms/step - loss: 0.1803 - accuracy: 0.9397 - val_loss: 0.3156 - val_accuracy: 0.8904\n",
      "Epoch 78/100\n",
      "1500/1500 [==============================] - 15s 10ms/step - loss: 0.1779 - accuracy: 0.9400 - val_loss: 0.3094 - val_accuracy: 0.8907\n",
      "Epoch 79/100\n",
      "1500/1500 [==============================] - 15s 10ms/step - loss: 0.1768 - accuracy: 0.9404 - val_loss: 0.3109 - val_accuracy: 0.8916\n",
      "Epoch 80/100\n",
      "1500/1500 [==============================] - 16s 10ms/step - loss: 0.1749 - accuracy: 0.9414 - val_loss: 0.3018 - val_accuracy: 0.8963\n",
      "Epoch 81/100\n",
      "1500/1500 [==============================] - 14s 10ms/step - loss: 0.1736 - accuracy: 0.9405 - val_loss: 0.3014 - val_accuracy: 0.8941\n",
      "Epoch 82/100\n",
      "1500/1500 [==============================] - 15s 10ms/step - loss: 0.1715 - accuracy: 0.9422 - val_loss: 0.3099 - val_accuracy: 0.8926\n",
      "Epoch 83/100\n",
      "1500/1500 [==============================] - 16s 11ms/step - loss: 0.1700 - accuracy: 0.9432 - val_loss: 0.3031 - val_accuracy: 0.8941\n",
      "Epoch 84/100\n",
      "1500/1500 [==============================] - 15s 10ms/step - loss: 0.1689 - accuracy: 0.9432 - val_loss: 0.3064 - val_accuracy: 0.8937\n",
      "Epoch 85/100\n",
      "1500/1500 [==============================] - 14s 9ms/step - loss: 0.1669 - accuracy: 0.9439 - val_loss: 0.3055 - val_accuracy: 0.8936\n",
      "Epoch 86/100\n",
      "1500/1500 [==============================] - 13s 9ms/step - loss: 0.1657 - accuracy: 0.9436 - val_loss: 0.3031 - val_accuracy: 0.8928\n",
      "Epoch 87/100\n",
      "1500/1500 [==============================] - 13s 9ms/step - loss: 0.1637 - accuracy: 0.9449 - val_loss: 0.2981 - val_accuracy: 0.8929\n",
      "Epoch 88/100\n",
      "1500/1500 [==============================] - 13s 9ms/step - loss: 0.1618 - accuracy: 0.9466 - val_loss: 0.3104 - val_accuracy: 0.8915\n",
      "Epoch 89/100\n",
      "1500/1500 [==============================] - 13s 9ms/step - loss: 0.1605 - accuracy: 0.9470 - val_loss: 0.3061 - val_accuracy: 0.8929\n",
      "Epoch 90/100\n",
      "1500/1500 [==============================] - 14s 10ms/step - loss: 0.1586 - accuracy: 0.9461 - val_loss: 0.3105 - val_accuracy: 0.8926\n",
      "Epoch 91/100\n",
      "1500/1500 [==============================] - 15s 10ms/step - loss: 0.1575 - accuracy: 0.9473 - val_loss: 0.3092 - val_accuracy: 0.8932\n",
      "Epoch 92/100\n",
      "1500/1500 [==============================] - 16s 11ms/step - loss: 0.1565 - accuracy: 0.9480 - val_loss: 0.3013 - val_accuracy: 0.8954\n",
      "Epoch 93/100\n",
      "1500/1500 [==============================] - 15s 10ms/step - loss: 0.1549 - accuracy: 0.9473 - val_loss: 0.3091 - val_accuracy: 0.8945\n",
      "Epoch 94/100\n",
      "1500/1500 [==============================] - 15s 10ms/step - loss: 0.1544 - accuracy: 0.9487 - val_loss: 0.3116 - val_accuracy: 0.8921\n",
      "Epoch 95/100\n",
      "1500/1500 [==============================] - 15s 10ms/step - loss: 0.1528 - accuracy: 0.9494 - val_loss: 0.3052 - val_accuracy: 0.8938\n",
      "Epoch 96/100\n",
      "1500/1500 [==============================] - 14s 9ms/step - loss: 0.1513 - accuracy: 0.9494 - val_loss: 0.3086 - val_accuracy: 0.8929\n",
      "Epoch 97/100\n",
      "1500/1500 [==============================] - 15s 10ms/step - loss: 0.1497 - accuracy: 0.9504 - val_loss: 0.3031 - val_accuracy: 0.8944\n",
      "Epoch 98/100\n",
      "1500/1500 [==============================] - 14s 9ms/step - loss: 0.1481 - accuracy: 0.9501 - val_loss: 0.2992 - val_accuracy: 0.8970\n",
      "Epoch 99/100\n",
      "1500/1500 [==============================] - 13s 9ms/step - loss: 0.1476 - accuracy: 0.9515 - val_loss: 0.3072 - val_accuracy: 0.8957\n",
      "Epoch 100/100\n",
      "1500/1500 [==============================] - 14s 9ms/step - loss: 0.1453 - accuracy: 0.9530 - val_loss: 0.3275 - val_accuracy: 0.8892\n"
     ]
    }
   ],
   "source": [
    "history = model.fit(x_train, y_train, \n",
    "                    batch_size=32, \n",
    "                    epochs=100,\n",
    "                    validation_split=0.2,\n",
    "                    verbose=1)"
   ]
  },
  {
   "cell_type": "code",
   "execution_count": 25,
   "id": "597906f1",
   "metadata": {},
   "outputs": [
    {
     "data": {
      "text/plain": [
       "<matplotlib.legend.Legend at 0x11f13282610>"
      ]
     },
     "execution_count": 25,
     "metadata": {},
     "output_type": "execute_result"
    },
    {
     "data": {
      "image/png": "[encoded data removed]",
      "text/plain": [
       "<Figure size 432x288 with 1 Axes>"
      ]
     },
     "metadata": {},
     "output_type": "display_data"
    }
   ],
   "source": [
    "# строим графики потерь и точности\n",
    "N = np.arange(0, 100)\n",
    "plt.style.use(\"ggplot\")\n",
    "plt.figure()\n",
    "plt.plot(N, history.history[\"loss\"], label=\"train_loss\")\n",
    "plt.plot(N, history.history[\"val_loss\"], label=\"val_loss\")\n",
    "#plt.plot(N, history.history[\"accuracy\"], label=\"train_acc\")\n",
    "#plt.plot(N, history.history[\"val_accuracy\"], label=\"val_acc\")\n",
    "plt.title(\"Training and Validation Loss  (Simple NN)\")\n",
    "plt.xlabel(\"Epoch #\")\n",
    "plt.ylabel(\"Loss/Accuracy\")\n",
    "plt.legend()\n",
    "#plt.savefig(args[\"plot\"])"
   ]
  },
  {
   "cell_type": "code",
   "execution_count": 26,
   "id": "d37492bf",
   "metadata": {},
   "outputs": [
    {
     "data": {
      "text/plain": [
       "<matplotlib.legend.Legend at 0x11f132dec70>"
      ]
     },
     "execution_count": 26,
     "metadata": {},
     "output_type": "execute_result"
    },
    {
     "data": {
      "image/png": "[encoded data removed]",
      "text/plain": [
       "<Figure size 432x288 with 1 Axes>"
      ]
     },
     "metadata": {},
     "output_type": "display_data"
    }
   ],
   "source": [
    "# строим графики потерь и точности\n",
    "N = np.arange(0, 100)\n",
    "plt.style.use(\"ggplot\")\n",
    "plt.figure()\n",
    "#plt.plot(N, history.history[\"loss\"], label=\"train_loss\")\n",
    "#plt.plot(N, history.history[\"val_loss\"], label=\"val_loss\")\n",
    "plt.plot(N, history.history[\"accuracy\"], label=\"train_acc\")\n",
    "plt.plot(N, history.history[\"val_accuracy\"], label=\"val_acc\")\n",
    "plt.title(\"Training and Validation Loss  (Simple NN)\")\n",
    "plt.xlabel(\"Epoch #\")\n",
    "plt.ylabel(\"Loss/Accuracy\")\n",
    "plt.legend()\n",
    "#plt.savefig(args[\"plot\"])"
   ]
  },
  {
   "cell_type": "markdown",
   "id": "239ae479",
   "metadata": {},
   "source": [
    "Число $1500/1500$ под эпохами является округленным вверх результатом деления объема обучающего набора на размер пакета `batch_size = 32` $50000/32 = 1562.5$."
   ]
  },
  {
   "cell_type": "markdown",
   "id": "e9bbaeff",
   "metadata": {},
   "source": [
    "1. 0.8016\n",
    "\n",
    "2. 0.8282\n",
    "\n",
    "3. 0.8373\n",
    "\n",
    "$\\vdots$\n",
    "\n",
    "10. 0.8589\n",
    "\n",
    "$\\vdots$\n",
    "\n",
    "20. 0.8776\n",
    "\n",
    "$\\vdots$\n",
    "\n",
    "30. 0.8846\n",
    "\n",
    "$\\vdots$\n",
    "\n",
    "40. 0.8851\n",
    "\n",
    "$\\vdots$\n",
    "\n",
    "50. 0.8889\n",
    "\n",
    "$\\vdots$\n",
    "\n",
    "60. 0.8903\n",
    "\n",
    "$\\vdots$\n",
    "\n",
    "70. 0.8884\n",
    "\n",
    "$\\vdots$\n",
    "\n",
    "80. 0.8963\n",
    "\n",
    "$\\vdots$\n",
    "\n",
    "90. 0.8926\n",
    "\n",
    "$\\vdots$\n",
    "\n",
    "100. 0.8892"
   ]
  },
  {
   "cell_type": "markdown",
   "id": "01a8324d",
   "metadata": {},
   "source": [
    "### параметры"
   ]
  },
  {
   "cell_type": "code",
   "execution_count": 27,
   "id": "f98aa2bb",
   "metadata": {},
   "outputs": [
    {
     "data": {
      "text/plain": [
       "{'verbose': 1, 'epochs': 100, 'steps': 1500}"
      ]
     },
     "execution_count": 27,
     "metadata": {},
     "output_type": "execute_result"
    }
   ],
   "source": [
    "history.params"
   ]
  },
  {
   "cell_type": "markdown",
   "id": "f0f0a679",
   "metadata": {},
   "source": [
    "### эпохи"
   ]
  },
  {
   "cell_type": "code",
   "execution_count": 28,
   "id": "d88d3c4e",
   "metadata": {
    "scrolled": true
   },
   "outputs": [
    {
     "data": {
      "text/plain": [
       "[0,\n",
       " 1,\n",
       " 2,\n",
       " 3,\n",
       " 4,\n",
       " 5,\n",
       " 6,\n",
       " 7,\n",
       " 8,\n",
       " 9,\n",
       " 10,\n",
       " 11,\n",
       " 12,\n",
       " 13,\n",
       " 14,\n",
       " 15,\n",
       " 16,\n",
       " 17,\n",
       " 18,\n",
       " 19,\n",
       " 20,\n",
       " 21,\n",
       " 22,\n",
       " 23,\n",
       " 24,\n",
       " 25,\n",
       " 26,\n",
       " 27,\n",
       " 28,\n",
       " 29,\n",
       " 30,\n",
       " 31,\n",
       " 32,\n",
       " 33,\n",
       " 34,\n",
       " 35,\n",
       " 36,\n",
       " 37,\n",
       " 38,\n",
       " 39,\n",
       " 40,\n",
       " 41,\n",
       " 42,\n",
       " 43,\n",
       " 44,\n",
       " 45,\n",
       " 46,\n",
       " 47,\n",
       " 48,\n",
       " 49,\n",
       " 50,\n",
       " 51,\n",
       " 52,\n",
       " 53,\n",
       " 54,\n",
       " 55,\n",
       " 56,\n",
       " 57,\n",
       " 58,\n",
       " 59,\n",
       " 60,\n",
       " 61,\n",
       " 62,\n",
       " 63,\n",
       " 64,\n",
       " 65,\n",
       " 66,\n",
       " 67,\n",
       " 68,\n",
       " 69,\n",
       " 70,\n",
       " 71,\n",
       " 72,\n",
       " 73,\n",
       " 74,\n",
       " 75,\n",
       " 76,\n",
       " 77,\n",
       " 78,\n",
       " 79,\n",
       " 80,\n",
       " 81,\n",
       " 82,\n",
       " 83,\n",
       " 84,\n",
       " 85,\n",
       " 86,\n",
       " 87,\n",
       " 88,\n",
       " 89,\n",
       " 90,\n",
       " 91,\n",
       " 92,\n",
       " 93,\n",
       " 94,\n",
       " 95,\n",
       " 96,\n",
       " 97,\n",
       " 98,\n",
       " 99]"
      ]
     },
     "execution_count": 28,
     "metadata": {},
     "output_type": "execute_result"
    }
   ],
   "source": [
    "history.epoch"
   ]
  },
  {
   "cell_type": "markdown",
   "id": "81a85630",
   "metadata": {},
   "source": [
    "### доп. параметры"
   ]
  },
  {
   "cell_type": "code",
   "execution_count": 29,
   "id": "af8f424f",
   "metadata": {
    "scrolled": true
   },
   "outputs": [
    {
     "data": {
      "text/plain": [
       "{'loss': [0.7394083142280579,\n",
       "  0.517903208732605,\n",
       "  0.4720609188079834,\n",
       "  0.44610393047332764,\n",
       "  0.42790934443473816,\n",
       "  0.4138669967651367,\n",
       "  0.4023665487766266,\n",
       "  0.39184796810150146,\n",
       "  0.3825342059135437,\n",
       "  0.37466421723365784,\n",
       "  0.3670364320278168,\n",
       "  0.3602537512779236,\n",
       "  0.353434681892395,\n",
       "  0.3482971489429474,\n",
       "  0.3421391546726227,\n",
       "  0.33763381838798523,\n",
       "  0.3328969180583954,\n",
       "  0.32717692852020264,\n",
       "  0.3237254321575165,\n",
       "  0.3185332715511322,\n",
       "  0.3143313229084015,\n",
       "  0.3103155195713043,\n",
       "  0.3061977028846741,\n",
       "  0.3029773235321045,\n",
       "  0.29803362488746643,\n",
       "  0.29524362087249756,\n",
       "  0.29141923785209656,\n",
       "  0.28797033429145813,\n",
       "  0.28542912006378174,\n",
       "  0.2817516326904297,\n",
       "  0.27884864807128906,\n",
       "  0.27606961131095886,\n",
       "  0.2726978063583374,\n",
       "  0.2699330151081085,\n",
       "  0.26690125465393066,\n",
       "  0.26426634192466736,\n",
       "  0.2616265118122101,\n",
       "  0.2581848204135895,\n",
       "  0.2562647759914398,\n",
       "  0.25321173667907715,\n",
       "  0.2515922486782074,\n",
       "  0.24906755983829498,\n",
       "  0.24645309150218964,\n",
       "  0.243612140417099,\n",
       "  0.2416120022535324,\n",
       "  0.2390461266040802,\n",
       "  0.23706765472888947,\n",
       "  0.23551805317401886,\n",
       "  0.23229245841503143,\n",
       "  0.22998537123203278,\n",
       "  0.2280232310295105,\n",
       "  0.2265288233757019,\n",
       "  0.2236267626285553,\n",
       "  0.22218652069568634,\n",
       "  0.21946988999843597,\n",
       "  0.2174862027168274,\n",
       "  0.2151724100112915,\n",
       "  0.21439209580421448,\n",
       "  0.21178975701332092,\n",
       "  0.2093518227338791,\n",
       "  0.20739096403121948,\n",
       "  0.20604588091373444,\n",
       "  0.20415383577346802,\n",
       "  0.20251843333244324,\n",
       "  0.2002565860748291,\n",
       "  0.19834478199481964,\n",
       "  0.19619810581207275,\n",
       "  0.1949205994606018,\n",
       "  0.19252531230449677,\n",
       "  0.19227927923202515,\n",
       "  0.189693883061409,\n",
       "  0.18777093291282654,\n",
       "  0.18625105917453766,\n",
       "  0.18452955782413483,\n",
       "  0.18302255868911743,\n",
       "  0.18146415054798126,\n",
       "  0.18029536306858063,\n",
       "  0.1778862476348877,\n",
       "  0.17677323520183563,\n",
       "  0.17488478124141693,\n",
       "  0.17364849150180817,\n",
       "  0.1715235859155655,\n",
       "  0.1700214296579361,\n",
       "  0.1689203679561615,\n",
       "  0.16692478954792023,\n",
       "  0.1656883805990219,\n",
       "  0.16371284425258636,\n",
       "  0.1618390530347824,\n",
       "  0.16047605872154236,\n",
       "  0.15860147774219513,\n",
       "  0.15750133991241455,\n",
       "  0.15653054416179657,\n",
       "  0.15494725108146667,\n",
       "  0.1544017791748047,\n",
       "  0.1528044044971466,\n",
       "  0.15126295387744904,\n",
       "  0.14972320199012756,\n",
       "  0.14813865721225739,\n",
       "  0.1476052701473236,\n",
       "  0.14530690014362335],\n",
       " 'accuracy': [0.7640833258628845,\n",
       "  0.8259999752044678,\n",
       "  0.8397291898727417,\n",
       "  0.8464166522026062,\n",
       "  0.8530208468437195,\n",
       "  0.8572708368301392,\n",
       "  0.8612708449363708,\n",
       "  0.8658333420753479,\n",
       "  0.8680416941642761,\n",
       "  0.8694999814033508,\n",
       "  0.8729375004768372,\n",
       "  0.8756250143051147,\n",
       "  0.8769791722297668,\n",
       "  0.8787500262260437,\n",
       "  0.8793749809265137,\n",
       "  0.8820624947547913,\n",
       "  0.8833333253860474,\n",
       "  0.8849999904632568,\n",
       "  0.8862708210945129,\n",
       "  0.8885625004768372,\n",
       "  0.8903541564941406,\n",
       "  0.890666663646698,\n",
       "  0.8918333053588867,\n",
       "  0.8935624957084656,\n",
       "  0.8952500224113464,\n",
       "  0.895354151725769,\n",
       "  0.8977916836738586,\n",
       "  0.898062527179718,\n",
       "  0.9007083177566528,\n",
       "  0.901562511920929,\n",
       "  0.9011041522026062,\n",
       "  0.9021250009536743,\n",
       "  0.9042500257492065,\n",
       "  0.9050416946411133,\n",
       "  0.9056249856948853,\n",
       "  0.9077500104904175,\n",
       "  0.9081458449363708,\n",
       "  0.9101041555404663,\n",
       "  0.9100833535194397,\n",
       "  0.911104142665863,\n",
       "  0.9119374752044678,\n",
       "  0.913812518119812,\n",
       "  0.9147916436195374,\n",
       "  0.9145625233650208,\n",
       "  0.9158333539962769,\n",
       "  0.9157291650772095,\n",
       "  0.9177291393280029,\n",
       "  0.917354166507721,\n",
       "  0.9204375147819519,\n",
       "  0.9203749895095825,\n",
       "  0.9216874837875366,\n",
       "  0.9221875071525574,\n",
       "  0.9228749871253967,\n",
       "  0.9226874709129333,\n",
       "  0.9242291450500488,\n",
       "  0.9259791374206543,\n",
       "  0.9262499809265137,\n",
       "  0.9261041879653931,\n",
       "  0.9265000224113464,\n",
       "  0.9292708039283752,\n",
       "  0.9287708401679993,\n",
       "  0.9288333058357239,\n",
       "  0.930062472820282,\n",
       "  0.9310416579246521,\n",
       "  0.9325833320617676,\n",
       "  0.9323958158493042,\n",
       "  0.932729184627533,\n",
       "  0.932895839214325,\n",
       "  0.9352291822433472,\n",
       "  0.9343958497047424,\n",
       "  0.9354166388511658,\n",
       "  0.9367083311080933,\n",
       "  0.9365208148956299,\n",
       "  0.9379583597183228,\n",
       "  0.9376458525657654,\n",
       "  0.9393541812896729,\n",
       "  0.9396666884422302,\n",
       "  0.9400208592414856,\n",
       "  0.9404374957084656,\n",
       "  0.9414166808128357,\n",
       "  0.9405208230018616,\n",
       "  0.9421666860580444,\n",
       "  0.9431666731834412,\n",
       "  0.9432291388511658,\n",
       "  0.9438750147819519,\n",
       "  0.9436249732971191,\n",
       "  0.9448750019073486,\n",
       "  0.9466041922569275,\n",
       "  0.9469583630561829,\n",
       "  0.9460833072662354,\n",
       "  0.9472708106040955,\n",
       "  0.9479791522026062,\n",
       "  0.9473333358764648,\n",
       "  0.9486874938011169,\n",
       "  0.9494374990463257,\n",
       "  0.9493958353996277,\n",
       "  0.9504166841506958,\n",
       "  0.9501041769981384,\n",
       "  0.9514583349227905,\n",
       "  0.953000009059906],\n",
       " 'val_loss': [0.5660310983657837,\n",
       "  0.49681946635246277,\n",
       "  0.4639618992805481,\n",
       "  0.440135657787323,\n",
       "  0.4345740079879761,\n",
       "  0.41466447710990906,\n",
       "  0.4049298167228699,\n",
       "  0.3999795615673065,\n",
       "  0.40125012397766113,\n",
       "  0.40474429726600647,\n",
       "  0.3830972909927368,\n",
       "  0.37853750586509705,\n",
       "  0.37077900767326355,\n",
       "  0.3720896542072296,\n",
       "  0.36885929107666016,\n",
       "  0.37061089277267456,\n",
       "  0.3621508777141571,\n",
       "  0.3651372790336609,\n",
       "  0.3506646454334259,\n",
       "  0.35202592611312866,\n",
       "  0.35390058159828186,\n",
       "  0.35435545444488525,\n",
       "  0.344840407371521,\n",
       "  0.34211841225624084,\n",
       "  0.34454041719436646,\n",
       "  0.3383044898509979,\n",
       "  0.3361017107963562,\n",
       "  0.3400840163230896,\n",
       "  0.33565303683280945,\n",
       "  0.32956284284591675,\n",
       "  0.35569384694099426,\n",
       "  0.35345032811164856,\n",
       "  0.32733169198036194,\n",
       "  0.3250964879989624,\n",
       "  0.3282938599586487,\n",
       "  0.32304251194000244,\n",
       "  0.32964614033699036,\n",
       "  0.32336729764938354,\n",
       "  0.3210717737674713,\n",
       "  0.31982722878456116,\n",
       "  0.3188016414642334,\n",
       "  0.31878724694252014,\n",
       "  0.32547834515571594,\n",
       "  0.3146926164627075,\n",
       "  0.32173827290534973,\n",
       "  0.3291592001914978,\n",
       "  0.3299430012702942,\n",
       "  0.31727686524391174,\n",
       "  0.31648707389831543,\n",
       "  0.31443431973457336,\n",
       "  0.3335152864456177,\n",
       "  0.3329777419567108,\n",
       "  0.3096928596496582,\n",
       "  0.3292537331581116,\n",
       "  0.3136582374572754,\n",
       "  0.32062608003616333,\n",
       "  0.3147212266921997,\n",
       "  0.31448298692703247,\n",
       "  0.31884294748306274,\n",
       "  0.30861011147499084,\n",
       "  0.30476176738739014,\n",
       "  0.303978830575943,\n",
       "  0.3271252512931824,\n",
       "  0.3002849817276001,\n",
       "  0.30882054567337036,\n",
       "  0.30843114852905273,\n",
       "  0.30760297179222107,\n",
       "  0.3143235146999359,\n",
       "  0.3069263696670532,\n",
       "  0.3182797133922577,\n",
       "  0.314425528049469,\n",
       "  0.2986840307712555,\n",
       "  0.30632534623146057,\n",
       "  0.3071821928024292,\n",
       "  0.3018365204334259,\n",
       "  0.3100587725639343,\n",
       "  0.31564438343048096,\n",
       "  0.3094319999217987,\n",
       "  0.31085821986198425,\n",
       "  0.30178362131118774,\n",
       "  0.30137893557548523,\n",
       "  0.3098817765712738,\n",
       "  0.3031443953514099,\n",
       "  0.30636319518089294,\n",
       "  0.30550211668014526,\n",
       "  0.30309849977493286,\n",
       "  0.29811805486679077,\n",
       "  0.3103785514831543,\n",
       "  0.30610066652297974,\n",
       "  0.31052395701408386,\n",
       "  0.3091530501842499,\n",
       "  0.30126553773880005,\n",
       "  0.30909228324890137,\n",
       "  0.31156882643699646,\n",
       "  0.3051707446575165,\n",
       "  0.30864059925079346,\n",
       "  0.30312371253967285,\n",
       "  0.2992289364337921,\n",
       "  0.30716174840927124,\n",
       "  0.3274988830089569],\n",
       " 'val_accuracy': [0.8015833497047424,\n",
       "  0.828166663646698,\n",
       "  0.8373333215713501,\n",
       "  0.8489166498184204,\n",
       "  0.8499166369438171,\n",
       "  0.8555833101272583,\n",
       "  0.859000027179718,\n",
       "  0.862416684627533,\n",
       "  0.859666645526886,\n",
       "  0.8589166402816772,\n",
       "  0.8674166798591614,\n",
       "  0.8667500019073486,\n",
       "  0.871833324432373,\n",
       "  0.8702499866485596,\n",
       "  0.871749997138977,\n",
       "  0.8690833449363708,\n",
       "  0.8726666569709778,\n",
       "  0.8702499866485596,\n",
       "  0.8775833249092102,\n",
       "  0.8775833249092102,\n",
       "  0.8769999742507935,\n",
       "  0.8736666440963745,\n",
       "  0.8790000081062317,\n",
       "  0.8787500262260437,\n",
       "  0.8775833249092102,\n",
       "  0.8809166550636292,\n",
       "  0.8809166550636292,\n",
       "  0.8799166679382324,\n",
       "  0.8802499771118164,\n",
       "  0.8845833539962769,\n",
       "  0.8734999895095825,\n",
       "  0.8732500076293945,\n",
       "  0.8847500085830688,\n",
       "  0.8845833539962769,\n",
       "  0.8830833435058594,\n",
       "  0.8848333358764648,\n",
       "  0.8816666603088379,\n",
       "  0.8851666450500488,\n",
       "  0.8851666450500488,\n",
       "  0.8850833177566528,\n",
       "  0.8865833282470703,\n",
       "  0.8862500190734863,\n",
       "  0.8859166502952576,\n",
       "  0.887499988079071,\n",
       "  0.8865000009536743,\n",
       "  0.8828333616256714,\n",
       "  0.8839166760444641,\n",
       "  0.8865000009536743,\n",
       "  0.8865833282470703,\n",
       "  0.8889166712760925,\n",
       "  0.8845833539962769,\n",
       "  0.8805833458900452,\n",
       "  0.8886666893959045,\n",
       "  0.8837500214576721,\n",
       "  0.8871666789054871,\n",
       "  0.8862500190734863,\n",
       "  0.890333354473114,\n",
       "  0.8862500190734863,\n",
       "  0.8859999775886536,\n",
       "  0.890250027179718,\n",
       "  0.8931666612625122,\n",
       "  0.8921666741371155,\n",
       "  0.8858333230018616,\n",
       "  0.8924166560173035,\n",
       "  0.890916645526886,\n",
       "  0.890749990940094,\n",
       "  0.89083331823349,\n",
       "  0.8891666531562805,\n",
       "  0.8926666378974915,\n",
       "  0.8884166479110718,\n",
       "  0.8895833492279053,\n",
       "  0.8950833082199097,\n",
       "  0.8930000066757202,\n",
       "  0.8918333053588867,\n",
       "  0.8933333158493042,\n",
       "  0.893583357334137,\n",
       "  0.89041668176651,\n",
       "  0.890666663646698,\n",
       "  0.8915833234786987,\n",
       "  0.8963333368301392,\n",
       "  0.8940833210945129,\n",
       "  0.8925833106040955,\n",
       "  0.8940833210945129,\n",
       "  0.893666684627533,\n",
       "  0.893583357334137,\n",
       "  0.8927500247955322,\n",
       "  0.8929166793823242,\n",
       "  0.8914999961853027,\n",
       "  0.8929166793823242,\n",
       "  0.8925833106040955,\n",
       "  0.8931666612625122,\n",
       "  0.8954166769981384,\n",
       "  0.8945000171661377,\n",
       "  0.8920833468437195,\n",
       "  0.893833339214325,\n",
       "  0.8929166793823242,\n",
       "  0.8944166898727417,\n",
       "  0.8970000147819519,\n",
       "  0.8956666588783264,\n",
       "  0.8891666531562805]}"
      ]
     },
     "execution_count": 29,
     "metadata": {},
     "output_type": "execute_result"
    }
   ],
   "source": [
    "history.history"
   ]
  },
  {
   "cell_type": "markdown",
   "id": "6a65b9d3",
   "metadata": {},
   "source": [
    "### Оценка модели"
   ]
  },
  {
   "cell_type": "markdown",
   "id": "f3730dfb",
   "metadata": {},
   "source": [
    "Оценим качество модели на проверочных данных. Доля верных ответов на проверочных данных составляет 88%."
   ]
  },
  {
   "cell_type": "code",
   "execution_count": 30,
   "id": "a1b22a32",
   "metadata": {},
   "outputs": [
    {
     "name": "stdout",
     "output_type": "stream",
     "text": [
      "313/313 [==============================] - 2s 6ms/step - loss: 0.3499 - accuracy: 0.8823\n"
     ]
    },
    {
     "data": {
      "text/plain": [
       "[0.34987181425094604, 0.8823000192642212]"
      ]
     },
     "execution_count": 30,
     "metadata": {},
     "output_type": "execute_result"
    }
   ],
   "source": [
    "model.evaluate(x_test, y_test, verbose=1)"
   ]
  },
  {
   "cell_type": "markdown",
   "id": "8ae20681",
   "metadata": {},
   "source": [
    "# MNN - МНОГОСЛОЙНАЯ НЕЙРОННАЯ СЕТЬ <a class=\"anchor\" id=\"3\"></a>"
   ]
  },
  {
   "cell_type": "markdown",
   "id": "0b7b3cdf",
   "metadata": {},
   "source": [
    "# 2 внутренних слоя"
   ]
  },
  {
   "cell_type": "markdown",
   "id": "c04a91e3",
   "metadata": {},
   "source": [
    "### 500 и 100\n",
    "---"
   ]
  },
  {
   "cell_type": "markdown",
   "id": "1351974d",
   "metadata": {},
   "source": [
    "### 500 и 500\n",
    "---"
   ]
  },
  {
   "cell_type": "markdown",
   "id": "542b69a3",
   "metadata": {},
   "source": [
    "### 500 и 1000"
   ]
  },
  {
   "cell_type": "markdown",
   "id": "7b1f4069",
   "metadata": {},
   "source": [
    "* нейронов входного слоя = 500\n",
    "* нейронов внутреннего слоя = 1000\n",
    "* batch_size = 32 (по умолчанию)\n",
    "* epochs = 100"
   ]
  },
  {
   "cell_type": "code",
   "execution_count": 31,
   "id": "78269e67",
   "metadata": {
    "scrolled": true
   },
   "outputs": [
    {
     "name": "stdout",
     "output_type": "stream",
     "text": [
      "Epoch 1/100\n",
      "1500/1500 [==============================] - 28s 18ms/step - loss: 0.7368 - accuracy: 0.7613 - val_loss: 0.5358 - val_accuracy: 0.8129\n",
      "Epoch 2/100\n",
      "1500/1500 [==============================] - 28s 18ms/step - loss: 0.4950 - accuracy: 0.8287 - val_loss: 0.4836 - val_accuracy: 0.8297\n",
      "Epoch 3/100\n",
      "1500/1500 [==============================] - 27s 18ms/step - loss: 0.4474 - accuracy: 0.8434 - val_loss: 0.4370 - val_accuracy: 0.8481\n",
      "Epoch 4/100\n",
      "1500/1500 [==============================] - 27s 18ms/step - loss: 0.4185 - accuracy: 0.8541 - val_loss: 0.4123 - val_accuracy: 0.8572\n",
      "Epoch 5/100\n",
      "1500/1500 [==============================] - 27s 18ms/step - loss: 0.3986 - accuracy: 0.8603 - val_loss: 0.3984 - val_accuracy: 0.8582\n",
      "Epoch 6/100\n",
      "1500/1500 [==============================] - 27s 18ms/step - loss: 0.3829 - accuracy: 0.8651 - val_loss: 0.4029 - val_accuracy: 0.8569\n",
      "Epoch 7/100\n",
      "1500/1500 [==============================] - 28s 18ms/step - loss: 0.3696 - accuracy: 0.8678 - val_loss: 0.3941 - val_accuracy: 0.8628\n",
      "Epoch 8/100\n",
      "1500/1500 [==============================] - 27s 18ms/step - loss: 0.3568 - accuracy: 0.8738 - val_loss: 0.3818 - val_accuracy: 0.8662\n",
      "Epoch 9/100\n",
      "1500/1500 [==============================] - 28s 19ms/step - loss: 0.3473 - accuracy: 0.8765 - val_loss: 0.3757 - val_accuracy: 0.8688\n",
      "Epoch 10/100\n",
      "1500/1500 [==============================] - 28s 18ms/step - loss: 0.3368 - accuracy: 0.8809 - val_loss: 0.3588 - val_accuracy: 0.8728\n",
      "Epoch 11/100\n",
      "1500/1500 [==============================] - 27s 18ms/step - loss: 0.3292 - accuracy: 0.8831 - val_loss: 0.3695 - val_accuracy: 0.8687\n",
      "Epoch 12/100\n",
      "1500/1500 [==============================] - 27s 18ms/step - loss: 0.3204 - accuracy: 0.8850 - val_loss: 0.3503 - val_accuracy: 0.8760\n",
      "Epoch 13/100\n",
      "1500/1500 [==============================] - 27s 18ms/step - loss: 0.3129 - accuracy: 0.8886 - val_loss: 0.3443 - val_accuracy: 0.8779\n",
      "Epoch 14/100\n",
      "1500/1500 [==============================] - 26s 18ms/step - loss: 0.3063 - accuracy: 0.8901 - val_loss: 0.3565 - val_accuracy: 0.8727\n",
      "Epoch 15/100\n",
      "1500/1500 [==============================] - 26s 18ms/step - loss: 0.2984 - accuracy: 0.8940 - val_loss: 0.3397 - val_accuracy: 0.8817\n",
      "Epoch 16/100\n",
      "1500/1500 [==============================] - 27s 18ms/step - loss: 0.2919 - accuracy: 0.8949 - val_loss: 0.3325 - val_accuracy: 0.8825\n",
      "Epoch 17/100\n",
      "1500/1500 [==============================] - 27s 18ms/step - loss: 0.2867 - accuracy: 0.8956 - val_loss: 0.3399 - val_accuracy: 0.8775\n",
      "Epoch 18/100\n",
      "1500/1500 [==============================] - 24s 16ms/step - loss: 0.2806 - accuracy: 0.8988 - val_loss: 0.3372 - val_accuracy: 0.8789\n",
      "Epoch 19/100\n",
      "1500/1500 [==============================] - 13s 9ms/step - loss: 0.2751 - accuracy: 0.9010 - val_loss: 0.3401 - val_accuracy: 0.8769\n",
      "Epoch 20/100\n",
      "1500/1500 [==============================] - 13s 9ms/step - loss: 0.2688 - accuracy: 0.9046 - val_loss: 0.3225 - val_accuracy: 0.8867\n",
      "Epoch 21/100\n",
      "1500/1500 [==============================] - 13s 9ms/step - loss: 0.2646 - accuracy: 0.9049 - val_loss: 0.3341 - val_accuracy: 0.8827\n",
      "Epoch 22/100\n",
      "1500/1500 [==============================] - 13s 9ms/step - loss: 0.2590 - accuracy: 0.9079 - val_loss: 0.3246 - val_accuracy: 0.8859\n",
      "Epoch 23/100\n",
      "1500/1500 [==============================] - 14s 9ms/step - loss: 0.2541 - accuracy: 0.9086 - val_loss: 0.3261 - val_accuracy: 0.8868\n",
      "Epoch 24/100\n",
      "1500/1500 [==============================] - 13s 9ms/step - loss: 0.2488 - accuracy: 0.9107 - val_loss: 0.3124 - val_accuracy: 0.8902\n",
      "Epoch 25/100\n",
      "1500/1500 [==============================] - 13s 9ms/step - loss: 0.2450 - accuracy: 0.9131 - val_loss: 0.3244 - val_accuracy: 0.8851\n",
      "Epoch 26/100\n",
      "1500/1500 [==============================] - 13s 9ms/step - loss: 0.2401 - accuracy: 0.9140 - val_loss: 0.3100 - val_accuracy: 0.8888\n",
      "Epoch 27/100\n",
      "1500/1500 [==============================] - 13s 9ms/step - loss: 0.2375 - accuracy: 0.9150 - val_loss: 0.3114 - val_accuracy: 0.8884\n",
      "Epoch 28/100\n",
      "1500/1500 [==============================] - 13s 9ms/step - loss: 0.2313 - accuracy: 0.9176 - val_loss: 0.3090 - val_accuracy: 0.8898\n",
      "Epoch 29/100\n",
      "1500/1500 [==============================] - 13s 9ms/step - loss: 0.2273 - accuracy: 0.9190 - val_loss: 0.3172 - val_accuracy: 0.8857\n",
      "Epoch 30/100\n",
      "1500/1500 [==============================] - 13s 9ms/step - loss: 0.2235 - accuracy: 0.9206 - val_loss: 0.3225 - val_accuracy: 0.8852\n",
      "Epoch 31/100\n",
      "1500/1500 [==============================] - 13s 9ms/step - loss: 0.2192 - accuracy: 0.9224 - val_loss: 0.3020 - val_accuracy: 0.8898\n",
      "Epoch 32/100\n",
      "1500/1500 [==============================] - 14s 9ms/step - loss: 0.2155 - accuracy: 0.9243 - val_loss: 0.3030 - val_accuracy: 0.8913\n",
      "Epoch 33/100\n",
      "1500/1500 [==============================] - 14s 9ms/step - loss: 0.2114 - accuracy: 0.9253 - val_loss: 0.3074 - val_accuracy: 0.8889\n",
      "Epoch 34/100\n",
      "1500/1500 [==============================] - 13s 9ms/step - loss: 0.2086 - accuracy: 0.9257 - val_loss: 0.3135 - val_accuracy: 0.8887\n",
      "Epoch 35/100\n",
      "1500/1500 [==============================] - 14s 9ms/step - loss: 0.2041 - accuracy: 0.9286 - val_loss: 0.3203 - val_accuracy: 0.8849\n",
      "Epoch 36/100\n",
      "1500/1500 [==============================] - 16s 11ms/step - loss: 0.2016 - accuracy: 0.9290 - val_loss: 0.3096 - val_accuracy: 0.8901\n",
      "Epoch 37/100\n",
      "1500/1500 [==============================] - 13s 9ms/step - loss: 0.1971 - accuracy: 0.9303 - val_loss: 0.3073 - val_accuracy: 0.8884\n",
      "Epoch 38/100\n",
      "1500/1500 [==============================] - 16s 11ms/step - loss: 0.1946 - accuracy: 0.9311 - val_loss: 0.3117 - val_accuracy: 0.8889\n",
      "Epoch 39/100\n",
      "1500/1500 [==============================] - 13s 9ms/step - loss: 0.1915 - accuracy: 0.9319 - val_loss: 0.3075 - val_accuracy: 0.8923\n",
      "Epoch 40/100\n",
      "1500/1500 [==============================] - 13s 9ms/step - loss: 0.1871 - accuracy: 0.9336 - val_loss: 0.2977 - val_accuracy: 0.8926\n",
      "Epoch 41/100\n",
      "1500/1500 [==============================] - 13s 9ms/step - loss: 0.1842 - accuracy: 0.9350 - val_loss: 0.3089 - val_accuracy: 0.8893\n",
      "Epoch 42/100\n",
      "1500/1500 [==============================] - 14s 9ms/step - loss: 0.1791 - accuracy: 0.9373 - val_loss: 0.3086 - val_accuracy: 0.8907\n",
      "Epoch 43/100\n",
      "1500/1500 [==============================] - 16s 11ms/step - loss: 0.1779 - accuracy: 0.9371 - val_loss: 0.3337 - val_accuracy: 0.8823\n",
      "Epoch 44/100\n",
      "1500/1500 [==============================] - 17s 11ms/step - loss: 0.1731 - accuracy: 0.9389 - val_loss: 0.3024 - val_accuracy: 0.8932\n",
      "Epoch 45/100\n",
      "1500/1500 [==============================] - 16s 11ms/step - loss: 0.1716 - accuracy: 0.9391 - val_loss: 0.3297 - val_accuracy: 0.8869\n",
      "Epoch 46/100\n",
      "1500/1500 [==============================] - 14s 9ms/step - loss: 0.1677 - accuracy: 0.9408 - val_loss: 0.3314 - val_accuracy: 0.8869\n",
      "Epoch 47/100\n",
      "1500/1500 [==============================] - 14s 9ms/step - loss: 0.1646 - accuracy: 0.9434 - val_loss: 0.3069 - val_accuracy: 0.8926\n",
      "Epoch 48/100\n",
      "1500/1500 [==============================] - 13s 9ms/step - loss: 0.1622 - accuracy: 0.9436 - val_loss: 0.3139 - val_accuracy: 0.8911\n",
      "Epoch 49/100\n",
      "1500/1500 [==============================] - 13s 9ms/step - loss: 0.1581 - accuracy: 0.9435 - val_loss: 0.3184 - val_accuracy: 0.8904\n",
      "Epoch 50/100\n",
      "1500/1500 [==============================] - 14s 9ms/step - loss: 0.1568 - accuracy: 0.9456 - val_loss: 0.3105 - val_accuracy: 0.8921\n",
      "Epoch 51/100\n",
      "1500/1500 [==============================] - 13s 9ms/step - loss: 0.1531 - accuracy: 0.9466 - val_loss: 0.3112 - val_accuracy: 0.8935\n",
      "Epoch 52/100\n",
      "1500/1500 [==============================] - 14s 9ms/step - loss: 0.1491 - accuracy: 0.9478 - val_loss: 0.3164 - val_accuracy: 0.8938\n",
      "Epoch 53/100\n",
      "1500/1500 [==============================] - 13s 9ms/step - loss: 0.1468 - accuracy: 0.9484 - val_loss: 0.3111 - val_accuracy: 0.8929\n",
      "Epoch 54/100\n",
      "1500/1500 [==============================] - 13s 9ms/step - loss: 0.1432 - accuracy: 0.9502 - val_loss: 0.3086 - val_accuracy: 0.8937\n",
      "Epoch 55/100\n",
      "1500/1500 [==============================] - 14s 9ms/step - loss: 0.1421 - accuracy: 0.9510 - val_loss: 0.3372 - val_accuracy: 0.8868\n",
      "Epoch 56/100\n",
      "1500/1500 [==============================] - 14s 9ms/step - loss: 0.1395 - accuracy: 0.9516 - val_loss: 0.3127 - val_accuracy: 0.8928\n",
      "Epoch 57/100\n",
      "1500/1500 [==============================] - 13s 9ms/step - loss: 0.1375 - accuracy: 0.9528 - val_loss: 0.3280 - val_accuracy: 0.8890\n",
      "Epoch 58/100\n",
      "1500/1500 [==============================] - 13s 9ms/step - loss: 0.1343 - accuracy: 0.9531 - val_loss: 0.3176 - val_accuracy: 0.8934\n",
      "Epoch 59/100\n",
      "1500/1500 [==============================] - 13s 9ms/step - loss: 0.1300 - accuracy: 0.9561 - val_loss: 0.3351 - val_accuracy: 0.8875\n",
      "Epoch 60/100\n",
      "1500/1500 [==============================] - 14s 9ms/step - loss: 0.1303 - accuracy: 0.9553 - val_loss: 0.3126 - val_accuracy: 0.8919\n",
      "Epoch 61/100\n",
      "1500/1500 [==============================] - 14s 9ms/step - loss: 0.1259 - accuracy: 0.9571 - val_loss: 0.3265 - val_accuracy: 0.8913\n",
      "Epoch 62/100\n",
      "1500/1500 [==============================] - 13s 9ms/step - loss: 0.1247 - accuracy: 0.9572 - val_loss: 0.3488 - val_accuracy: 0.8872\n",
      "Epoch 63/100\n",
      "1500/1500 [==============================] - 15s 10ms/step - loss: 0.1202 - accuracy: 0.9589 - val_loss: 0.3221 - val_accuracy: 0.8938\n",
      "Epoch 64/100\n",
      "1500/1500 [==============================] - 16s 10ms/step - loss: 0.1207 - accuracy: 0.9581 - val_loss: 0.3790 - val_accuracy: 0.8802\n",
      "Epoch 65/100\n",
      "1500/1500 [==============================] - 15s 10ms/step - loss: 0.1168 - accuracy: 0.9603 - val_loss: 0.3263 - val_accuracy: 0.8931\n",
      "Epoch 66/100\n",
      "1500/1500 [==============================] - 14s 10ms/step - loss: 0.1150 - accuracy: 0.9602 - val_loss: 0.3232 - val_accuracy: 0.8937\n",
      "Epoch 67/100\n",
      "1500/1500 [==============================] - 13s 9ms/step - loss: 0.1125 - accuracy: 0.9621 - val_loss: 0.3355 - val_accuracy: 0.8917\n",
      "Epoch 68/100\n",
      "1500/1500 [==============================] - 13s 9ms/step - loss: 0.1107 - accuracy: 0.9623 - val_loss: 0.3375 - val_accuracy: 0.8910\n",
      "Epoch 69/100\n",
      "1500/1500 [==============================] - 13s 9ms/step - loss: 0.1088 - accuracy: 0.9626 - val_loss: 0.3326 - val_accuracy: 0.8932\n",
      "Epoch 70/100\n",
      "1500/1500 [==============================] - 13s 9ms/step - loss: 0.1071 - accuracy: 0.9638 - val_loss: 0.3482 - val_accuracy: 0.8899\n",
      "Epoch 71/100\n",
      "1500/1500 [==============================] - 14s 9ms/step - loss: 0.1037 - accuracy: 0.9651 - val_loss: 0.3342 - val_accuracy: 0.8923\n",
      "Epoch 72/100\n",
      "1500/1500 [==============================] - 13s 9ms/step - loss: 0.1023 - accuracy: 0.9654 - val_loss: 0.3495 - val_accuracy: 0.8888\n",
      "Epoch 73/100\n",
      "1500/1500 [==============================] - 13s 9ms/step - loss: 0.1006 - accuracy: 0.9659 - val_loss: 0.3391 - val_accuracy: 0.8917\n",
      "Epoch 74/100\n",
      "1500/1500 [==============================] - 13s 9ms/step - loss: 0.1003 - accuracy: 0.9658 - val_loss: 0.3416 - val_accuracy: 0.8911\n",
      "Epoch 75/100\n",
      "1500/1500 [==============================] - 13s 9ms/step - loss: 0.0964 - accuracy: 0.9673 - val_loss: 0.3784 - val_accuracy: 0.8845\n",
      "Epoch 76/100\n",
      "1500/1500 [==============================] - 14s 9ms/step - loss: 0.0956 - accuracy: 0.9678 - val_loss: 0.3361 - val_accuracy: 0.8924\n",
      "Epoch 77/100\n",
      "1500/1500 [==============================] - 13s 9ms/step - loss: 0.0923 - accuracy: 0.9692 - val_loss: 0.3479 - val_accuracy: 0.8905\n",
      "Epoch 78/100\n",
      "1500/1500 [==============================] - 13s 9ms/step - loss: 0.0898 - accuracy: 0.9700 - val_loss: 0.3541 - val_accuracy: 0.8919\n",
      "Epoch 79/100\n",
      "1500/1500 [==============================] - 13s 9ms/step - loss: 0.0901 - accuracy: 0.9699 - val_loss: 0.3483 - val_accuracy: 0.8933\n",
      "Epoch 80/100\n",
      "1500/1500 [==============================] - 14s 9ms/step - loss: 0.0873 - accuracy: 0.9704 - val_loss: 0.4374 - val_accuracy: 0.8788\n",
      "Epoch 81/100\n",
      "1500/1500 [==============================] - 14s 9ms/step - loss: 0.0852 - accuracy: 0.9719 - val_loss: 0.3837 - val_accuracy: 0.8845\n",
      "Epoch 82/100\n",
      "1500/1500 [==============================] - 13s 9ms/step - loss: 0.0847 - accuracy: 0.9715 - val_loss: 0.3663 - val_accuracy: 0.8902\n",
      "Epoch 83/100\n",
      "1500/1500 [==============================] - 13s 9ms/step - loss: 0.0818 - accuracy: 0.9731 - val_loss: 0.3688 - val_accuracy: 0.8885\n",
      "Epoch 84/100\n",
      "1500/1500 [==============================] - 13s 9ms/step - loss: 0.0819 - accuracy: 0.9729 - val_loss: 0.3923 - val_accuracy: 0.8867\n",
      "Epoch 85/100\n",
      "1500/1500 [==============================] - 14s 9ms/step - loss: 0.0795 - accuracy: 0.9738 - val_loss: 0.4482 - val_accuracy: 0.8741\n",
      "Epoch 86/100\n",
      "1500/1500 [==============================] - 14s 9ms/step - loss: 0.0774 - accuracy: 0.9750 - val_loss: 0.3606 - val_accuracy: 0.8919\n",
      "Epoch 87/100\n",
      "1500/1500 [==============================] - 14s 9ms/step - loss: 0.0756 - accuracy: 0.9752 - val_loss: 0.3642 - val_accuracy: 0.8942\n",
      "Epoch 88/100\n",
      "1500/1500 [==============================] - 14s 9ms/step - loss: 0.0750 - accuracy: 0.9758 - val_loss: 0.3589 - val_accuracy: 0.8933\n",
      "Epoch 89/100\n",
      "1500/1500 [==============================] - 13s 9ms/step - loss: 0.0731 - accuracy: 0.9763 - val_loss: 0.3691 - val_accuracy: 0.8935\n",
      "Epoch 90/100\n",
      "1500/1500 [==============================] - 13s 9ms/step - loss: 0.0722 - accuracy: 0.9757 - val_loss: 0.3570 - val_accuracy: 0.8944\n",
      "Epoch 91/100\n",
      "1500/1500 [==============================] - 13s 9ms/step - loss: 0.0703 - accuracy: 0.9774 - val_loss: 0.3756 - val_accuracy: 0.8918\n",
      "Epoch 92/100\n",
      "1500/1500 [==============================] - 13s 9ms/step - loss: 0.0691 - accuracy: 0.9775 - val_loss: 0.3691 - val_accuracy: 0.8935\n",
      "Epoch 93/100\n",
      "1500/1500 [==============================] - 13s 9ms/step - loss: 0.0690 - accuracy: 0.9783 - val_loss: 0.3715 - val_accuracy: 0.8927\n",
      "Epoch 94/100\n",
      "1500/1500 [==============================] - 13s 9ms/step - loss: 0.0647 - accuracy: 0.9788 - val_loss: 0.3742 - val_accuracy: 0.8936\n",
      "Epoch 95/100\n",
      "1500/1500 [==============================] - 13s 9ms/step - loss: 0.0640 - accuracy: 0.9791 - val_loss: 0.3698 - val_accuracy: 0.8948\n",
      "Epoch 96/100\n",
      "1500/1500 [==============================] - 13s 9ms/step - loss: 0.0611 - accuracy: 0.9805 - val_loss: 0.3882 - val_accuracy: 0.8919\n",
      "Epoch 97/100\n",
      "1500/1500 [==============================] - 13s 9ms/step - loss: 0.0613 - accuracy: 0.9800 - val_loss: 0.3849 - val_accuracy: 0.8946\n",
      "Epoch 98/100\n",
      "1500/1500 [==============================] - 13s 9ms/step - loss: 0.0609 - accuracy: 0.9801 - val_loss: 0.3773 - val_accuracy: 0.8942\n",
      "Epoch 99/100\n",
      "1500/1500 [==============================] - 13s 9ms/step - loss: 0.0595 - accuracy: 0.9806 - val_loss: 0.4286 - val_accuracy: 0.8863\n",
      "Epoch 100/100\n",
      "1500/1500 [==============================] - 13s 9ms/step - loss: 0.0583 - accuracy: 0.9812 - val_loss: 0.3860 - val_accuracy: 0.8924\n",
      "313/313 [==============================] - 2s 5ms/step - loss: 0.4082 - accuracy: 0.8900\n"
     ]
    },
    {
     "data": {
      "text/plain": [
       "[0.4081532061100006, 0.8899999856948853]"
      ]
     },
     "execution_count": 31,
     "metadata": {},
     "output_type": "execute_result"
    }
   ],
   "source": [
    "model_best = Sequential()\n",
    "model_best.add(Dense(500, input_dim=784, activation=\"relu\"))\n",
    "model_best.add(Dense(1000, input_dim=784, activation=\"relu\"))\n",
    "model_best.add(Dense(10, activation=\"softmax\"))\n",
    "\n",
    "model_best.compile(loss=\"categorical_crossentropy\", \n",
    "              optimizer=\"SGD\", \n",
    "              metrics=[\"accuracy\"])\n",
    "\n",
    "history = model_best.fit(x_train, y_train, \n",
    "                    batch_size=32, \n",
    "                    epochs=100,\n",
    "                    validation_split=0.2,\n",
    "                    verbose=1)\n",
    "\n",
    "model_best.evaluate(x_test, y_test, verbose=1)"
   ]
  },
  {
   "cell_type": "code",
   "execution_count": 42,
   "id": "d15fd1e3",
   "metadata": {},
   "outputs": [
    {
     "name": "stdout",
     "output_type": "stream",
     "text": [
      "Model: \"sequential_1\"\n",
      "_________________________________________________________________\n",
      " Layer (type)                Output Shape              Param #   \n",
      "=================================================================\n",
      " dense_2 (Dense)             (None, 500)               392500    \n",
      "                                                                 \n",
      " dense_3 (Dense)             (None, 1000)              501000    \n",
      "                                                                 \n",
      " dense_4 (Dense)             (None, 10)                10010     \n",
      "                                                                 \n",
      "=================================================================\n",
      "Total params: 903,510\n",
      "Trainable params: 903,510\n",
      "Non-trainable params: 0\n",
      "_________________________________________________________________\n"
     ]
    }
   ],
   "source": [
    "model_best.summary()"
   ]
  },
  {
   "cell_type": "code",
   "execution_count": 32,
   "id": "6949225c",
   "metadata": {},
   "outputs": [
    {
     "name": "stdout",
     "output_type": "stream",
     "text": [
      "313/313 [==============================] - 2s 5ms/step - loss: 0.4082 - accuracy: 0.8900\n"
     ]
    },
    {
     "data": {
      "text/plain": [
       "[0.4081532061100006, 0.8899999856948853]"
      ]
     },
     "execution_count": 32,
     "metadata": {},
     "output_type": "execute_result"
    }
   ],
   "source": [
    "model_best.evaluate(x_test, y_test, verbose=1)"
   ]
  },
  {
   "cell_type": "code",
   "execution_count": 33,
   "id": "dc69c911",
   "metadata": {},
   "outputs": [
    {
     "data": {
      "text/plain": [
       "<matplotlib.legend.Legend at 0x11f2fad53d0>"
      ]
     },
     "execution_count": 33,
     "metadata": {},
     "output_type": "execute_result"
    },
    {
     "data": {
      "image/png": "[encoded data removed]",
      "text/plain": [
       "<Figure size 432x288 with 1 Axes>"
      ]
     },
     "metadata": {},
     "output_type": "display_data"
    }
   ],
   "source": [
    "# строим графики потерь и точности\n",
    "N = np.arange(0, 100)\n",
    "plt.style.use(\"ggplot\")\n",
    "plt.figure()\n",
    "plt.plot(N, history.history[\"loss\"], label=\"train_loss\")\n",
    "plt.plot(N, history.history[\"val_loss\"], label=\"val_loss\")\n",
    "#plt.plot(N, history.history[\"accuracy\"], label=\"train_acc\")\n",
    "#plt.plot(N, history.history[\"val_accuracy\"], label=\"val_acc\")\n",
    "plt.title(\"Training and Validation Loss  (Simple NN)\")\n",
    "plt.xlabel(\"Epoch #\")\n",
    "plt.ylabel(\"Loss/Accuracy\")\n",
    "plt.legend()\n",
    "#plt.savefig(args[\"plot\"])"
   ]
  },
  {
   "cell_type": "code",
   "execution_count": 38,
   "id": "86b7bb11",
   "metadata": {},
   "outputs": [
    {
     "data": {
      "text/plain": [
       "<matplotlib.legend.Legend at 0x11f2fad7400>"
      ]
     },
     "execution_count": 38,
     "metadata": {},
     "output_type": "execute_result"
    },
    {
     "data": {
      "image/png": "[encoded data removed]",
      "text/plain": [
       "<Figure size 432x288 with 1 Axes>"
      ]
     },
     "metadata": {},
     "output_type": "display_data"
    }
   ],
   "source": [
    "# строим графики потерь и точности\n",
    "N = np.arange(0, 100)\n",
    "plt.style.use(\"ggplot\")\n",
    "plt.figure()\n",
    "#plt.plot(N, history.history[\"loss\"], label=\"train_loss\")\n",
    "#plt.plot(N, history.history[\"val_loss\"], label=\"val_loss\")\n",
    "plt.plot(N, history.history[\"accuracy\"], label=\"train_acc\")\n",
    "plt.plot(N, history.history[\"val_accuracy\"], label=\"val_acc\")\n",
    "plt.title(\"Training and Validation Loss  (Simple NN)\")\n",
    "plt.xlabel(\"Epoch #\")\n",
    "plt.ylabel(\"Loss/Accuracy\")\n",
    "plt.legend()\n",
    "#plt.savefig(args[\"plot\"])"
   ]
  },
  {
   "cell_type": "markdown",
   "id": "c72c2c46",
   "metadata": {},
   "source": [
    "Видим, что ошибка на проверочном наборе начинает расти после 40 эпохи, это значит что модель переобучается."
   ]
  },
  {
   "cell_type": "markdown",
   "id": "ca2b05d1",
   "metadata": {},
   "source": [
    "# 3 внутренних слоя"
   ]
  },
  {
   "cell_type": "markdown",
   "id": "4095d8a1",
   "metadata": {},
   "source": [
    "### 500 и 300 и 100\n",
    "---"
   ]
  },
  {
   "cell_type": "markdown",
   "id": "e4e1b3b8",
   "metadata": {},
   "source": [
    "### 100 и 300 и 500\n",
    "---"
   ]
  },
  {
   "cell_type": "markdown",
   "id": "513b2126",
   "metadata": {},
   "source": [
    "### 500 и 500 и 500"
   ]
  },
  {
   "cell_type": "code",
   "execution_count": 51,
   "id": "ded2fd98",
   "metadata": {},
   "outputs": [],
   "source": [
    "model3layer = Sequential()\n",
    "model3layer.add(Dense(500, input_dim=784, activation=\"relu\"))\n",
    "model3layer.add(Dense(500, activation=\"relu\"))\n",
    "model3layer.add(Dense(500, activation=\"relu\"))\n",
    "model3layer.add(Dense(10, activation=\"softmax\"))"
   ]
  },
  {
   "cell_type": "code",
   "execution_count": 52,
   "id": "9310e504",
   "metadata": {},
   "outputs": [],
   "source": [
    "model3layer.compile(loss=\"categorical_crossentropy\", \n",
    "              optimizer=\"SGD\", \n",
    "              metrics=[\"accuracy\"])"
   ]
  },
  {
   "cell_type": "code",
   "execution_count": 53,
   "id": "91cc0215",
   "metadata": {},
   "outputs": [
    {
     "name": "stdout",
     "output_type": "stream",
     "text": [
      "Model: \"sequential_3\"\n",
      "_________________________________________________________________\n",
      " Layer (type)                Output Shape              Param #   \n",
      "=================================================================\n",
      " dense_9 (Dense)             (None, 500)               392500    \n",
      "                                                                 \n",
      " dense_10 (Dense)            (None, 500)               250500    \n",
      "                                                                 \n",
      " dense_11 (Dense)            (None, 500)               250500    \n",
      "                                                                 \n",
      " dense_12 (Dense)            (None, 10)                5010      \n",
      "                                                                 \n",
      "=================================================================\n",
      "Total params: 898,510\n",
      "Trainable params: 898,510\n",
      "Non-trainable params: 0\n",
      "_________________________________________________________________\n"
     ]
    }
   ],
   "source": [
    "model3layer.summary()"
   ]
  },
  {
   "cell_type": "code",
   "execution_count": 54,
   "id": "15337539",
   "metadata": {
    "scrolled": true
   },
   "outputs": [
    {
     "name": "stdout",
     "output_type": "stream",
     "text": [
      "Epoch 1/100\n",
      "1500/1500 [==============================] - 29s 18ms/step - loss: 0.7339 - accuracy: 0.7573 - val_loss: 0.5734 - val_accuracy: 0.7878\n",
      "Epoch 2/100\n",
      "1500/1500 [==============================] - 27s 18ms/step - loss: 0.4812 - accuracy: 0.8315 - val_loss: 0.4958 - val_accuracy: 0.8192\n",
      "Epoch 3/100\n",
      "1500/1500 [==============================] - 27s 18ms/step - loss: 0.4316 - accuracy: 0.8488 - val_loss: 0.4240 - val_accuracy: 0.8533\n",
      "Epoch 4/100\n",
      "1500/1500 [==============================] - 27s 18ms/step - loss: 0.4008 - accuracy: 0.8595 - val_loss: 0.3963 - val_accuracy: 0.8636\n",
      "Epoch 5/100\n",
      "1500/1500 [==============================] - 27s 18ms/step - loss: 0.3797 - accuracy: 0.8658 - val_loss: 0.3814 - val_accuracy: 0.8641\n",
      "Epoch 6/100\n",
      "1500/1500 [==============================] - 27s 18ms/step - loss: 0.3614 - accuracy: 0.8727 - val_loss: 0.3695 - val_accuracy: 0.8706\n",
      "Epoch 7/100\n",
      "1500/1500 [==============================] - 28s 19ms/step - loss: 0.3473 - accuracy: 0.8759 - val_loss: 0.3671 - val_accuracy: 0.8710\n",
      "Epoch 8/100\n",
      "1500/1500 [==============================] - 29s 19ms/step - loss: 0.3338 - accuracy: 0.8803 - val_loss: 0.3587 - val_accuracy: 0.8702\n",
      "Epoch 9/100\n",
      "1500/1500 [==============================] - 26s 17ms/step - loss: 0.3225 - accuracy: 0.8828 - val_loss: 0.3425 - val_accuracy: 0.8754\n",
      "Epoch 10/100\n",
      "1500/1500 [==============================] - 26s 17ms/step - loss: 0.3123 - accuracy: 0.8876 - val_loss: 0.3377 - val_accuracy: 0.8791\n",
      "Epoch 11/100\n",
      "1500/1500 [==============================] - 25s 17ms/step - loss: 0.3031 - accuracy: 0.8890 - val_loss: 0.3556 - val_accuracy: 0.8712\n",
      "Epoch 12/100\n",
      "1500/1500 [==============================] - 26s 17ms/step - loss: 0.2941 - accuracy: 0.8936 - val_loss: 0.3499 - val_accuracy: 0.8726\n",
      "Epoch 13/100\n",
      "1500/1500 [==============================] - 25s 17ms/step - loss: 0.2860 - accuracy: 0.8963 - val_loss: 0.3492 - val_accuracy: 0.8712\n",
      "Epoch 14/100\n",
      "1500/1500 [==============================] - 26s 17ms/step - loss: 0.2783 - accuracy: 0.8997 - val_loss: 0.3298 - val_accuracy: 0.8821\n",
      "Epoch 15/100\n",
      "1500/1500 [==============================] - 26s 17ms/step - loss: 0.2710 - accuracy: 0.9013 - val_loss: 0.3286 - val_accuracy: 0.8823\n",
      "Epoch 16/100\n",
      "1500/1500 [==============================] - 25s 17ms/step - loss: 0.2640 - accuracy: 0.9045 - val_loss: 0.3282 - val_accuracy: 0.8813\n",
      "Epoch 17/100\n",
      "1500/1500 [==============================] - 25s 17ms/step - loss: 0.2574 - accuracy: 0.9058 - val_loss: 0.3223 - val_accuracy: 0.8838\n",
      "Epoch 18/100\n",
      "1500/1500 [==============================] - 25s 17ms/step - loss: 0.2506 - accuracy: 0.9083 - val_loss: 0.3112 - val_accuracy: 0.8854\n",
      "Epoch 19/100\n",
      "1500/1500 [==============================] - 26s 17ms/step - loss: 0.2445 - accuracy: 0.9109 - val_loss: 0.3148 - val_accuracy: 0.8873\n",
      "Epoch 20/100\n",
      "1500/1500 [==============================] - 25s 17ms/step - loss: 0.2383 - accuracy: 0.9124 - val_loss: 0.3083 - val_accuracy: 0.8892\n",
      "Epoch 21/100\n",
      "1500/1500 [==============================] - 26s 17ms/step - loss: 0.2323 - accuracy: 0.9157 - val_loss: 0.3119 - val_accuracy: 0.8860\n",
      "Epoch 22/100\n",
      "1500/1500 [==============================] - 25s 17ms/step - loss: 0.2280 - accuracy: 0.9177 - val_loss: 0.3262 - val_accuracy: 0.8804\n",
      "Epoch 23/100\n",
      "1500/1500 [==============================] - 25s 17ms/step - loss: 0.2214 - accuracy: 0.9195 - val_loss: 0.3128 - val_accuracy: 0.8881\n",
      "Epoch 24/100\n",
      "1500/1500 [==============================] - 25s 17ms/step - loss: 0.2165 - accuracy: 0.9216 - val_loss: 0.3188 - val_accuracy: 0.8831\n",
      "Epoch 25/100\n",
      "1500/1500 [==============================] - 25s 17ms/step - loss: 0.2103 - accuracy: 0.9233 - val_loss: 0.3026 - val_accuracy: 0.8894\n",
      "Epoch 26/100\n",
      "1500/1500 [==============================] - 25s 17ms/step - loss: 0.2060 - accuracy: 0.9249 - val_loss: 0.3102 - val_accuracy: 0.8892\n",
      "Epoch 27/100\n",
      "1500/1500 [==============================] - 26s 17ms/step - loss: 0.2017 - accuracy: 0.9269 - val_loss: 0.3015 - val_accuracy: 0.8911\n",
      "Epoch 28/100\n",
      "1500/1500 [==============================] - 25s 17ms/step - loss: 0.1958 - accuracy: 0.9291 - val_loss: 0.3057 - val_accuracy: 0.8912\n",
      "Epoch 29/100\n",
      "1500/1500 [==============================] - 25s 17ms/step - loss: 0.1910 - accuracy: 0.9313 - val_loss: 0.2974 - val_accuracy: 0.8931\n",
      "Epoch 30/100\n",
      "1500/1500 [==============================] - 27s 18ms/step - loss: 0.1869 - accuracy: 0.9317 - val_loss: 0.3189 - val_accuracy: 0.8892\n",
      "Epoch 31/100\n",
      "1500/1500 [==============================] - 26s 17ms/step - loss: 0.1830 - accuracy: 0.9325 - val_loss: 0.3172 - val_accuracy: 0.8885\n",
      "Epoch 32/100\n",
      "1500/1500 [==============================] - 27s 18ms/step - loss: 0.1769 - accuracy: 0.9364 - val_loss: 0.3110 - val_accuracy: 0.8919\n",
      "Epoch 33/100\n",
      "1500/1500 [==============================] - 26s 17ms/step - loss: 0.1731 - accuracy: 0.9381 - val_loss: 0.3051 - val_accuracy: 0.8914\n",
      "Epoch 34/100\n",
      "1500/1500 [==============================] - 26s 17ms/step - loss: 0.1702 - accuracy: 0.9383 - val_loss: 0.3126 - val_accuracy: 0.8928\n",
      "Epoch 35/100\n",
      "1500/1500 [==============================] - 26s 17ms/step - loss: 0.1650 - accuracy: 0.9416 - val_loss: 0.3024 - val_accuracy: 0.8924\n",
      "Epoch 36/100\n",
      "1500/1500 [==============================] - 26s 17ms/step - loss: 0.1609 - accuracy: 0.9430 - val_loss: 0.3067 - val_accuracy: 0.8907\n",
      "Epoch 37/100\n",
      "1500/1500 [==============================] - 26s 17ms/step - loss: 0.1574 - accuracy: 0.9429 - val_loss: 0.3181 - val_accuracy: 0.8912\n",
      "Epoch 38/100\n",
      "1500/1500 [==============================] - 25s 17ms/step - loss: 0.1529 - accuracy: 0.9449 - val_loss: 0.3446 - val_accuracy: 0.8892\n",
      "Epoch 39/100\n",
      "1500/1500 [==============================] - 26s 17ms/step - loss: 0.1492 - accuracy: 0.9463 - val_loss: 0.3152 - val_accuracy: 0.8955\n",
      "Epoch 40/100\n",
      "1500/1500 [==============================] - 28s 19ms/step - loss: 0.1442 - accuracy: 0.9487 - val_loss: 0.3247 - val_accuracy: 0.8898\n",
      "Epoch 41/100\n",
      "1500/1500 [==============================] - 27s 18ms/step - loss: 0.1410 - accuracy: 0.9498 - val_loss: 0.3305 - val_accuracy: 0.8883\n",
      "Epoch 42/100\n",
      "1500/1500 [==============================] - 27s 18ms/step - loss: 0.1374 - accuracy: 0.9500 - val_loss: 0.3315 - val_accuracy: 0.8873\n",
      "Epoch 43/100\n",
      "1500/1500 [==============================] - 27s 18ms/step - loss: 0.1335 - accuracy: 0.9525 - val_loss: 0.3511 - val_accuracy: 0.8830\n",
      "Epoch 44/100\n",
      "1500/1500 [==============================] - 27s 18ms/step - loss: 0.1319 - accuracy: 0.9521 - val_loss: 0.3394 - val_accuracy: 0.8908\n",
      "Epoch 45/100\n",
      "1500/1500 [==============================] - 27s 18ms/step - loss: 0.1262 - accuracy: 0.9548 - val_loss: 0.3148 - val_accuracy: 0.8971\n",
      "Epoch 46/100\n",
      "1500/1500 [==============================] - 33s 22ms/step - loss: 0.1241 - accuracy: 0.9556 - val_loss: 0.3547 - val_accuracy: 0.8884\n",
      "Epoch 47/100\n",
      "1500/1500 [==============================] - 28s 19ms/step - loss: 0.1206 - accuracy: 0.9572 - val_loss: 0.3246 - val_accuracy: 0.8932\n",
      "Epoch 48/100\n",
      "1500/1500 [==============================] - 27s 18ms/step - loss: 0.1168 - accuracy: 0.9583 - val_loss: 0.3365 - val_accuracy: 0.8952\n",
      "Epoch 49/100\n",
      "1500/1500 [==============================] - 28s 19ms/step - loss: 0.1147 - accuracy: 0.9590 - val_loss: 0.3394 - val_accuracy: 0.8930\n",
      "Epoch 50/100\n",
      "1500/1500 [==============================] - 28s 19ms/step - loss: 0.1106 - accuracy: 0.9613 - val_loss: 0.3405 - val_accuracy: 0.8914\n",
      "Epoch 51/100\n",
      "1500/1500 [==============================] - 28s 19ms/step - loss: 0.1067 - accuracy: 0.9621 - val_loss: 0.3320 - val_accuracy: 0.8904\n",
      "Epoch 52/100\n",
      "1500/1500 [==============================] - 29s 19ms/step - loss: 0.1048 - accuracy: 0.9632 - val_loss: 0.3261 - val_accuracy: 0.8944\n",
      "Epoch 53/100\n",
      "1500/1500 [==============================] - 27s 18ms/step - loss: 0.1023 - accuracy: 0.9642 - val_loss: 0.3478 - val_accuracy: 0.8922\n",
      "Epoch 54/100\n",
      "1500/1500 [==============================] - 27s 18ms/step - loss: 0.1000 - accuracy: 0.9648 - val_loss: 0.3537 - val_accuracy: 0.8934\n",
      "Epoch 55/100\n",
      "1500/1500 [==============================] - 28s 18ms/step - loss: 0.0968 - accuracy: 0.9649 - val_loss: 0.3394 - val_accuracy: 0.8935\n",
      "Epoch 56/100\n",
      "1500/1500 [==============================] - 31s 20ms/step - loss: 0.0956 - accuracy: 0.9659 - val_loss: 0.3481 - val_accuracy: 0.8937\n",
      "Epoch 57/100\n",
      "1500/1500 [==============================] - 28s 19ms/step - loss: 0.0900 - accuracy: 0.9686 - val_loss: 0.3457 - val_accuracy: 0.8941\n",
      "Epoch 58/100\n",
      "1500/1500 [==============================] - 28s 19ms/step - loss: 0.0879 - accuracy: 0.9692 - val_loss: 0.3487 - val_accuracy: 0.8963\n",
      "Epoch 59/100\n",
      "1500/1500 [==============================] - 28s 19ms/step - loss: 0.0848 - accuracy: 0.9700 - val_loss: 0.3620 - val_accuracy: 0.8942\n",
      "Epoch 60/100\n",
      "1500/1500 [==============================] - 29s 19ms/step - loss: 0.0821 - accuracy: 0.9714 - val_loss: 0.3547 - val_accuracy: 0.8933\n",
      "Epoch 61/100\n",
      "1500/1500 [==============================] - 28s 19ms/step - loss: 0.0808 - accuracy: 0.9719 - val_loss: 0.3604 - val_accuracy: 0.8948\n",
      "Epoch 62/100\n",
      "1500/1500 [==============================] - 26s 18ms/step - loss: 0.0788 - accuracy: 0.9728 - val_loss: 0.3615 - val_accuracy: 0.8923\n",
      "Epoch 63/100\n",
      "1500/1500 [==============================] - 28s 19ms/step - loss: 0.0757 - accuracy: 0.9734 - val_loss: 0.3911 - val_accuracy: 0.8891\n",
      "Epoch 64/100\n",
      "1500/1500 [==============================] - 27s 18ms/step - loss: 0.0736 - accuracy: 0.9739 - val_loss: 0.3879 - val_accuracy: 0.8894\n",
      "Epoch 65/100\n",
      "1500/1500 [==============================] - 28s 19ms/step - loss: 0.0720 - accuracy: 0.9749 - val_loss: 0.3880 - val_accuracy: 0.8893\n",
      "Epoch 66/100\n",
      "1500/1500 [==============================] - 27s 18ms/step - loss: 0.0692 - accuracy: 0.9762 - val_loss: 0.3745 - val_accuracy: 0.8920\n",
      "Epoch 67/100\n",
      "1500/1500 [==============================] - 28s 18ms/step - loss: 0.0676 - accuracy: 0.9765 - val_loss: 0.3783 - val_accuracy: 0.8918\n",
      "Epoch 68/100\n",
      "1500/1500 [==============================] - 28s 18ms/step - loss: 0.0649 - accuracy: 0.9780 - val_loss: 0.3928 - val_accuracy: 0.8942\n",
      "Epoch 69/100\n",
      "1500/1500 [==============================] - 29s 19ms/step - loss: 0.0632 - accuracy: 0.9784 - val_loss: 0.4257 - val_accuracy: 0.8882\n",
      "Epoch 70/100\n",
      "1500/1500 [==============================] - 27s 18ms/step - loss: 0.0627 - accuracy: 0.9785 - val_loss: 0.3940 - val_accuracy: 0.8932\n",
      "Epoch 71/100\n",
      "1500/1500 [==============================] - 28s 18ms/step - loss: 0.0600 - accuracy: 0.9793 - val_loss: 0.4169 - val_accuracy: 0.8887\n",
      "Epoch 72/100\n",
      "1500/1500 [==============================] - 28s 18ms/step - loss: 0.0589 - accuracy: 0.9804 - val_loss: 0.3943 - val_accuracy: 0.8923\n",
      "Epoch 73/100\n",
      "1500/1500 [==============================] - 28s 18ms/step - loss: 0.0577 - accuracy: 0.9801 - val_loss: 0.4012 - val_accuracy: 0.8929\n",
      "Epoch 74/100\n",
      "1500/1500 [==============================] - 27s 18ms/step - loss: 0.0558 - accuracy: 0.9809 - val_loss: 0.4021 - val_accuracy: 0.8913\n",
      "Epoch 75/100\n",
      "1500/1500 [==============================] - 28s 19ms/step - loss: 0.0520 - accuracy: 0.9828 - val_loss: 0.4018 - val_accuracy: 0.8954\n",
      "Epoch 76/100\n",
      "1500/1500 [==============================] - 28s 19ms/step - loss: 0.0495 - accuracy: 0.9836 - val_loss: 0.4366 - val_accuracy: 0.8885\n",
      "Epoch 77/100\n",
      "1500/1500 [==============================] - 29s 19ms/step - loss: 0.0490 - accuracy: 0.9831 - val_loss: 0.4412 - val_accuracy: 0.8941\n",
      "Epoch 78/100\n",
      "1500/1500 [==============================] - 29s 19ms/step - loss: 0.0506 - accuracy: 0.9830 - val_loss: 0.4196 - val_accuracy: 0.8945\n",
      "Epoch 79/100\n",
      "1500/1500 [==============================] - 27s 18ms/step - loss: 0.0479 - accuracy: 0.9834 - val_loss: 0.4383 - val_accuracy: 0.8921\n",
      "Epoch 80/100\n",
      "1500/1500 [==============================] - 30s 20ms/step - loss: 0.0444 - accuracy: 0.9851 - val_loss: 0.4241 - val_accuracy: 0.8943\n",
      "Epoch 81/100\n",
      "1500/1500 [==============================] - 28s 19ms/step - loss: 0.0433 - accuracy: 0.9850 - val_loss: 0.4348 - val_accuracy: 0.8928\n",
      "Epoch 82/100\n",
      "1500/1500 [==============================] - 28s 19ms/step - loss: 0.0405 - accuracy: 0.9876 - val_loss: 0.4416 - val_accuracy: 0.8878\n",
      "Epoch 83/100\n",
      "1500/1500 [==============================] - 28s 19ms/step - loss: 0.0409 - accuracy: 0.9862 - val_loss: 0.4334 - val_accuracy: 0.8935\n",
      "Epoch 84/100\n",
      "1500/1500 [==============================] - 27s 18ms/step - loss: 0.0410 - accuracy: 0.9864 - val_loss: 0.4681 - val_accuracy: 0.8880\n",
      "Epoch 85/100\n",
      "1500/1500 [==============================] - 28s 19ms/step - loss: 0.0367 - accuracy: 0.9881 - val_loss: 0.4417 - val_accuracy: 0.8962\n",
      "Epoch 86/100\n",
      "1500/1500 [==============================] - 28s 18ms/step - loss: 0.0380 - accuracy: 0.9878 - val_loss: 0.4443 - val_accuracy: 0.8923\n",
      "Epoch 87/100\n",
      "1500/1500 [==============================] - 27s 18ms/step - loss: 0.0364 - accuracy: 0.9885 - val_loss: 0.4597 - val_accuracy: 0.8898\n",
      "Epoch 88/100\n",
      "1500/1500 [==============================] - 28s 19ms/step - loss: 0.0354 - accuracy: 0.9883 - val_loss: 0.4475 - val_accuracy: 0.8941\n",
      "Epoch 89/100\n",
      "1500/1500 [==============================] - 28s 19ms/step - loss: 0.0322 - accuracy: 0.9902 - val_loss: 0.4687 - val_accuracy: 0.8932\n",
      "Epoch 90/100\n",
      "1500/1500 [==============================] - 27s 18ms/step - loss: 0.0303 - accuracy: 0.9904 - val_loss: 0.4675 - val_accuracy: 0.8950\n",
      "Epoch 91/100\n",
      "1500/1500 [==============================] - 27s 18ms/step - loss: 0.0313 - accuracy: 0.9905 - val_loss: 0.4624 - val_accuracy: 0.8966\n",
      "Epoch 92/100\n",
      "1500/1500 [==============================] - 29s 19ms/step - loss: 0.0294 - accuracy: 0.9909 - val_loss: 0.4917 - val_accuracy: 0.8899\n",
      "Epoch 93/100\n",
      "1500/1500 [==============================] - 28s 19ms/step - loss: 0.0315 - accuracy: 0.9897 - val_loss: 0.4754 - val_accuracy: 0.8938\n",
      "Epoch 94/100\n",
      "1500/1500 [==============================] - 28s 19ms/step - loss: 0.0288 - accuracy: 0.9905 - val_loss: 0.5068 - val_accuracy: 0.8904\n",
      "Epoch 95/100\n",
      "1500/1500 [==============================] - 28s 18ms/step - loss: 0.0282 - accuracy: 0.9912 - val_loss: 0.4708 - val_accuracy: 0.8966\n",
      "Epoch 96/100\n",
      "1500/1500 [==============================] - 28s 19ms/step - loss: 0.0247 - accuracy: 0.9924 - val_loss: 0.5562 - val_accuracy: 0.8836\n",
      "Epoch 97/100\n",
      "1500/1500 [==============================] - 28s 18ms/step - loss: 0.0253 - accuracy: 0.9926 - val_loss: 0.5039 - val_accuracy: 0.8907\n",
      "Epoch 98/100\n",
      "1500/1500 [==============================] - 29s 19ms/step - loss: 0.0234 - accuracy: 0.9931 - val_loss: 0.5354 - val_accuracy: 0.8888\n",
      "Epoch 99/100\n",
      "1500/1500 [==============================] - 29s 19ms/step - loss: 0.0238 - accuracy: 0.9925 - val_loss: 0.5172 - val_accuracy: 0.8889\n",
      "Epoch 100/100\n",
      "1500/1500 [==============================] - 27s 18ms/step - loss: 0.0202 - accuracy: 0.9939 - val_loss: 0.4992 - val_accuracy: 0.8935\n"
     ]
    }
   ],
   "source": [
    "history = model3layer.fit(x_train, y_train, \n",
    "                    batch_size=32, \n",
    "                    epochs=100,\n",
    "                    validation_split=0.2,\n",
    "                    verbose=1)"
   ]
  },
  {
   "cell_type": "code",
   "execution_count": 55,
   "id": "e578d2f7",
   "metadata": {},
   "outputs": [
    {
     "data": {
      "text/plain": [
       "<matplotlib.legend.Legend at 0x11f30333c40>"
      ]
     },
     "execution_count": 55,
     "metadata": {},
     "output_type": "execute_result"
    },
    {
     "data": {
      "image/png": "[encoded data removed]",
      "text/plain": [
       "<Figure size 432x288 with 1 Axes>"
      ]
     },
     "metadata": {},
     "output_type": "display_data"
    }
   ],
   "source": [
    "# строим графики потерь и точности\n",
    "N = np.arange(0, 100)\n",
    "plt.style.use(\"ggplot\")\n",
    "plt.figure()\n",
    "plt.plot(N, history.history[\"loss\"], label=\"train_loss\")\n",
    "plt.plot(N, history.history[\"val_loss\"], label=\"val_loss\")\n",
    "#plt.plot(N, history.history[\"accuracy\"], label=\"train_acc\")\n",
    "#plt.plot(N, history.history[\"val_accuracy\"], label=\"val_acc\")\n",
    "plt.title(\"Training and Validation Loss  (Simple NN)\")\n",
    "plt.xlabel(\"Epoch #\")\n",
    "plt.ylabel(\"Loss/Accuracy\")\n",
    "plt.legend()\n",
    "#plt.savefig(args[\"plot\"])"
   ]
  },
  {
   "cell_type": "code",
   "execution_count": 56,
   "id": "9dd76606",
   "metadata": {},
   "outputs": [
    {
     "data": {
      "text/plain": [
       "<matplotlib.legend.Legend at 0x11f30202a90>"
      ]
     },
     "execution_count": 56,
     "metadata": {},
     "output_type": "execute_result"
    },
    {
     "data": {
      "image/png": "[encoded data removed]",
      "text/plain": [
       "<Figure size 432x288 with 1 Axes>"
      ]
     },
     "metadata": {},
     "output_type": "display_data"
    }
   ],
   "source": [
    "# строим графики потерь и точности\n",
    "N = np.arange(0, 100)\n",
    "plt.style.use(\"ggplot\")\n",
    "plt.figure()\n",
    "#plt.plot(N, history.history[\"loss\"], label=\"train_loss\")\n",
    "#plt.plot(N, history.history[\"val_loss\"], label=\"val_loss\")\n",
    "plt.plot(N, history.history[\"accuracy\"], label=\"train_acc\")\n",
    "plt.plot(N, history.history[\"val_accuracy\"], label=\"val_acc\")\n",
    "plt.title(\"Training and Validation Loss  (Simple NN)\")\n",
    "plt.xlabel(\"Epoch #\")\n",
    "plt.ylabel(\"Loss/Accuracy\")\n",
    "plt.legend()\n",
    "#plt.savefig(args[\"plot\"])"
   ]
  },
  {
   "cell_type": "markdown",
   "id": "399e77af",
   "metadata": {},
   "source": [
    "# CNN - СВЕРТОЧНАЯ НЕЙРОННАЯ СЕТЬ <a class=\"anchor\" id=\"4\"></a>"
   ]
  },
  {
   "cell_type": "code",
   "execution_count": 4,
   "id": "607d1f62",
   "metadata": {},
   "outputs": [],
   "source": [
    "import numpy as np\n",
    "from tensorflow import keras\n",
    "from tensorflow.keras import layers\n",
    "from keras.layers import Dense, Conv2D, Flatten, MaxPooling2D"
   ]
  },
  {
   "cell_type": "markdown",
   "id": "2dda6d24",
   "metadata": {},
   "source": [
    "# 1 сверточный слой"
   ]
  },
  {
   "cell_type": "markdown",
   "id": "4a356f74",
   "metadata": {},
   "source": [
    "Итак, в нашей задаче каждый объект представлен в виде изображения 28х28 пикселей в градациях серого:"
   ]
  },
  {
   "cell_type": "code",
   "execution_count": 5,
   "id": "74997164",
   "metadata": {},
   "outputs": [],
   "source": [
    "(x_train, y_train), (x_test, y_test) = fashion_mnist.load_data()"
   ]
  },
  {
   "cell_type": "code",
   "execution_count": 6,
   "id": "760d060e",
   "metadata": {},
   "outputs": [],
   "source": [
    "x_train = x_train / 255\n",
    "x_test = x_test / 255"
   ]
  },
  {
   "cell_type": "code",
   "execution_count": 7,
   "id": "5a19b492",
   "metadata": {},
   "outputs": [
    {
     "name": "stdout",
     "output_type": "stream",
     "text": [
      "x_train shape: (60000, 28, 28, 1)\n",
      "60000 train samples\n",
      "10000 test samples\n"
     ]
    }
   ],
   "source": [
    "# Убедимся, что наши данные имеют следующий вид (28, 28, 1)\n",
    "x_train = np.expand_dims(x_train, -1)\n",
    "x_test = np.expand_dims(x_test, -1)\n",
    "print(\"x_train shape:\", x_train.shape)\n",
    "print(x_train.shape[0], \"train samples\")\n",
    "print(x_test.shape[0], \"test samples\")"
   ]
  },
  {
   "cell_type": "code",
   "execution_count": 8,
   "id": "4afe8cb1",
   "metadata": {},
   "outputs": [],
   "source": [
    "y_train = utils.to_categorical(y_train, 10)\n",
    "y_test = utils.to_categorical(y_test, 10)"
   ]
  },
  {
   "cell_type": "markdown",
   "id": "1da53f2c",
   "metadata": {},
   "source": [
    "### Создаем модель"
   ]
  },
  {
   "cell_type": "code",
   "execution_count": 9,
   "id": "efc0588a",
   "metadata": {},
   "outputs": [],
   "source": [
    "modelCNN = Sequential()"
   ]
  },
  {
   "cell_type": "markdown",
   "id": "f5290d3c",
   "metadata": {},
   "source": [
    "**Первый сверточный слой** будет сверточный двухмерный (Conv2D)"
   ]
  },
  {
   "cell_type": "code",
   "execution_count": 10,
   "id": "c7a43d07",
   "metadata": {},
   "outputs": [],
   "source": [
    "modelCNN.add(Conv2D(64, kernel_size=3, padding='same', activation='relu', input_shape=(28,28,1)))"
   ]
  },
  {
   "cell_type": "markdown",
   "id": "8845a882",
   "metadata": {},
   "source": [
    "`kernel_size=3` — размер ядра 3х3"
   ]
  },
  {
   "cell_type": "markdown",
   "id": "6197ecb5",
   "metadata": {},
   "source": [
    "`64` это число ядер свертки (сколько признаков будем искать)"
   ]
  },
  {
   "cell_type": "markdown",
   "id": "99defc11",
   "metadata": {},
   "source": [
    "Параметр `padding='same'` означает, что выходная карта признаков на каждом канале должна быть той же размерностью, что и исходное изображение, т.е. 28х28 элементов. Фактически, это означает добавление значений на границах двумерных данных (обычно нулей), чтобы центр ядра фильтра мог размещаться над граничными элементами:"
   ]
  },
  {
   "cell_type": "code",
   "execution_count": 2,
   "id": "25838a40",
   "metadata": {},
   "outputs": [
    {
     "data": {
      "image/png": "[encoded data removed]",
      "text/plain": [
       "<IPython.core.display.Image object>"
      ]
     },
     "execution_count": 2,
     "metadata": {},
     "output_type": "execute_result"
    }
   ],
   "source": [
    "from IPython.display import Image\n",
    "Image(filename='pic2.png')"
   ]
  },
  {
   "cell_type": "markdown",
   "id": "e39fcef7",
   "metadata": {},
   "source": [
    "Добавим в нашу модель операцию (слой) **MaxPooling2D**:"
   ]
  },
  {
   "cell_type": "code",
   "execution_count": 12,
   "id": "69957770",
   "metadata": {},
   "outputs": [],
   "source": [
    "modelCNN.add(MaxPooling2D((2, 2), strides=2))"
   ]
  },
  {
   "cell_type": "markdown",
   "id": "476317cd",
   "metadata": {},
   "source": [
    "Следующий слой в соответствии с концепцией СНС должен укрупнять масштаб полученных признаков. Как мы говорили на предыдущем занятии, для этого чаще всего используется операция MaxPooling.\n",
    "\n",
    "Здесь `pool_size` – размер окна, в котором выбирается максимальное значение; `strides` – шаг сканирования по координатам плоскости; `padding='valid'` – не добавлять нулевых значений на границах (соответственно рамка не смещается за пределы поля признаков); `data_format` – формат входных данных.\n"
   ]
  },
  {
   "cell_type": "code",
   "execution_count": 3,
   "id": "130cafbb",
   "metadata": {},
   "outputs": [
    {
     "data": {
      "image/jpeg": "[encoded data removed]",
      "text/plain": [
       "<IPython.core.display.Image object>"
      ]
     },
     "execution_count": 3,
     "metadata": {},
     "output_type": "execute_result"
    }
   ],
   "source": [
    "Image(filename='maxpool.jpg')"
   ]
  },
  {
   "cell_type": "markdown",
   "id": "7b2caf68",
   "metadata": {},
   "source": [
    "#### Создаем вектор для полносвязной сети"
   ]
  },
  {
   "cell_type": "code",
   "execution_count": 13,
   "id": "d18a1516",
   "metadata": {},
   "outputs": [],
   "source": [
    "modelCNN.add(Flatten())"
   ]
  },
  {
   "cell_type": "markdown",
   "id": "e2a9c2a6",
   "metadata": {},
   "source": [
    "Преобразовываем полученный тензор в единый вектор, подаем его на полносвязную сеть из 128 входных нейронов и 10 нейронов выходного слоя."
   ]
  },
  {
   "cell_type": "markdown",
   "id": "80ff80d9",
   "metadata": {},
   "source": [
    "#### Создаем однослойный перцептрон"
   ]
  },
  {
   "cell_type": "code",
   "execution_count": 14,
   "id": "ca5a627e",
   "metadata": {},
   "outputs": [],
   "source": [
    "modelCNN.add(Dense(128, activation='relu'))"
   ]
  },
  {
   "cell_type": "markdown",
   "id": "60bfa80c",
   "metadata": {},
   "source": [
    "#### Создадим выходной слой"
   ]
  },
  {
   "cell_type": "code",
   "execution_count": 15,
   "id": "a24bd4d9",
   "metadata": {},
   "outputs": [],
   "source": [
    "modelCNN.add(Dense(10, activation='softmax'))"
   ]
  },
  {
   "cell_type": "markdown",
   "id": "f5c11228",
   "metadata": {},
   "source": [
    "---"
   ]
  },
  {
   "cell_type": "markdown",
   "id": "badf3791",
   "metadata": {},
   "source": [
    "Давайте выведем структуру этой сети и посмотрим на число весовых коэффициентов в каждом слое:"
   ]
  },
  {
   "cell_type": "code",
   "execution_count": 16,
   "id": "bd816843",
   "metadata": {},
   "outputs": [
    {
     "name": "stdout",
     "output_type": "stream",
     "text": [
      "Model: \"sequential\"\n",
      "_________________________________________________________________\n",
      " Layer (type)                Output Shape              Param #   \n",
      "=================================================================\n",
      " conv2d (Conv2D)             (None, 28, 28, 64)        640       \n",
      "                                                                 \n",
      " max_pooling2d (MaxPooling2D  (None, 14, 14, 64)       0         \n",
      " )                                                               \n",
      "                                                                 \n",
      " flatten (Flatten)           (None, 12544)             0         \n",
      "                                                                 \n",
      " dense (Dense)               (None, 128)               1605760   \n",
      "                                                                 \n",
      " dense_1 (Dense)             (None, 10)                1290      \n",
      "                                                                 \n",
      "=================================================================\n",
      "Total params: 1,607,690\n",
      "Trainable params: 1,607,690\n",
      "Non-trainable params: 0\n",
      "_________________________________________________________________\n",
      "None\n"
     ]
    }
   ],
   "source": [
    "print(modelCNN.summary())"
   ]
  },
  {
   "cell_type": "markdown",
   "id": "383afe02",
   "metadata": {},
   "source": [
    "### Компиляция"
   ]
  },
  {
   "cell_type": "code",
   "execution_count": 17,
   "id": "990e7c57",
   "metadata": {},
   "outputs": [],
   "source": [
    "# Адам: метод стохастической оптимизации\n",
    "modelCNN.compile(optimizer='adam', loss='categorical_crossentropy', metrics=['accuracy'])"
   ]
  },
  {
   "cell_type": "markdown",
   "id": "853edd3d",
   "metadata": {},
   "source": [
    "### Обучение модели"
   ]
  },
  {
   "cell_type": "code",
   "execution_count": 18,
   "id": "ac58de8e",
   "metadata": {
    "scrolled": true
   },
   "outputs": [
    {
     "name": "stdout",
     "output_type": "stream",
     "text": [
      "Epoch 1/30\n",
      "1500/1500 [==============================] - 49s 32ms/step - loss: 0.3909 - accuracy: 0.8612 - val_loss: 0.2947 - val_accuracy: 0.8938\n",
      "Epoch 2/30\n",
      "1500/1500 [==============================] - 51s 34ms/step - loss: 0.2626 - accuracy: 0.9047 - val_loss: 0.2788 - val_accuracy: 0.8980\n",
      "Epoch 3/30\n",
      "1500/1500 [==============================] - 47s 32ms/step - loss: 0.2174 - accuracy: 0.9205 - val_loss: 0.2451 - val_accuracy: 0.9142\n",
      "Epoch 4/30\n",
      "1500/1500 [==============================] - 42s 28ms/step - loss: 0.1833 - accuracy: 0.9329 - val_loss: 0.2312 - val_accuracy: 0.9157\n",
      "Epoch 5/30\n",
      "1500/1500 [==============================] - 42s 28ms/step - loss: 0.1512 - accuracy: 0.9441 - val_loss: 0.2557 - val_accuracy: 0.9123\n",
      "Epoch 6/30\n",
      "1500/1500 [==============================] - 42s 28ms/step - loss: 0.1271 - accuracy: 0.9529 - val_loss: 0.2524 - val_accuracy: 0.9175\n",
      "Epoch 7/30\n",
      "1500/1500 [==============================] - 43s 28ms/step - loss: 0.1051 - accuracy: 0.9616 - val_loss: 0.2811 - val_accuracy: 0.9113\n",
      "Epoch 8/30\n",
      "1500/1500 [==============================] - 42s 28ms/step - loss: 0.0875 - accuracy: 0.9678 - val_loss: 0.2821 - val_accuracy: 0.9161\n",
      "Epoch 9/30\n",
      "1500/1500 [==============================] - 42s 28ms/step - loss: 0.0737 - accuracy: 0.9742 - val_loss: 0.3267 - val_accuracy: 0.9106\n",
      "Epoch 10/30\n",
      "1500/1500 [==============================] - 43s 29ms/step - loss: 0.0590 - accuracy: 0.9793 - val_loss: 0.3255 - val_accuracy: 0.9168\n",
      "Epoch 11/30\n",
      "1500/1500 [==============================] - 44s 29ms/step - loss: 0.0481 - accuracy: 0.9831 - val_loss: 0.3705 - val_accuracy: 0.9172\n",
      "Epoch 12/30\n",
      "1500/1500 [==============================] - 43s 29ms/step - loss: 0.0431 - accuracy: 0.9846 - val_loss: 0.3779 - val_accuracy: 0.9143\n",
      "Epoch 13/30\n",
      "1500/1500 [==============================] - 43s 29ms/step - loss: 0.0340 - accuracy: 0.9885 - val_loss: 0.4026 - val_accuracy: 0.9168\n",
      "Epoch 14/30\n",
      "1500/1500 [==============================] - 45s 30ms/step - loss: 0.0321 - accuracy: 0.9891 - val_loss: 0.4388 - val_accuracy: 0.9109\n",
      "Epoch 15/30\n",
      "1500/1500 [==============================] - 45s 30ms/step - loss: 0.0287 - accuracy: 0.9902 - val_loss: 0.4146 - val_accuracy: 0.9194\n",
      "Epoch 16/30\n",
      "1500/1500 [==============================] - 44s 29ms/step - loss: 0.0246 - accuracy: 0.9922 - val_loss: 0.4587 - val_accuracy: 0.9128\n",
      "Epoch 17/30\n",
      "1500/1500 [==============================] - 43s 29ms/step - loss: 0.0229 - accuracy: 0.9923 - val_loss: 0.4974 - val_accuracy: 0.9147\n",
      "Epoch 18/30\n",
      "1500/1500 [==============================] - 43s 29ms/step - loss: 0.0194 - accuracy: 0.9940 - val_loss: 0.4877 - val_accuracy: 0.9162\n",
      "Epoch 19/30\n",
      "1500/1500 [==============================] - 43s 29ms/step - loss: 0.0199 - accuracy: 0.9929 - val_loss: 0.5222 - val_accuracy: 0.9136\n",
      "Epoch 20/30\n",
      "1500/1500 [==============================] - 44s 29ms/step - loss: 0.0174 - accuracy: 0.9943 - val_loss: 0.5328 - val_accuracy: 0.9152\n",
      "Epoch 21/30\n",
      "1500/1500 [==============================] - 44s 30ms/step - loss: 0.0177 - accuracy: 0.9945 - val_loss: 0.5960 - val_accuracy: 0.9111\n",
      "Epoch 22/30\n",
      "1500/1500 [==============================] - 44s 29ms/step - loss: 0.0144 - accuracy: 0.9952 - val_loss: 0.5573 - val_accuracy: 0.9184\n",
      "Epoch 23/30\n",
      "1500/1500 [==============================] - 43s 29ms/step - loss: 0.0113 - accuracy: 0.9962 - val_loss: 0.6054 - val_accuracy: 0.9085\n",
      "Epoch 24/30\n",
      "1500/1500 [==============================] - 43s 29ms/step - loss: 0.0126 - accuracy: 0.9957 - val_loss: 0.6172 - val_accuracy: 0.9127\n",
      "Epoch 25/30\n",
      "1500/1500 [==============================] - 43s 29ms/step - loss: 0.0161 - accuracy: 0.9943 - val_loss: 0.6466 - val_accuracy: 0.9130\n",
      "Epoch 26/30\n",
      "1500/1500 [==============================] - 44s 29ms/step - loss: 0.0144 - accuracy: 0.9952 - val_loss: 0.6323 - val_accuracy: 0.9143\n",
      "Epoch 27/30\n",
      "1500/1500 [==============================] - 43s 29ms/step - loss: 0.0101 - accuracy: 0.9970 - val_loss: 0.6177 - val_accuracy: 0.9142\n",
      "Epoch 28/30\n",
      "1500/1500 [==============================] - 43s 29ms/step - loss: 0.0139 - accuracy: 0.9951 - val_loss: 0.6394 - val_accuracy: 0.9146\n",
      "Epoch 29/30\n",
      "1500/1500 [==============================] - 47s 31ms/step - loss: 0.0094 - accuracy: 0.9969 - val_loss: 0.6627 - val_accuracy: 0.9115\n",
      "Epoch 30/30\n",
      "1500/1500 [==============================] - 46s 31ms/step - loss: 0.0127 - accuracy: 0.9956 - val_loss: 0.6697 - val_accuracy: 0.9141\n"
     ]
    }
   ],
   "source": [
    "historyCNN = modelCNN.fit(x_train, y_train, \n",
    "                    batch_size=32, \n",
    "                    epochs=30,\n",
    "                    validation_split=0.2,\n",
    "                    verbose=1)"
   ]
  },
  {
   "cell_type": "code",
   "execution_count": 20,
   "id": "ad085117",
   "metadata": {},
   "outputs": [
    {
     "data": {
      "text/plain": [
       "<matplotlib.legend.Legend at 0x1eb9f91d640>"
      ]
     },
     "execution_count": 20,
     "metadata": {},
     "output_type": "execute_result"
    },
    {
     "data": {
      "image/png": "[encoded data removed]",
      "text/plain": [
       "<Figure size 432x288 with 1 Axes>"
      ]
     },
     "metadata": {},
     "output_type": "display_data"
    }
   ],
   "source": [
    "# строим графики потерь и точности\n",
    "N = np.arange(0, 30)\n",
    "plt.style.use(\"ggplot\")\n",
    "plt.figure()\n",
    "plt.plot(N, historyCNN.history[\"loss\"], label=\"train_loss\")\n",
    "plt.plot(N, historyCNN.history[\"val_loss\"], label=\"val_loss\")\n",
    "#plt.plot(N, historyCNN.history[\"accuracy\"], label=\"train_acc\")\n",
    "#plt.plot(N, historyCNN.history[\"val_accuracy\"], label=\"val_acc\")\n",
    "plt.title(\"Training and Validation Loss  (Simple NN)\")\n",
    "plt.xlabel(\"Epoch #\")\n",
    "plt.ylabel(\"Loss/Accuracy\")\n",
    "plt.legend()\n",
    "#plt.savefig(args[\"plot\"])"
   ]
  },
  {
   "cell_type": "code",
   "execution_count": 21,
   "id": "6456dbf9",
   "metadata": {},
   "outputs": [
    {
     "data": {
      "text/plain": [
       "<matplotlib.legend.Legend at 0x1eb9f9b2070>"
      ]
     },
     "execution_count": 21,
     "metadata": {},
     "output_type": "execute_result"
    },
    {
     "data": {
      "image/png": "[encoded data removed]",
      "text/plain": [
       "<Figure size 432x288 with 1 Axes>"
      ]
     },
     "metadata": {},
     "output_type": "display_data"
    }
   ],
   "source": [
    "# строим графики потерь и точности\n",
    "N = np.arange(0, 30)\n",
    "plt.style.use(\"ggplot\")\n",
    "plt.figure()\n",
    "#plt.plot(N, historyCNN.history[\"loss\"], label=\"train_loss\")\n",
    "#plt.plot(N, historyCNN.history[\"val_loss\"], label=\"val_loss\")\n",
    "plt.plot(N, historyCNN.history[\"accuracy\"], label=\"train_acc\")\n",
    "plt.plot(N, historyCNN.history[\"val_accuracy\"], label=\"val_acc\")\n",
    "plt.title(\"Training and Validation Loss  (Simple NN)\")\n",
    "plt.xlabel(\"Epoch #\")\n",
    "plt.ylabel(\"Loss/Accuracy\")\n",
    "plt.legend()\n",
    "#plt.savefig(args[\"plot\"])"
   ]
  },
  {
   "cell_type": "markdown",
   "id": "7897015d",
   "metadata": {},
   "source": [
    "# 2 сверточных слоя"
   ]
  },
  {
   "cell_type": "code",
   "execution_count": 56,
   "id": "18cdc2cd",
   "metadata": {},
   "outputs": [],
   "source": [
    "modelCNN2 = Sequential()"
   ]
  },
  {
   "cell_type": "code",
   "execution_count": 57,
   "id": "2a597ccb",
   "metadata": {},
   "outputs": [],
   "source": [
    "modelCNN2.add(Conv2D(32, kernel_size=3, padding='same', activation='relu', input_shape=(28,28,1)))"
   ]
  },
  {
   "cell_type": "code",
   "execution_count": 58,
   "id": "6b2778b4",
   "metadata": {},
   "outputs": [],
   "source": [
    "modelCNN2.add(MaxPooling2D((2, 2), strides=2))"
   ]
  },
  {
   "cell_type": "code",
   "execution_count": 59,
   "id": "011ef6d9",
   "metadata": {},
   "outputs": [],
   "source": [
    "modelCNN2.add(Conv2D(64, kernel_size=3, padding='same', activation='relu', input_shape=(28,28,1)))"
   ]
  },
  {
   "cell_type": "code",
   "execution_count": 60,
   "id": "bf090311",
   "metadata": {},
   "outputs": [],
   "source": [
    "modelCNN2.add(MaxPooling2D((2, 2), strides=2))"
   ]
  },
  {
   "cell_type": "code",
   "execution_count": 61,
   "id": "76924301",
   "metadata": {},
   "outputs": [],
   "source": [
    "modelCNN2.add(Flatten())"
   ]
  },
  {
   "cell_type": "code",
   "execution_count": 62,
   "id": "52a696cf",
   "metadata": {},
   "outputs": [],
   "source": [
    "modelCNN2.add(Dense(128, activation='relu'))"
   ]
  },
  {
   "cell_type": "code",
   "execution_count": 63,
   "id": "21077db1",
   "metadata": {},
   "outputs": [],
   "source": [
    "modelCNN2.add(Dense(10, activation='softmax'))"
   ]
  },
  {
   "cell_type": "code",
   "execution_count": 64,
   "id": "ab9d1384",
   "metadata": {},
   "outputs": [
    {
     "name": "stdout",
     "output_type": "stream",
     "text": [
      "Model: \"sequential_5\"\n",
      "_________________________________________________________________\n",
      " Layer (type)                Output Shape              Param #   \n",
      "=================================================================\n",
      " conv2d_9 (Conv2D)           (None, 28, 28, 32)        320       \n",
      "                                                                 \n",
      " max_pooling2d_9 (MaxPooling  (None, 14, 14, 32)       0         \n",
      " 2D)                                                             \n",
      "                                                                 \n",
      " conv2d_10 (Conv2D)          (None, 14, 14, 64)        18496     \n",
      "                                                                 \n",
      " max_pooling2d_10 (MaxPoolin  (None, 7, 7, 64)         0         \n",
      " g2D)                                                            \n",
      "                                                                 \n",
      " flatten_5 (Flatten)         (None, 3136)              0         \n",
      "                                                                 \n",
      " dense_9 (Dense)             (None, 128)               401536    \n",
      "                                                                 \n",
      " dense_10 (Dense)            (None, 10)                1290      \n",
      "                                                                 \n",
      "=================================================================\n",
      "Total params: 421,642\n",
      "Trainable params: 421,642\n",
      "Non-trainable params: 0\n",
      "_________________________________________________________________\n",
      "None\n"
     ]
    }
   ],
   "source": [
    "print(modelCNN2.summary())"
   ]
  },
  {
   "cell_type": "markdown",
   "id": "e4f8f371",
   "metadata": {},
   "source": [
    "Смотрите, первый слой содержит 320 параметров, второй – 18496, следующий слой полносвязной НС – 401536 и последний – 1290. Почему получаются такие величины? В первом слое у нас 32 фильтра и каждый имеет 10 весовых коэффициентов, всего 320 параметров:"
   ]
  },
  {
   "cell_type": "code",
   "execution_count": 5,
   "id": "7e3220aa",
   "metadata": {},
   "outputs": [
    {
     "data": {
      "image/png": "[encoded data removed]",
      "text/plain": [
       "<IPython.core.display.Image object>"
      ]
     },
     "execution_count": 5,
     "metadata": {},
     "output_type": "execute_result"
    }
   ],
   "source": [
    "Image(filename='w1.png')"
   ]
  },
  {
   "cell_type": "markdown",
   "id": "6326254b",
   "metadata": {},
   "source": [
    "На вход следующего слоя подается 32-канальный тензор. Он обрабатывается 64 различными фильтрами. Каждый фильтр состоит из ядра 3х3х10 плюс смещение, то есть, всего имеем:"
   ]
  },
  {
   "cell_type": "code",
   "execution_count": 6,
   "id": "563b3dc9",
   "metadata": {},
   "outputs": [
    {
     "data": {
      "image/png": "[encoded data removed]",
      "text/plain": [
       "<IPython.core.display.Image object>"
      ]
     },
     "execution_count": 6,
     "metadata": {},
     "output_type": "execute_result"
    }
   ],
   "source": [
    "Image(filename='w2.png')"
   ]
  },
  {
   "cell_type": "markdown",
   "id": "a3bca9a4",
   "metadata": {},
   "source": [
    "На следующий полносвязный слой подается тензор 7х7х64, вытянутый в вектор, то есть, имеем:"
   ]
  },
  {
   "cell_type": "markdown",
   "id": "a7998446",
   "metadata": {},
   "source": [
    "$$7 \\cdot 7 \\cdot 64 + 1 = 3137$$"
   ]
  },
  {
   "cell_type": "markdown",
   "id": "b1216580",
   "metadata": {},
   "source": [
    "нейронов (плюс один биас). Все эти нейроны соединены со всеми 128 нейронами следующего слоя. Получаем число связей:"
   ]
  },
  {
   "cell_type": "markdown",
   "id": "f0cda36d",
   "metadata": {},
   "source": [
    "$$3137 \\cdot 128 = 401 536$$"
   ]
  },
  {
   "cell_type": "markdown",
   "id": "f0e508e0",
   "metadata": {},
   "source": [
    "И, аналогично для последнего слоя. Здесь 128 нейронов плюс биас:"
   ]
  },
  {
   "cell_type": "markdown",
   "id": "0ed0df05",
   "metadata": {},
   "source": [
    "$$128 + 1 = 129$$"
   ]
  },
  {
   "cell_type": "markdown",
   "id": "b11126b1",
   "metadata": {},
   "source": [
    "связаны со всеми 10 выходными нейронами:"
   ]
  },
  {
   "cell_type": "markdown",
   "id": "ac60d5d7",
   "metadata": {},
   "source": [
    "$$129 \\cdot 10 = 1290$$"
   ]
  },
  {
   "cell_type": "markdown",
   "id": "59a087be",
   "metadata": {},
   "source": [
    "Давайте теперь обучим эту сеть и посмотрим на результаты ее работы."
   ]
  },
  {
   "cell_type": "markdown",
   "id": "2db9bde2",
   "metadata": {},
   "source": [
    "# Адам: метод стохастической оптимизации\n",
    "modelCNN2.compile(optimizer='adam', loss='categorical_crossentropy', metrics=['accuracy'])"
   ]
  },
  {
   "cell_type": "markdown",
   "id": "66b8b7e0",
   "metadata": {},
   "source": [
    "Обучение модели"
   ]
  },
  {
   "cell_type": "code",
   "execution_count": 66,
   "id": "9831b84a",
   "metadata": {
    "scrolled": true
   },
   "outputs": [
    {
     "name": "stdout",
     "output_type": "stream",
     "text": [
      "Epoch 1/30\n",
      "1500/1500 [==============================] - 42s 28ms/step - loss: 0.4231 - accuracy: 0.8489 - val_loss: 0.3263 - val_accuracy: 0.8808\n",
      "Epoch 2/30\n",
      "1500/1500 [==============================] - 42s 28ms/step - loss: 0.2790 - accuracy: 0.9001 - val_loss: 0.2884 - val_accuracy: 0.8919\n",
      "Epoch 3/30\n",
      "1500/1500 [==============================] - 43s 28ms/step - loss: 0.2344 - accuracy: 0.9142 - val_loss: 0.2477 - val_accuracy: 0.9082\n",
      "Epoch 4/30\n",
      "1500/1500 [==============================] - 43s 29ms/step - loss: 0.2000 - accuracy: 0.9260 - val_loss: 0.2281 - val_accuracy: 0.9168\n",
      "Epoch 5/30\n",
      "1500/1500 [==============================] - 43s 28ms/step - loss: 0.1708 - accuracy: 0.9366 - val_loss: 0.2318 - val_accuracy: 0.9169\n",
      "Epoch 6/30\n",
      "1500/1500 [==============================] - 44s 29ms/step - loss: 0.1462 - accuracy: 0.9472 - val_loss: 0.2450 - val_accuracy: 0.9155\n",
      "Epoch 7/30\n",
      "1500/1500 [==============================] - 43s 29ms/step - loss: 0.1236 - accuracy: 0.9535 - val_loss: 0.2610 - val_accuracy: 0.9136\n",
      "Epoch 8/30\n",
      "1500/1500 [==============================] - 45s 30ms/step - loss: 0.1038 - accuracy: 0.9623 - val_loss: 0.2470 - val_accuracy: 0.9193\n",
      "Epoch 9/30\n",
      "1500/1500 [==============================] - 51s 34ms/step - loss: 0.0860 - accuracy: 0.9685 - val_loss: 0.2832 - val_accuracy: 0.9158\n",
      "Epoch 10/30\n",
      "1500/1500 [==============================] - 47s 32ms/step - loss: 0.0719 - accuracy: 0.9733 - val_loss: 0.2832 - val_accuracy: 0.9209\n",
      "Epoch 11/30\n",
      "1500/1500 [==============================] - 43s 29ms/step - loss: 0.0611 - accuracy: 0.9773 - val_loss: 0.3303 - val_accuracy: 0.9158\n",
      "Epoch 12/30\n",
      "1500/1500 [==============================] - 44s 30ms/step - loss: 0.0486 - accuracy: 0.9824 - val_loss: 0.3304 - val_accuracy: 0.9196\n",
      "Epoch 13/30\n",
      "1500/1500 [==============================] - 43s 28ms/step - loss: 0.0429 - accuracy: 0.9837 - val_loss: 0.3572 - val_accuracy: 0.9173\n",
      "Epoch 14/30\n",
      "1500/1500 [==============================] - 43s 29ms/step - loss: 0.0384 - accuracy: 0.9858 - val_loss: 0.3804 - val_accuracy: 0.9149\n",
      "Epoch 15/30\n",
      "1500/1500 [==============================] - 47s 31ms/step - loss: 0.0350 - accuracy: 0.9874 - val_loss: 0.4293 - val_accuracy: 0.9168\n",
      "Epoch 16/30\n",
      "1500/1500 [==============================] - 46s 31ms/step - loss: 0.0329 - accuracy: 0.9877 - val_loss: 0.4186 - val_accuracy: 0.9172\n",
      "Epoch 17/30\n",
      "1500/1500 [==============================] - 47s 31ms/step - loss: 0.0270 - accuracy: 0.9906 - val_loss: 0.4302 - val_accuracy: 0.9093\n",
      "Epoch 18/30\n",
      "1500/1500 [==============================] - 46s 31ms/step - loss: 0.0246 - accuracy: 0.9911 - val_loss: 0.4916 - val_accuracy: 0.9160\n",
      "Epoch 19/30\n",
      "1500/1500 [==============================] - 45s 30ms/step - loss: 0.0252 - accuracy: 0.9910 - val_loss: 0.4887 - val_accuracy: 0.9187\n",
      "Epoch 20/30\n",
      "1500/1500 [==============================] - 44s 29ms/step - loss: 0.0221 - accuracy: 0.9922 - val_loss: 0.5126 - val_accuracy: 0.9162\n",
      "Epoch 21/30\n",
      "1500/1500 [==============================] - 47s 31ms/step - loss: 0.0203 - accuracy: 0.9928 - val_loss: 0.5186 - val_accuracy: 0.9193\n",
      "Epoch 22/30\n",
      "1500/1500 [==============================] - 46s 31ms/step - loss: 0.0174 - accuracy: 0.9940 - val_loss: 0.5589 - val_accuracy: 0.9161\n",
      "Epoch 23/30\n",
      "1500/1500 [==============================] - 46s 31ms/step - loss: 0.0229 - accuracy: 0.9922 - val_loss: 0.5701 - val_accuracy: 0.9167\n",
      "Epoch 24/30\n",
      "1500/1500 [==============================] - 47s 31ms/step - loss: 0.0169 - accuracy: 0.9942 - val_loss: 0.6195 - val_accuracy: 0.9120\n",
      "Epoch 25/30\n",
      "1500/1500 [==============================] - 47s 31ms/step - loss: 0.0203 - accuracy: 0.9929 - val_loss: 0.5463 - val_accuracy: 0.9157\n",
      "Epoch 26/30\n",
      "1500/1500 [==============================] - 47s 31ms/step - loss: 0.0158 - accuracy: 0.9947 - val_loss: 0.6409 - val_accuracy: 0.9115\n",
      "Epoch 27/30\n",
      "1500/1500 [==============================] - 43s 29ms/step - loss: 0.0157 - accuracy: 0.9945 - val_loss: 0.6257 - val_accuracy: 0.9132\n",
      "Epoch 28/30\n",
      "1500/1500 [==============================] - 43s 29ms/step - loss: 0.0154 - accuracy: 0.9947 - val_loss: 0.6346 - val_accuracy: 0.9163\n",
      "Epoch 29/30\n",
      "1500/1500 [==============================] - 40s 27ms/step - loss: 0.0178 - accuracy: 0.9940 - val_loss: 0.6297 - val_accuracy: 0.9196\n",
      "Epoch 30/30\n",
      "1500/1500 [==============================] - 41s 27ms/step - loss: 0.0153 - accuracy: 0.9949 - val_loss: 0.6409 - val_accuracy: 0.9171\n"
     ]
    }
   ],
   "source": [
    "historyCNN2 = modelCNN2.fit(x_train, y_train, \n",
    "                    batch_size=32, \n",
    "                    epochs=30,\n",
    "                    validation_split=0.2,\n",
    "                    verbose=1)"
   ]
  },
  {
   "cell_type": "code",
   "execution_count": 72,
   "id": "25c9ee77",
   "metadata": {},
   "outputs": [
    {
     "name": "stdout",
     "output_type": "stream",
     "text": [
      "313/313 [==============================] - 3s 9ms/step - loss: 0.6787 - accuracy: 0.9118\n"
     ]
    },
    {
     "data": {
      "text/plain": [
       "[0.6786743402481079, 0.9118000268936157]"
      ]
     },
     "execution_count": 72,
     "metadata": {},
     "output_type": "execute_result"
    }
   ],
   "source": [
    "modelCNN2.evaluate(x_test, y_test, verbose=1)"
   ]
  },
  {
   "cell_type": "code",
   "execution_count": 68,
   "id": "8ccc95b2",
   "metadata": {},
   "outputs": [
    {
     "data": {
      "text/plain": [
       "<matplotlib.legend.Legend at 0x1eb9670b160>"
      ]
     },
     "execution_count": 68,
     "metadata": {},
     "output_type": "execute_result"
    },
    {
     "data": {
      "image/png": "[encoded data removed]",
      "text/plain": [
       "<Figure size 432x288 with 1 Axes>"
      ]
     },
     "metadata": {},
     "output_type": "display_data"
    }
   ],
   "source": [
    "# строим графики потерь и точности\n",
    "N = np.arange(0, 30)\n",
    "plt.style.use(\"ggplot\")\n",
    "plt.figure()\n",
    "plt.plot(N, historyCNN2.history[\"loss\"], label=\"train_loss\")\n",
    "plt.plot(N, historyCNN2.history[\"val_loss\"], label=\"val_loss\")\n",
    "#plt.plot(N, historyCNN2.history[\"accuracy\"], label=\"train_acc\")\n",
    "#plt.plot(N, historyCNN2.history[\"val_accuracy\"], label=\"val_acc\")\n",
    "plt.title(\"Training and Validation Loss  (Simple NN)\")\n",
    "plt.xlabel(\"Epoch #\")\n",
    "plt.ylabel(\"Loss/Accuracy\")\n",
    "plt.legend()\n",
    "#plt.savefig(args[\"plot\"])"
   ]
  },
  {
   "cell_type": "code",
   "execution_count": 69,
   "id": "7818777b",
   "metadata": {},
   "outputs": [
    {
     "data": {
      "text/plain": [
       "<matplotlib.legend.Legend at 0x1eb96767760>"
      ]
     },
     "execution_count": 69,
     "metadata": {},
     "output_type": "execute_result"
    },
    {
     "data": {
      "image/png": "[encoded data removed]",
      "text/plain": [
       "<Figure size 432x288 with 1 Axes>"
      ]
     },
     "metadata": {},
     "output_type": "display_data"
    }
   ],
   "source": [
    "# строим графики потерь и точности\n",
    "N = np.arange(0, 30)\n",
    "plt.style.use(\"ggplot\")\n",
    "plt.figure()\n",
    "#plt.plot(N, historyCNN2.history[\"loss\"], label=\"train_loss\")\n",
    "#plt.plot(N, historyCNN2.history[\"val_loss\"], label=\"val_loss\")\n",
    "plt.plot(N, historyCNN2.history[\"accuracy\"], label=\"train_acc\")\n",
    "plt.plot(N, historyCNN2.history[\"val_accuracy\"], label=\"val_acc\")\n",
    "plt.title(\"Training and Validation Loss  (Simple NN)\")\n",
    "plt.xlabel(\"Epoch #\")\n",
    "plt.ylabel(\"Loss/Accuracy\")\n",
    "plt.legend()\n",
    "#plt.savefig(args[\"plot\"])"
   ]
  },
  {
   "cell_type": "markdown",
   "id": "39e0bd06",
   "metadata": {},
   "source": [
    "### визуализируем весовые коэффициенты для каждого отдельного сверточного слоя (с ядрами 8 на 8 для удобства). После одной эпохи обучения на первом слое получились вот такие коэффициенты:"
   ]
  },
  {
   "cell_type": "code",
   "execution_count": 7,
   "id": "86a456a5",
   "metadata": {},
   "outputs": [
    {
     "data": {
      "image/png": "[encoded data removed]",
      "text/plain": [
       "<IPython.core.display.Image object>"
      ]
     },
     "execution_count": 7,
     "metadata": {},
     "output_type": "execute_result"
    }
   ],
   "source": [
    "Image(filename='kernels.png')"
   ]
  }
 ],
 "metadata": {
  "kernelspec": {
   "display_name": "Python 3",
   "language": "python",
   "name": "python3"
  },
  "language_info": {
   "codemirror_mode": {
    "name": "ipython",
    "version": 3
   },
   "file_extension": ".py",
   "mimetype": "text/x-python",
   "name": "python",
   "nbconvert_exporter": "python",
   "pygments_lexer": "ipython3",
   "version": "3.8.8"
  }
 },
 "nbformat": 4,
 "nbformat_minor": 5
}
